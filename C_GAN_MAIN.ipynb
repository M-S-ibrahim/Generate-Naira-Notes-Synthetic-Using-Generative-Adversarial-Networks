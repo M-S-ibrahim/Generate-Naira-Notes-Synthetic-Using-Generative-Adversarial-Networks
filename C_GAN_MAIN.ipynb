{
  "nbformat": 4,
  "nbformat_minor": 0,
  "metadata": {
    "colab": {
      "provenance": [],
      "mount_file_id": "1PVlqc_aGfv7AAcTxBBcRfs2Ht7vE2xQr",
      "authorship_tag": "ABX9TyMIS9r+oOGITUklKbevHeBf",
      "include_colab_link": true
    },
    "kernelspec": {
      "name": "python3",
      "display_name": "Python 3"
    },
    "language_info": {
      "name": "python"
    }
  },
  "cells": [
    {
      "cell_type": "markdown",
      "metadata": {
        "id": "view-in-github",
        "colab_type": "text"
      },
      "source": [
        "<a href=\"https://colab.research.google.com/github/M-S-ibrahim/Generate-Naira-Notes-Synthetic-Using-Generative-Adversarial-Networks/blob/main/C_GAN_MAIN.ipynb\" target=\"_parent\"><img src=\"https://colab.research.google.com/assets/colab-badge.svg\" alt=\"Open In Colab\"/></a>"
      ]
    },
    {
      "cell_type": "code",
      "execution_count": 24,
      "metadata": {
        "id": "t-LEUJTnV6-3"
      },
      "outputs": [],
      "source": [
        "import os\n",
        "import time\n",
        "import numpy as np\n",
        "import tensorflow as tf\n",
        "from tensorflow.keras.models import Model\n",
        "from tensorflow.keras.layers import Input, Embedding, Flatten, Dense, Reshape, Concatenate, UpSampling2D, Conv2D, BatchNormalization, LeakyReLU, Activation, Dropout\n",
        "from tensorflow.keras.optimizers import Adam\n",
        "from tensorflow.keras.losses import BinaryCrossentropy\n",
        "import matplotlib.pyplot as plt"
      ]
    },
    {
      "cell_type": "code",
      "source": [
        "NUM_CLASSES = 8  # Number of Naira denominations (5, 10, 20, 50, 100, 200, 500, 1000)\n",
        "LATENT_DIM = 128  # Size of the latent noise vector\n",
        "IMG_HEIGHT, IMG_WIDTH, IMG_CHANNELS = 28, 28, 3  # Target image size\n",
        "BATCH_SIZE = 64  # Batch size for training\n",
        "EPOCHS = 50  # Number of training epochs\n",
        "NUM_EXAMPLES_TO_GENERATE = 16  # For visualization"
      ],
      "metadata": {
        "id": "f9_Y1ZGnV9uN"
      },
      "execution_count": 25,
      "outputs": []
    },
    {
      "cell_type": "code",
      "source": [
        "def denomination_generator(latent_dim=LATENT_DIM, num_denominations=NUM_CLASSES, embed_dim=50):\n",
        "    # Noise input\n",
        "    noise_input = Input(shape=(latent_dim,), name=\"noise_input\")\n",
        "\n",
        "    # Label input (integer representing denomination)\n",
        "    label_input = Input(shape=(1,), dtype='int32', name=\"denomination_label\")\n",
        "    label_embedding = Embedding(input_dim=num_denominations, output_dim=embed_dim)(label_input)\n",
        "    label_embedding = Flatten()(label_embedding)\n",
        "\n",
        "    # Combine noise and label embedding\n",
        "    combined_input = Concatenate()([noise_input, label_embedding])\n",
        "\n",
        "    # Project to 7x7x256\n",
        "    x = Dense(7 * 7 * 256)(combined_input)\n",
        "    x = BatchNormalization()(x)\n",
        "    x = LeakyReLU(alpha=0.2)(x)\n",
        "    x = Reshape((7, 7, 256))(x)\n",
        "\n",
        "    # Upsampling Block 1: 7x7 -> 14x14\n",
        "    x = UpSampling2D()(x)\n",
        "    x = Conv2D(128, kernel_size=5, padding='same')(x)\n",
        "    x = BatchNormalization()(x)\n",
        "    x = LeakyReLU(alpha=0.2)(x)\n",
        "\n",
        "    # Upsampling Block 2: 14x14 -> 28x28\n",
        "    x = UpSampling2D()(x)\n",
        "    x = Conv2D(64, kernel_size=5, padding='same')(x)\n",
        "    x = BatchNormalization()(x)\n",
        "    x = LeakyReLU(alpha=0.2)(x)\n",
        "\n",
        "    # Output layer: 28x28x3 image with tanh activation ([-1, 1] range)\n",
        "    x = Conv2D(3, kernel_size=3, padding='same')(x)\n",
        "    output = Activation('tanh')(x)\n",
        "\n",
        "    model = Model(inputs=[noise_input, label_input], outputs=output)\n",
        "    return model\n",
        "\n",
        "# Instantiate and check\n",
        "denomination_generator = denomination_generator()\n",
        "denomination_generator.summary()"
      ],
      "metadata": {
        "colab": {
          "base_uri": "https://localhost:8080/",
          "height": 956
        },
        "id": "2OH-GfC5WBKt",
        "outputId": "b223441a-59c8-4368-ede3-5849517a34ae"
      },
      "execution_count": 26,
      "outputs": [
        {
          "output_type": "stream",
          "name": "stderr",
          "text": [
            "/usr/local/lib/python3.11/dist-packages/keras/src/layers/activations/leaky_relu.py:41: UserWarning: Argument `alpha` is deprecated. Use `negative_slope` instead.\n",
            "  warnings.warn(\n"
          ]
        },
        {
          "output_type": "display_data",
          "data": {
            "text/plain": [
              "\u001b[1mModel: \"functional_2\"\u001b[0m\n"
            ],
            "text/html": [
              "<pre style=\"white-space:pre;overflow-x:auto;line-height:normal;font-family:Menlo,'DejaVu Sans Mono',consolas,'Courier New',monospace\"><span style=\"font-weight: bold\">Model: \"functional_2\"</span>\n",
              "</pre>\n"
            ]
          },
          "metadata": {}
        },
        {
          "output_type": "display_data",
          "data": {
            "text/plain": [
              "┏━━━━━━━━━━━━━━━━━━━━━━━━━━━┳━━━━━━━━━━━━━━━━━━━━━━━━┳━━━━━━━━━━━━━━━━┳━━━━━━━━━━━━━━━━━━━━━━━━┓\n",
              "┃\u001b[1m \u001b[0m\u001b[1mLayer (type)             \u001b[0m\u001b[1m \u001b[0m┃\u001b[1m \u001b[0m\u001b[1mOutput Shape          \u001b[0m\u001b[1m \u001b[0m┃\u001b[1m \u001b[0m\u001b[1m       Param #\u001b[0m\u001b[1m \u001b[0m┃\u001b[1m \u001b[0m\u001b[1mConnected to          \u001b[0m\u001b[1m \u001b[0m┃\n",
              "┡━━━━━━━━━━━━━━━━━━━━━━━━━━━╇━━━━━━━━━━━━━━━━━━━━━━━━╇━━━━━━━━━━━━━━━━╇━━━━━━━━━━━━━━━━━━━━━━━━┩\n",
              "│ denomination_label        │ (\u001b[38;5;45mNone\u001b[0m, \u001b[38;5;34m1\u001b[0m)              │              \u001b[38;5;34m0\u001b[0m │ -                      │\n",
              "│ (\u001b[38;5;33mInputLayer\u001b[0m)              │                        │                │                        │\n",
              "├───────────────────────────┼────────────────────────┼────────────────┼────────────────────────┤\n",
              "│ embedding_2 (\u001b[38;5;33mEmbedding\u001b[0m)   │ (\u001b[38;5;45mNone\u001b[0m, \u001b[38;5;34m1\u001b[0m, \u001b[38;5;34m50\u001b[0m)          │            \u001b[38;5;34m400\u001b[0m │ denomination_label[\u001b[38;5;34m0\u001b[0m]… │\n",
              "├───────────────────────────┼────────────────────────┼────────────────┼────────────────────────┤\n",
              "│ noise_input (\u001b[38;5;33mInputLayer\u001b[0m)  │ (\u001b[38;5;45mNone\u001b[0m, \u001b[38;5;34m128\u001b[0m)            │              \u001b[38;5;34m0\u001b[0m │ -                      │\n",
              "├───────────────────────────┼────────────────────────┼────────────────┼────────────────────────┤\n",
              "│ flatten_3 (\u001b[38;5;33mFlatten\u001b[0m)       │ (\u001b[38;5;45mNone\u001b[0m, \u001b[38;5;34m50\u001b[0m)             │              \u001b[38;5;34m0\u001b[0m │ embedding_2[\u001b[38;5;34m0\u001b[0m][\u001b[38;5;34m0\u001b[0m]      │\n",
              "├───────────────────────────┼────────────────────────┼────────────────┼────────────────────────┤\n",
              "│ concatenate_2             │ (\u001b[38;5;45mNone\u001b[0m, \u001b[38;5;34m178\u001b[0m)            │              \u001b[38;5;34m0\u001b[0m │ noise_input[\u001b[38;5;34m0\u001b[0m][\u001b[38;5;34m0\u001b[0m],     │\n",
              "│ (\u001b[38;5;33mConcatenate\u001b[0m)             │                        │                │ flatten_3[\u001b[38;5;34m0\u001b[0m][\u001b[38;5;34m0\u001b[0m]        │\n",
              "├───────────────────────────┼────────────────────────┼────────────────┼────────────────────────┤\n",
              "│ dense_3 (\u001b[38;5;33mDense\u001b[0m)           │ (\u001b[38;5;45mNone\u001b[0m, \u001b[38;5;34m12544\u001b[0m)          │      \u001b[38;5;34m2,245,376\u001b[0m │ concatenate_2[\u001b[38;5;34m0\u001b[0m][\u001b[38;5;34m0\u001b[0m]    │\n",
              "├───────────────────────────┼────────────────────────┼────────────────┼────────────────────────┤\n",
              "│ batch_normalization_5     │ (\u001b[38;5;45mNone\u001b[0m, \u001b[38;5;34m12544\u001b[0m)          │         \u001b[38;5;34m50,176\u001b[0m │ dense_3[\u001b[38;5;34m0\u001b[0m][\u001b[38;5;34m0\u001b[0m]          │\n",
              "│ (\u001b[38;5;33mBatchNormalization\u001b[0m)      │                        │                │                        │\n",
              "├───────────────────────────┼────────────────────────┼────────────────┼────────────────────────┤\n",
              "│ leaky_re_lu_7 (\u001b[38;5;33mLeakyReLU\u001b[0m) │ (\u001b[38;5;45mNone\u001b[0m, \u001b[38;5;34m12544\u001b[0m)          │              \u001b[38;5;34m0\u001b[0m │ batch_normalization_5… │\n",
              "├───────────────────────────┼────────────────────────┼────────────────┼────────────────────────┤\n",
              "│ reshape_1 (\u001b[38;5;33mReshape\u001b[0m)       │ (\u001b[38;5;45mNone\u001b[0m, \u001b[38;5;34m7\u001b[0m, \u001b[38;5;34m7\u001b[0m, \u001b[38;5;34m256\u001b[0m)      │              \u001b[38;5;34m0\u001b[0m │ leaky_re_lu_7[\u001b[38;5;34m0\u001b[0m][\u001b[38;5;34m0\u001b[0m]    │\n",
              "├───────────────────────────┼────────────────────────┼────────────────┼────────────────────────┤\n",
              "│ up_sampling2d_2           │ (\u001b[38;5;45mNone\u001b[0m, \u001b[38;5;34m14\u001b[0m, \u001b[38;5;34m14\u001b[0m, \u001b[38;5;34m256\u001b[0m)    │              \u001b[38;5;34m0\u001b[0m │ reshape_1[\u001b[38;5;34m0\u001b[0m][\u001b[38;5;34m0\u001b[0m]        │\n",
              "│ (\u001b[38;5;33mUpSampling2D\u001b[0m)            │                        │                │                        │\n",
              "├───────────────────────────┼────────────────────────┼────────────────┼────────────────────────┤\n",
              "│ conv2d_6 (\u001b[38;5;33mConv2D\u001b[0m)         │ (\u001b[38;5;45mNone\u001b[0m, \u001b[38;5;34m14\u001b[0m, \u001b[38;5;34m14\u001b[0m, \u001b[38;5;34m128\u001b[0m)    │        \u001b[38;5;34m819,328\u001b[0m │ up_sampling2d_2[\u001b[38;5;34m0\u001b[0m][\u001b[38;5;34m0\u001b[0m]  │\n",
              "├───────────────────────────┼────────────────────────┼────────────────┼────────────────────────┤\n",
              "│ batch_normalization_6     │ (\u001b[38;5;45mNone\u001b[0m, \u001b[38;5;34m14\u001b[0m, \u001b[38;5;34m14\u001b[0m, \u001b[38;5;34m128\u001b[0m)    │            \u001b[38;5;34m512\u001b[0m │ conv2d_6[\u001b[38;5;34m0\u001b[0m][\u001b[38;5;34m0\u001b[0m]         │\n",
              "│ (\u001b[38;5;33mBatchNormalization\u001b[0m)      │                        │                │                        │\n",
              "├───────────────────────────┼────────────────────────┼────────────────┼────────────────────────┤\n",
              "│ leaky_re_lu_8 (\u001b[38;5;33mLeakyReLU\u001b[0m) │ (\u001b[38;5;45mNone\u001b[0m, \u001b[38;5;34m14\u001b[0m, \u001b[38;5;34m14\u001b[0m, \u001b[38;5;34m128\u001b[0m)    │              \u001b[38;5;34m0\u001b[0m │ batch_normalization_6… │\n",
              "├───────────────────────────┼────────────────────────┼────────────────┼────────────────────────┤\n",
              "│ up_sampling2d_3           │ (\u001b[38;5;45mNone\u001b[0m, \u001b[38;5;34m28\u001b[0m, \u001b[38;5;34m28\u001b[0m, \u001b[38;5;34m128\u001b[0m)    │              \u001b[38;5;34m0\u001b[0m │ leaky_re_lu_8[\u001b[38;5;34m0\u001b[0m][\u001b[38;5;34m0\u001b[0m]    │\n",
              "│ (\u001b[38;5;33mUpSampling2D\u001b[0m)            │                        │                │                        │\n",
              "├───────────────────────────┼────────────────────────┼────────────────┼────────────────────────┤\n",
              "│ conv2d_7 (\u001b[38;5;33mConv2D\u001b[0m)         │ (\u001b[38;5;45mNone\u001b[0m, \u001b[38;5;34m28\u001b[0m, \u001b[38;5;34m28\u001b[0m, \u001b[38;5;34m64\u001b[0m)     │        \u001b[38;5;34m204,864\u001b[0m │ up_sampling2d_3[\u001b[38;5;34m0\u001b[0m][\u001b[38;5;34m0\u001b[0m]  │\n",
              "├───────────────────────────┼────────────────────────┼────────────────┼────────────────────────┤\n",
              "│ batch_normalization_7     │ (\u001b[38;5;45mNone\u001b[0m, \u001b[38;5;34m28\u001b[0m, \u001b[38;5;34m28\u001b[0m, \u001b[38;5;34m64\u001b[0m)     │            \u001b[38;5;34m256\u001b[0m │ conv2d_7[\u001b[38;5;34m0\u001b[0m][\u001b[38;5;34m0\u001b[0m]         │\n",
              "│ (\u001b[38;5;33mBatchNormalization\u001b[0m)      │                        │                │                        │\n",
              "├───────────────────────────┼────────────────────────┼────────────────┼────────────────────────┤\n",
              "│ leaky_re_lu_9 (\u001b[38;5;33mLeakyReLU\u001b[0m) │ (\u001b[38;5;45mNone\u001b[0m, \u001b[38;5;34m28\u001b[0m, \u001b[38;5;34m28\u001b[0m, \u001b[38;5;34m64\u001b[0m)     │              \u001b[38;5;34m0\u001b[0m │ batch_normalization_7… │\n",
              "├───────────────────────────┼────────────────────────┼────────────────┼────────────────────────┤\n",
              "│ conv2d_8 (\u001b[38;5;33mConv2D\u001b[0m)         │ (\u001b[38;5;45mNone\u001b[0m, \u001b[38;5;34m28\u001b[0m, \u001b[38;5;34m28\u001b[0m, \u001b[38;5;34m3\u001b[0m)      │          \u001b[38;5;34m1,731\u001b[0m │ leaky_re_lu_9[\u001b[38;5;34m0\u001b[0m][\u001b[38;5;34m0\u001b[0m]    │\n",
              "├───────────────────────────┼────────────────────────┼────────────────┼────────────────────────┤\n",
              "│ activation_1 (\u001b[38;5;33mActivation\u001b[0m) │ (\u001b[38;5;45mNone\u001b[0m, \u001b[38;5;34m28\u001b[0m, \u001b[38;5;34m28\u001b[0m, \u001b[38;5;34m3\u001b[0m)      │              \u001b[38;5;34m0\u001b[0m │ conv2d_8[\u001b[38;5;34m0\u001b[0m][\u001b[38;5;34m0\u001b[0m]         │\n",
              "└───────────────────────────┴────────────────────────┴────────────────┴────────────────────────┘\n"
            ],
            "text/html": [
              "<pre style=\"white-space:pre;overflow-x:auto;line-height:normal;font-family:Menlo,'DejaVu Sans Mono',consolas,'Courier New',monospace\">┏━━━━━━━━━━━━━━━━━━━━━━━━━━━┳━━━━━━━━━━━━━━━━━━━━━━━━┳━━━━━━━━━━━━━━━━┳━━━━━━━━━━━━━━━━━━━━━━━━┓\n",
              "┃<span style=\"font-weight: bold\"> Layer (type)              </span>┃<span style=\"font-weight: bold\"> Output Shape           </span>┃<span style=\"font-weight: bold\">        Param # </span>┃<span style=\"font-weight: bold\"> Connected to           </span>┃\n",
              "┡━━━━━━━━━━━━━━━━━━━━━━━━━━━╇━━━━━━━━━━━━━━━━━━━━━━━━╇━━━━━━━━━━━━━━━━╇━━━━━━━━━━━━━━━━━━━━━━━━┩\n",
              "│ denomination_label        │ (<span style=\"color: #00d7ff; text-decoration-color: #00d7ff\">None</span>, <span style=\"color: #00af00; text-decoration-color: #00af00\">1</span>)              │              <span style=\"color: #00af00; text-decoration-color: #00af00\">0</span> │ -                      │\n",
              "│ (<span style=\"color: #0087ff; text-decoration-color: #0087ff\">InputLayer</span>)              │                        │                │                        │\n",
              "├───────────────────────────┼────────────────────────┼────────────────┼────────────────────────┤\n",
              "│ embedding_2 (<span style=\"color: #0087ff; text-decoration-color: #0087ff\">Embedding</span>)   │ (<span style=\"color: #00d7ff; text-decoration-color: #00d7ff\">None</span>, <span style=\"color: #00af00; text-decoration-color: #00af00\">1</span>, <span style=\"color: #00af00; text-decoration-color: #00af00\">50</span>)          │            <span style=\"color: #00af00; text-decoration-color: #00af00\">400</span> │ denomination_label[<span style=\"color: #00af00; text-decoration-color: #00af00\">0</span>]… │\n",
              "├───────────────────────────┼────────────────────────┼────────────────┼────────────────────────┤\n",
              "│ noise_input (<span style=\"color: #0087ff; text-decoration-color: #0087ff\">InputLayer</span>)  │ (<span style=\"color: #00d7ff; text-decoration-color: #00d7ff\">None</span>, <span style=\"color: #00af00; text-decoration-color: #00af00\">128</span>)            │              <span style=\"color: #00af00; text-decoration-color: #00af00\">0</span> │ -                      │\n",
              "├───────────────────────────┼────────────────────────┼────────────────┼────────────────────────┤\n",
              "│ flatten_3 (<span style=\"color: #0087ff; text-decoration-color: #0087ff\">Flatten</span>)       │ (<span style=\"color: #00d7ff; text-decoration-color: #00d7ff\">None</span>, <span style=\"color: #00af00; text-decoration-color: #00af00\">50</span>)             │              <span style=\"color: #00af00; text-decoration-color: #00af00\">0</span> │ embedding_2[<span style=\"color: #00af00; text-decoration-color: #00af00\">0</span>][<span style=\"color: #00af00; text-decoration-color: #00af00\">0</span>]      │\n",
              "├───────────────────────────┼────────────────────────┼────────────────┼────────────────────────┤\n",
              "│ concatenate_2             │ (<span style=\"color: #00d7ff; text-decoration-color: #00d7ff\">None</span>, <span style=\"color: #00af00; text-decoration-color: #00af00\">178</span>)            │              <span style=\"color: #00af00; text-decoration-color: #00af00\">0</span> │ noise_input[<span style=\"color: #00af00; text-decoration-color: #00af00\">0</span>][<span style=\"color: #00af00; text-decoration-color: #00af00\">0</span>],     │\n",
              "│ (<span style=\"color: #0087ff; text-decoration-color: #0087ff\">Concatenate</span>)             │                        │                │ flatten_3[<span style=\"color: #00af00; text-decoration-color: #00af00\">0</span>][<span style=\"color: #00af00; text-decoration-color: #00af00\">0</span>]        │\n",
              "├───────────────────────────┼────────────────────────┼────────────────┼────────────────────────┤\n",
              "│ dense_3 (<span style=\"color: #0087ff; text-decoration-color: #0087ff\">Dense</span>)           │ (<span style=\"color: #00d7ff; text-decoration-color: #00d7ff\">None</span>, <span style=\"color: #00af00; text-decoration-color: #00af00\">12544</span>)          │      <span style=\"color: #00af00; text-decoration-color: #00af00\">2,245,376</span> │ concatenate_2[<span style=\"color: #00af00; text-decoration-color: #00af00\">0</span>][<span style=\"color: #00af00; text-decoration-color: #00af00\">0</span>]    │\n",
              "├───────────────────────────┼────────────────────────┼────────────────┼────────────────────────┤\n",
              "│ batch_normalization_5     │ (<span style=\"color: #00d7ff; text-decoration-color: #00d7ff\">None</span>, <span style=\"color: #00af00; text-decoration-color: #00af00\">12544</span>)          │         <span style=\"color: #00af00; text-decoration-color: #00af00\">50,176</span> │ dense_3[<span style=\"color: #00af00; text-decoration-color: #00af00\">0</span>][<span style=\"color: #00af00; text-decoration-color: #00af00\">0</span>]          │\n",
              "│ (<span style=\"color: #0087ff; text-decoration-color: #0087ff\">BatchNormalization</span>)      │                        │                │                        │\n",
              "├───────────────────────────┼────────────────────────┼────────────────┼────────────────────────┤\n",
              "│ leaky_re_lu_7 (<span style=\"color: #0087ff; text-decoration-color: #0087ff\">LeakyReLU</span>) │ (<span style=\"color: #00d7ff; text-decoration-color: #00d7ff\">None</span>, <span style=\"color: #00af00; text-decoration-color: #00af00\">12544</span>)          │              <span style=\"color: #00af00; text-decoration-color: #00af00\">0</span> │ batch_normalization_5… │\n",
              "├───────────────────────────┼────────────────────────┼────────────────┼────────────────────────┤\n",
              "│ reshape_1 (<span style=\"color: #0087ff; text-decoration-color: #0087ff\">Reshape</span>)       │ (<span style=\"color: #00d7ff; text-decoration-color: #00d7ff\">None</span>, <span style=\"color: #00af00; text-decoration-color: #00af00\">7</span>, <span style=\"color: #00af00; text-decoration-color: #00af00\">7</span>, <span style=\"color: #00af00; text-decoration-color: #00af00\">256</span>)      │              <span style=\"color: #00af00; text-decoration-color: #00af00\">0</span> │ leaky_re_lu_7[<span style=\"color: #00af00; text-decoration-color: #00af00\">0</span>][<span style=\"color: #00af00; text-decoration-color: #00af00\">0</span>]    │\n",
              "├───────────────────────────┼────────────────────────┼────────────────┼────────────────────────┤\n",
              "│ up_sampling2d_2           │ (<span style=\"color: #00d7ff; text-decoration-color: #00d7ff\">None</span>, <span style=\"color: #00af00; text-decoration-color: #00af00\">14</span>, <span style=\"color: #00af00; text-decoration-color: #00af00\">14</span>, <span style=\"color: #00af00; text-decoration-color: #00af00\">256</span>)    │              <span style=\"color: #00af00; text-decoration-color: #00af00\">0</span> │ reshape_1[<span style=\"color: #00af00; text-decoration-color: #00af00\">0</span>][<span style=\"color: #00af00; text-decoration-color: #00af00\">0</span>]        │\n",
              "│ (<span style=\"color: #0087ff; text-decoration-color: #0087ff\">UpSampling2D</span>)            │                        │                │                        │\n",
              "├───────────────────────────┼────────────────────────┼────────────────┼────────────────────────┤\n",
              "│ conv2d_6 (<span style=\"color: #0087ff; text-decoration-color: #0087ff\">Conv2D</span>)         │ (<span style=\"color: #00d7ff; text-decoration-color: #00d7ff\">None</span>, <span style=\"color: #00af00; text-decoration-color: #00af00\">14</span>, <span style=\"color: #00af00; text-decoration-color: #00af00\">14</span>, <span style=\"color: #00af00; text-decoration-color: #00af00\">128</span>)    │        <span style=\"color: #00af00; text-decoration-color: #00af00\">819,328</span> │ up_sampling2d_2[<span style=\"color: #00af00; text-decoration-color: #00af00\">0</span>][<span style=\"color: #00af00; text-decoration-color: #00af00\">0</span>]  │\n",
              "├───────────────────────────┼────────────────────────┼────────────────┼────────────────────────┤\n",
              "│ batch_normalization_6     │ (<span style=\"color: #00d7ff; text-decoration-color: #00d7ff\">None</span>, <span style=\"color: #00af00; text-decoration-color: #00af00\">14</span>, <span style=\"color: #00af00; text-decoration-color: #00af00\">14</span>, <span style=\"color: #00af00; text-decoration-color: #00af00\">128</span>)    │            <span style=\"color: #00af00; text-decoration-color: #00af00\">512</span> │ conv2d_6[<span style=\"color: #00af00; text-decoration-color: #00af00\">0</span>][<span style=\"color: #00af00; text-decoration-color: #00af00\">0</span>]         │\n",
              "│ (<span style=\"color: #0087ff; text-decoration-color: #0087ff\">BatchNormalization</span>)      │                        │                │                        │\n",
              "├───────────────────────────┼────────────────────────┼────────────────┼────────────────────────┤\n",
              "│ leaky_re_lu_8 (<span style=\"color: #0087ff; text-decoration-color: #0087ff\">LeakyReLU</span>) │ (<span style=\"color: #00d7ff; text-decoration-color: #00d7ff\">None</span>, <span style=\"color: #00af00; text-decoration-color: #00af00\">14</span>, <span style=\"color: #00af00; text-decoration-color: #00af00\">14</span>, <span style=\"color: #00af00; text-decoration-color: #00af00\">128</span>)    │              <span style=\"color: #00af00; text-decoration-color: #00af00\">0</span> │ batch_normalization_6… │\n",
              "├───────────────────────────┼────────────────────────┼────────────────┼────────────────────────┤\n",
              "│ up_sampling2d_3           │ (<span style=\"color: #00d7ff; text-decoration-color: #00d7ff\">None</span>, <span style=\"color: #00af00; text-decoration-color: #00af00\">28</span>, <span style=\"color: #00af00; text-decoration-color: #00af00\">28</span>, <span style=\"color: #00af00; text-decoration-color: #00af00\">128</span>)    │              <span style=\"color: #00af00; text-decoration-color: #00af00\">0</span> │ leaky_re_lu_8[<span style=\"color: #00af00; text-decoration-color: #00af00\">0</span>][<span style=\"color: #00af00; text-decoration-color: #00af00\">0</span>]    │\n",
              "│ (<span style=\"color: #0087ff; text-decoration-color: #0087ff\">UpSampling2D</span>)            │                        │                │                        │\n",
              "├───────────────────────────┼────────────────────────┼────────────────┼────────────────────────┤\n",
              "│ conv2d_7 (<span style=\"color: #0087ff; text-decoration-color: #0087ff\">Conv2D</span>)         │ (<span style=\"color: #00d7ff; text-decoration-color: #00d7ff\">None</span>, <span style=\"color: #00af00; text-decoration-color: #00af00\">28</span>, <span style=\"color: #00af00; text-decoration-color: #00af00\">28</span>, <span style=\"color: #00af00; text-decoration-color: #00af00\">64</span>)     │        <span style=\"color: #00af00; text-decoration-color: #00af00\">204,864</span> │ up_sampling2d_3[<span style=\"color: #00af00; text-decoration-color: #00af00\">0</span>][<span style=\"color: #00af00; text-decoration-color: #00af00\">0</span>]  │\n",
              "├───────────────────────────┼────────────────────────┼────────────────┼────────────────────────┤\n",
              "│ batch_normalization_7     │ (<span style=\"color: #00d7ff; text-decoration-color: #00d7ff\">None</span>, <span style=\"color: #00af00; text-decoration-color: #00af00\">28</span>, <span style=\"color: #00af00; text-decoration-color: #00af00\">28</span>, <span style=\"color: #00af00; text-decoration-color: #00af00\">64</span>)     │            <span style=\"color: #00af00; text-decoration-color: #00af00\">256</span> │ conv2d_7[<span style=\"color: #00af00; text-decoration-color: #00af00\">0</span>][<span style=\"color: #00af00; text-decoration-color: #00af00\">0</span>]         │\n",
              "│ (<span style=\"color: #0087ff; text-decoration-color: #0087ff\">BatchNormalization</span>)      │                        │                │                        │\n",
              "├───────────────────────────┼────────────────────────┼────────────────┼────────────────────────┤\n",
              "│ leaky_re_lu_9 (<span style=\"color: #0087ff; text-decoration-color: #0087ff\">LeakyReLU</span>) │ (<span style=\"color: #00d7ff; text-decoration-color: #00d7ff\">None</span>, <span style=\"color: #00af00; text-decoration-color: #00af00\">28</span>, <span style=\"color: #00af00; text-decoration-color: #00af00\">28</span>, <span style=\"color: #00af00; text-decoration-color: #00af00\">64</span>)     │              <span style=\"color: #00af00; text-decoration-color: #00af00\">0</span> │ batch_normalization_7… │\n",
              "├───────────────────────────┼────────────────────────┼────────────────┼────────────────────────┤\n",
              "│ conv2d_8 (<span style=\"color: #0087ff; text-decoration-color: #0087ff\">Conv2D</span>)         │ (<span style=\"color: #00d7ff; text-decoration-color: #00d7ff\">None</span>, <span style=\"color: #00af00; text-decoration-color: #00af00\">28</span>, <span style=\"color: #00af00; text-decoration-color: #00af00\">28</span>, <span style=\"color: #00af00; text-decoration-color: #00af00\">3</span>)      │          <span style=\"color: #00af00; text-decoration-color: #00af00\">1,731</span> │ leaky_re_lu_9[<span style=\"color: #00af00; text-decoration-color: #00af00\">0</span>][<span style=\"color: #00af00; text-decoration-color: #00af00\">0</span>]    │\n",
              "├───────────────────────────┼────────────────────────┼────────────────┼────────────────────────┤\n",
              "│ activation_1 (<span style=\"color: #0087ff; text-decoration-color: #0087ff\">Activation</span>) │ (<span style=\"color: #00d7ff; text-decoration-color: #00d7ff\">None</span>, <span style=\"color: #00af00; text-decoration-color: #00af00\">28</span>, <span style=\"color: #00af00; text-decoration-color: #00af00\">28</span>, <span style=\"color: #00af00; text-decoration-color: #00af00\">3</span>)      │              <span style=\"color: #00af00; text-decoration-color: #00af00\">0</span> │ conv2d_8[<span style=\"color: #00af00; text-decoration-color: #00af00\">0</span>][<span style=\"color: #00af00; text-decoration-color: #00af00\">0</span>]         │\n",
              "└───────────────────────────┴────────────────────────┴────────────────┴────────────────────────┘\n",
              "</pre>\n"
            ]
          },
          "metadata": {}
        },
        {
          "output_type": "display_data",
          "data": {
            "text/plain": [
              "\u001b[1m Total params: \u001b[0m\u001b[38;5;34m3,322,643\u001b[0m (12.67 MB)\n"
            ],
            "text/html": [
              "<pre style=\"white-space:pre;overflow-x:auto;line-height:normal;font-family:Menlo,'DejaVu Sans Mono',consolas,'Courier New',monospace\"><span style=\"font-weight: bold\"> Total params: </span><span style=\"color: #00af00; text-decoration-color: #00af00\">3,322,643</span> (12.67 MB)\n",
              "</pre>\n"
            ]
          },
          "metadata": {}
        },
        {
          "output_type": "display_data",
          "data": {
            "text/plain": [
              "\u001b[1m Trainable params: \u001b[0m\u001b[38;5;34m3,297,171\u001b[0m (12.58 MB)\n"
            ],
            "text/html": [
              "<pre style=\"white-space:pre;overflow-x:auto;line-height:normal;font-family:Menlo,'DejaVu Sans Mono',consolas,'Courier New',monospace\"><span style=\"font-weight: bold\"> Trainable params: </span><span style=\"color: #00af00; text-decoration-color: #00af00\">3,297,171</span> (12.58 MB)\n",
              "</pre>\n"
            ]
          },
          "metadata": {}
        },
        {
          "output_type": "display_data",
          "data": {
            "text/plain": [
              "\u001b[1m Non-trainable params: \u001b[0m\u001b[38;5;34m25,472\u001b[0m (99.50 KB)\n"
            ],
            "text/html": [
              "<pre style=\"white-space:pre;overflow-x:auto;line-height:normal;font-family:Menlo,'DejaVu Sans Mono',consolas,'Courier New',monospace\"><span style=\"font-weight: bold\"> Non-trainable params: </span><span style=\"color: #00af00; text-decoration-color: #00af00\">25,472</span> (99.50 KB)\n",
              "</pre>\n"
            ]
          },
          "metadata": {}
        }
      ]
    },
    {
      "cell_type": "code",
      "source": [
        "def discriminator(img_shape=(IMG_HEIGHT, IMG_WIDTH, IMG_CHANNELS), num_denominations=NUM_CLASSES, embed_dim=50):\n",
        "    # Image input\n",
        "    image_input = Input(shape=img_shape, name=\"image_input\")\n",
        "\n",
        "    # Convolutional layers\n",
        "    x = Conv2D(64, kernel_size=3, strides=2, padding='same')(image_input)\n",
        "    x = LeakyReLU(alpha=0.2)(x)\n",
        "    x = Dropout(0.3)(x)\n",
        "\n",
        "    x = Conv2D(128, kernel_size=3, strides=2, padding='same')(x)\n",
        "    x = BatchNormalization()(x)\n",
        "    x = LeakyReLU(alpha=0.2)(x)\n",
        "    x = Dropout(0.3)(x)\n",
        "\n",
        "    x = Conv2D(256, kernel_size=3, strides=2, padding='same')(x)\n",
        "    x = BatchNormalization()(x)\n",
        "    x = LeakyReLU(alpha=0.2)(x)\n",
        "    x = Dropout(0.3)(x)\n",
        "\n",
        "    flat_image = Flatten()(x)\n",
        "\n",
        "    # Label input\n",
        "    label_input = Input(shape=(1,), dtype='int32', name=\"denomination_label\")\n",
        "    label_embedding = Embedding(input_dim=num_denominations, output_dim=embed_dim)(label_input)\n",
        "    label_embedding = Flatten()(label_embedding)\n",
        "\n",
        "    # Combine features\n",
        "    combined_features = Concatenate()([flat_image, label_embedding])\n",
        "\n",
        "    x = Dense(512)(combined_features)\n",
        "    x = LeakyReLU(alpha=0.2)(x)\n",
        "    x = Dropout(0.3)(x)\n",
        "\n",
        "    validity_output = Dense(1, activation='sigmoid')(x)\n",
        "\n",
        "    model = Model(inputs=[image_input, label_input], outputs=validity_output)\n",
        "    return model\n",
        "\n",
        "# Instantiate and check\n",
        "conditional_discriminator = discriminator()\n",
        "conditional_discriminator.summary()"
      ],
      "metadata": {
        "colab": {
          "base_uri": "https://localhost:8080/",
          "height": 918
        },
        "id": "exU1z2snWCxe",
        "outputId": "5d74cb94-86a2-4e89-98a7-a26676610433"
      },
      "execution_count": 6,
      "outputs": [
        {
          "output_type": "display_data",
          "data": {
            "text/plain": [
              "\u001b[1mModel: \"functional_1\"\u001b[0m\n"
            ],
            "text/html": [
              "<pre style=\"white-space:pre;overflow-x:auto;line-height:normal;font-family:Menlo,'DejaVu Sans Mono',consolas,'Courier New',monospace\"><span style=\"font-weight: bold\">Model: \"functional_1\"</span>\n",
              "</pre>\n"
            ]
          },
          "metadata": {}
        },
        {
          "output_type": "display_data",
          "data": {
            "text/plain": [
              "┏━━━━━━━━━━━━━━━━━━━━━━━━━━━┳━━━━━━━━━━━━━━━━━━━━━━━━┳━━━━━━━━━━━━━━━━┳━━━━━━━━━━━━━━━━━━━━━━━━┓\n",
              "┃\u001b[1m \u001b[0m\u001b[1mLayer (type)             \u001b[0m\u001b[1m \u001b[0m┃\u001b[1m \u001b[0m\u001b[1mOutput Shape          \u001b[0m\u001b[1m \u001b[0m┃\u001b[1m \u001b[0m\u001b[1m       Param #\u001b[0m\u001b[1m \u001b[0m┃\u001b[1m \u001b[0m\u001b[1mConnected to          \u001b[0m\u001b[1m \u001b[0m┃\n",
              "┡━━━━━━━━━━━━━━━━━━━━━━━━━━━╇━━━━━━━━━━━━━━━━━━━━━━━━╇━━━━━━━━━━━━━━━━╇━━━━━━━━━━━━━━━━━━━━━━━━┩\n",
              "│ image_input (\u001b[38;5;33mInputLayer\u001b[0m)  │ (\u001b[38;5;45mNone\u001b[0m, \u001b[38;5;34m28\u001b[0m, \u001b[38;5;34m28\u001b[0m, \u001b[38;5;34m3\u001b[0m)      │              \u001b[38;5;34m0\u001b[0m │ -                      │\n",
              "├───────────────────────────┼────────────────────────┼────────────────┼────────────────────────┤\n",
              "│ conv2d_3 (\u001b[38;5;33mConv2D\u001b[0m)         │ (\u001b[38;5;45mNone\u001b[0m, \u001b[38;5;34m14\u001b[0m, \u001b[38;5;34m14\u001b[0m, \u001b[38;5;34m64\u001b[0m)     │          \u001b[38;5;34m1,792\u001b[0m │ image_input[\u001b[38;5;34m0\u001b[0m][\u001b[38;5;34m0\u001b[0m]      │\n",
              "├───────────────────────────┼────────────────────────┼────────────────┼────────────────────────┤\n",
              "│ leaky_re_lu_3 (\u001b[38;5;33mLeakyReLU\u001b[0m) │ (\u001b[38;5;45mNone\u001b[0m, \u001b[38;5;34m14\u001b[0m, \u001b[38;5;34m14\u001b[0m, \u001b[38;5;34m64\u001b[0m)     │              \u001b[38;5;34m0\u001b[0m │ conv2d_3[\u001b[38;5;34m0\u001b[0m][\u001b[38;5;34m0\u001b[0m]         │\n",
              "├───────────────────────────┼────────────────────────┼────────────────┼────────────────────────┤\n",
              "│ dropout (\u001b[38;5;33mDropout\u001b[0m)         │ (\u001b[38;5;45mNone\u001b[0m, \u001b[38;5;34m14\u001b[0m, \u001b[38;5;34m14\u001b[0m, \u001b[38;5;34m64\u001b[0m)     │              \u001b[38;5;34m0\u001b[0m │ leaky_re_lu_3[\u001b[38;5;34m0\u001b[0m][\u001b[38;5;34m0\u001b[0m]    │\n",
              "├───────────────────────────┼────────────────────────┼────────────────┼────────────────────────┤\n",
              "│ conv2d_4 (\u001b[38;5;33mConv2D\u001b[0m)         │ (\u001b[38;5;45mNone\u001b[0m, \u001b[38;5;34m7\u001b[0m, \u001b[38;5;34m7\u001b[0m, \u001b[38;5;34m128\u001b[0m)      │         \u001b[38;5;34m73,856\u001b[0m │ dropout[\u001b[38;5;34m0\u001b[0m][\u001b[38;5;34m0\u001b[0m]          │\n",
              "├───────────────────────────┼────────────────────────┼────────────────┼────────────────────────┤\n",
              "│ batch_normalization_3     │ (\u001b[38;5;45mNone\u001b[0m, \u001b[38;5;34m7\u001b[0m, \u001b[38;5;34m7\u001b[0m, \u001b[38;5;34m128\u001b[0m)      │            \u001b[38;5;34m512\u001b[0m │ conv2d_4[\u001b[38;5;34m0\u001b[0m][\u001b[38;5;34m0\u001b[0m]         │\n",
              "│ (\u001b[38;5;33mBatchNormalization\u001b[0m)      │                        │                │                        │\n",
              "├───────────────────────────┼────────────────────────┼────────────────┼────────────────────────┤\n",
              "│ leaky_re_lu_4 (\u001b[38;5;33mLeakyReLU\u001b[0m) │ (\u001b[38;5;45mNone\u001b[0m, \u001b[38;5;34m7\u001b[0m, \u001b[38;5;34m7\u001b[0m, \u001b[38;5;34m128\u001b[0m)      │              \u001b[38;5;34m0\u001b[0m │ batch_normalization_3… │\n",
              "├───────────────────────────┼────────────────────────┼────────────────┼────────────────────────┤\n",
              "│ dropout_1 (\u001b[38;5;33mDropout\u001b[0m)       │ (\u001b[38;5;45mNone\u001b[0m, \u001b[38;5;34m7\u001b[0m, \u001b[38;5;34m7\u001b[0m, \u001b[38;5;34m128\u001b[0m)      │              \u001b[38;5;34m0\u001b[0m │ leaky_re_lu_4[\u001b[38;5;34m0\u001b[0m][\u001b[38;5;34m0\u001b[0m]    │\n",
              "├───────────────────────────┼────────────────────────┼────────────────┼────────────────────────┤\n",
              "│ conv2d_5 (\u001b[38;5;33mConv2D\u001b[0m)         │ (\u001b[38;5;45mNone\u001b[0m, \u001b[38;5;34m4\u001b[0m, \u001b[38;5;34m4\u001b[0m, \u001b[38;5;34m256\u001b[0m)      │        \u001b[38;5;34m295,168\u001b[0m │ dropout_1[\u001b[38;5;34m0\u001b[0m][\u001b[38;5;34m0\u001b[0m]        │\n",
              "├───────────────────────────┼────────────────────────┼────────────────┼────────────────────────┤\n",
              "│ batch_normalization_4     │ (\u001b[38;5;45mNone\u001b[0m, \u001b[38;5;34m4\u001b[0m, \u001b[38;5;34m4\u001b[0m, \u001b[38;5;34m256\u001b[0m)      │          \u001b[38;5;34m1,024\u001b[0m │ conv2d_5[\u001b[38;5;34m0\u001b[0m][\u001b[38;5;34m0\u001b[0m]         │\n",
              "│ (\u001b[38;5;33mBatchNormalization\u001b[0m)      │                        │                │                        │\n",
              "├───────────────────────────┼────────────────────────┼────────────────┼────────────────────────┤\n",
              "│ leaky_re_lu_5 (\u001b[38;5;33mLeakyReLU\u001b[0m) │ (\u001b[38;5;45mNone\u001b[0m, \u001b[38;5;34m4\u001b[0m, \u001b[38;5;34m4\u001b[0m, \u001b[38;5;34m256\u001b[0m)      │              \u001b[38;5;34m0\u001b[0m │ batch_normalization_4… │\n",
              "├───────────────────────────┼────────────────────────┼────────────────┼────────────────────────┤\n",
              "│ denomination_label        │ (\u001b[38;5;45mNone\u001b[0m, \u001b[38;5;34m1\u001b[0m)              │              \u001b[38;5;34m0\u001b[0m │ -                      │\n",
              "│ (\u001b[38;5;33mInputLayer\u001b[0m)              │                        │                │                        │\n",
              "├───────────────────────────┼────────────────────────┼────────────────┼────────────────────────┤\n",
              "│ dropout_2 (\u001b[38;5;33mDropout\u001b[0m)       │ (\u001b[38;5;45mNone\u001b[0m, \u001b[38;5;34m4\u001b[0m, \u001b[38;5;34m4\u001b[0m, \u001b[38;5;34m256\u001b[0m)      │              \u001b[38;5;34m0\u001b[0m │ leaky_re_lu_5[\u001b[38;5;34m0\u001b[0m][\u001b[38;5;34m0\u001b[0m]    │\n",
              "├───────────────────────────┼────────────────────────┼────────────────┼────────────────────────┤\n",
              "│ embedding_1 (\u001b[38;5;33mEmbedding\u001b[0m)   │ (\u001b[38;5;45mNone\u001b[0m, \u001b[38;5;34m1\u001b[0m, \u001b[38;5;34m50\u001b[0m)          │            \u001b[38;5;34m400\u001b[0m │ denomination_label[\u001b[38;5;34m0\u001b[0m]… │\n",
              "├───────────────────────────┼────────────────────────┼────────────────┼────────────────────────┤\n",
              "│ flatten_1 (\u001b[38;5;33mFlatten\u001b[0m)       │ (\u001b[38;5;45mNone\u001b[0m, \u001b[38;5;34m4096\u001b[0m)           │              \u001b[38;5;34m0\u001b[0m │ dropout_2[\u001b[38;5;34m0\u001b[0m][\u001b[38;5;34m0\u001b[0m]        │\n",
              "├───────────────────────────┼────────────────────────┼────────────────┼────────────────────────┤\n",
              "│ flatten_2 (\u001b[38;5;33mFlatten\u001b[0m)       │ (\u001b[38;5;45mNone\u001b[0m, \u001b[38;5;34m50\u001b[0m)             │              \u001b[38;5;34m0\u001b[0m │ embedding_1[\u001b[38;5;34m0\u001b[0m][\u001b[38;5;34m0\u001b[0m]      │\n",
              "├───────────────────────────┼────────────────────────┼────────────────┼────────────────────────┤\n",
              "│ concatenate_1             │ (\u001b[38;5;45mNone\u001b[0m, \u001b[38;5;34m4146\u001b[0m)           │              \u001b[38;5;34m0\u001b[0m │ flatten_1[\u001b[38;5;34m0\u001b[0m][\u001b[38;5;34m0\u001b[0m],       │\n",
              "│ (\u001b[38;5;33mConcatenate\u001b[0m)             │                        │                │ flatten_2[\u001b[38;5;34m0\u001b[0m][\u001b[38;5;34m0\u001b[0m]        │\n",
              "├───────────────────────────┼────────────────────────┼────────────────┼────────────────────────┤\n",
              "│ dense_1 (\u001b[38;5;33mDense\u001b[0m)           │ (\u001b[38;5;45mNone\u001b[0m, \u001b[38;5;34m512\u001b[0m)            │      \u001b[38;5;34m2,123,264\u001b[0m │ concatenate_1[\u001b[38;5;34m0\u001b[0m][\u001b[38;5;34m0\u001b[0m]    │\n",
              "├───────────────────────────┼────────────────────────┼────────────────┼────────────────────────┤\n",
              "│ leaky_re_lu_6 (\u001b[38;5;33mLeakyReLU\u001b[0m) │ (\u001b[38;5;45mNone\u001b[0m, \u001b[38;5;34m512\u001b[0m)            │              \u001b[38;5;34m0\u001b[0m │ dense_1[\u001b[38;5;34m0\u001b[0m][\u001b[38;5;34m0\u001b[0m]          │\n",
              "├───────────────────────────┼────────────────────────┼────────────────┼────────────────────────┤\n",
              "│ dropout_3 (\u001b[38;5;33mDropout\u001b[0m)       │ (\u001b[38;5;45mNone\u001b[0m, \u001b[38;5;34m512\u001b[0m)            │              \u001b[38;5;34m0\u001b[0m │ leaky_re_lu_6[\u001b[38;5;34m0\u001b[0m][\u001b[38;5;34m0\u001b[0m]    │\n",
              "├───────────────────────────┼────────────────────────┼────────────────┼────────────────────────┤\n",
              "│ dense_2 (\u001b[38;5;33mDense\u001b[0m)           │ (\u001b[38;5;45mNone\u001b[0m, \u001b[38;5;34m1\u001b[0m)              │            \u001b[38;5;34m513\u001b[0m │ dropout_3[\u001b[38;5;34m0\u001b[0m][\u001b[38;5;34m0\u001b[0m]        │\n",
              "└───────────────────────────┴────────────────────────┴────────────────┴────────────────────────┘\n"
            ],
            "text/html": [
              "<pre style=\"white-space:pre;overflow-x:auto;line-height:normal;font-family:Menlo,'DejaVu Sans Mono',consolas,'Courier New',monospace\">┏━━━━━━━━━━━━━━━━━━━━━━━━━━━┳━━━━━━━━━━━━━━━━━━━━━━━━┳━━━━━━━━━━━━━━━━┳━━━━━━━━━━━━━━━━━━━━━━━━┓\n",
              "┃<span style=\"font-weight: bold\"> Layer (type)              </span>┃<span style=\"font-weight: bold\"> Output Shape           </span>┃<span style=\"font-weight: bold\">        Param # </span>┃<span style=\"font-weight: bold\"> Connected to           </span>┃\n",
              "┡━━━━━━━━━━━━━━━━━━━━━━━━━━━╇━━━━━━━━━━━━━━━━━━━━━━━━╇━━━━━━━━━━━━━━━━╇━━━━━━━━━━━━━━━━━━━━━━━━┩\n",
              "│ image_input (<span style=\"color: #0087ff; text-decoration-color: #0087ff\">InputLayer</span>)  │ (<span style=\"color: #00d7ff; text-decoration-color: #00d7ff\">None</span>, <span style=\"color: #00af00; text-decoration-color: #00af00\">28</span>, <span style=\"color: #00af00; text-decoration-color: #00af00\">28</span>, <span style=\"color: #00af00; text-decoration-color: #00af00\">3</span>)      │              <span style=\"color: #00af00; text-decoration-color: #00af00\">0</span> │ -                      │\n",
              "├───────────────────────────┼────────────────────────┼────────────────┼────────────────────────┤\n",
              "│ conv2d_3 (<span style=\"color: #0087ff; text-decoration-color: #0087ff\">Conv2D</span>)         │ (<span style=\"color: #00d7ff; text-decoration-color: #00d7ff\">None</span>, <span style=\"color: #00af00; text-decoration-color: #00af00\">14</span>, <span style=\"color: #00af00; text-decoration-color: #00af00\">14</span>, <span style=\"color: #00af00; text-decoration-color: #00af00\">64</span>)     │          <span style=\"color: #00af00; text-decoration-color: #00af00\">1,792</span> │ image_input[<span style=\"color: #00af00; text-decoration-color: #00af00\">0</span>][<span style=\"color: #00af00; text-decoration-color: #00af00\">0</span>]      │\n",
              "├───────────────────────────┼────────────────────────┼────────────────┼────────────────────────┤\n",
              "│ leaky_re_lu_3 (<span style=\"color: #0087ff; text-decoration-color: #0087ff\">LeakyReLU</span>) │ (<span style=\"color: #00d7ff; text-decoration-color: #00d7ff\">None</span>, <span style=\"color: #00af00; text-decoration-color: #00af00\">14</span>, <span style=\"color: #00af00; text-decoration-color: #00af00\">14</span>, <span style=\"color: #00af00; text-decoration-color: #00af00\">64</span>)     │              <span style=\"color: #00af00; text-decoration-color: #00af00\">0</span> │ conv2d_3[<span style=\"color: #00af00; text-decoration-color: #00af00\">0</span>][<span style=\"color: #00af00; text-decoration-color: #00af00\">0</span>]         │\n",
              "├───────────────────────────┼────────────────────────┼────────────────┼────────────────────────┤\n",
              "│ dropout (<span style=\"color: #0087ff; text-decoration-color: #0087ff\">Dropout</span>)         │ (<span style=\"color: #00d7ff; text-decoration-color: #00d7ff\">None</span>, <span style=\"color: #00af00; text-decoration-color: #00af00\">14</span>, <span style=\"color: #00af00; text-decoration-color: #00af00\">14</span>, <span style=\"color: #00af00; text-decoration-color: #00af00\">64</span>)     │              <span style=\"color: #00af00; text-decoration-color: #00af00\">0</span> │ leaky_re_lu_3[<span style=\"color: #00af00; text-decoration-color: #00af00\">0</span>][<span style=\"color: #00af00; text-decoration-color: #00af00\">0</span>]    │\n",
              "├───────────────────────────┼────────────────────────┼────────────────┼────────────────────────┤\n",
              "│ conv2d_4 (<span style=\"color: #0087ff; text-decoration-color: #0087ff\">Conv2D</span>)         │ (<span style=\"color: #00d7ff; text-decoration-color: #00d7ff\">None</span>, <span style=\"color: #00af00; text-decoration-color: #00af00\">7</span>, <span style=\"color: #00af00; text-decoration-color: #00af00\">7</span>, <span style=\"color: #00af00; text-decoration-color: #00af00\">128</span>)      │         <span style=\"color: #00af00; text-decoration-color: #00af00\">73,856</span> │ dropout[<span style=\"color: #00af00; text-decoration-color: #00af00\">0</span>][<span style=\"color: #00af00; text-decoration-color: #00af00\">0</span>]          │\n",
              "├───────────────────────────┼────────────────────────┼────────────────┼────────────────────────┤\n",
              "│ batch_normalization_3     │ (<span style=\"color: #00d7ff; text-decoration-color: #00d7ff\">None</span>, <span style=\"color: #00af00; text-decoration-color: #00af00\">7</span>, <span style=\"color: #00af00; text-decoration-color: #00af00\">7</span>, <span style=\"color: #00af00; text-decoration-color: #00af00\">128</span>)      │            <span style=\"color: #00af00; text-decoration-color: #00af00\">512</span> │ conv2d_4[<span style=\"color: #00af00; text-decoration-color: #00af00\">0</span>][<span style=\"color: #00af00; text-decoration-color: #00af00\">0</span>]         │\n",
              "│ (<span style=\"color: #0087ff; text-decoration-color: #0087ff\">BatchNormalization</span>)      │                        │                │                        │\n",
              "├───────────────────────────┼────────────────────────┼────────────────┼────────────────────────┤\n",
              "│ leaky_re_lu_4 (<span style=\"color: #0087ff; text-decoration-color: #0087ff\">LeakyReLU</span>) │ (<span style=\"color: #00d7ff; text-decoration-color: #00d7ff\">None</span>, <span style=\"color: #00af00; text-decoration-color: #00af00\">7</span>, <span style=\"color: #00af00; text-decoration-color: #00af00\">7</span>, <span style=\"color: #00af00; text-decoration-color: #00af00\">128</span>)      │              <span style=\"color: #00af00; text-decoration-color: #00af00\">0</span> │ batch_normalization_3… │\n",
              "├───────────────────────────┼────────────────────────┼────────────────┼────────────────────────┤\n",
              "│ dropout_1 (<span style=\"color: #0087ff; text-decoration-color: #0087ff\">Dropout</span>)       │ (<span style=\"color: #00d7ff; text-decoration-color: #00d7ff\">None</span>, <span style=\"color: #00af00; text-decoration-color: #00af00\">7</span>, <span style=\"color: #00af00; text-decoration-color: #00af00\">7</span>, <span style=\"color: #00af00; text-decoration-color: #00af00\">128</span>)      │              <span style=\"color: #00af00; text-decoration-color: #00af00\">0</span> │ leaky_re_lu_4[<span style=\"color: #00af00; text-decoration-color: #00af00\">0</span>][<span style=\"color: #00af00; text-decoration-color: #00af00\">0</span>]    │\n",
              "├───────────────────────────┼────────────────────────┼────────────────┼────────────────────────┤\n",
              "│ conv2d_5 (<span style=\"color: #0087ff; text-decoration-color: #0087ff\">Conv2D</span>)         │ (<span style=\"color: #00d7ff; text-decoration-color: #00d7ff\">None</span>, <span style=\"color: #00af00; text-decoration-color: #00af00\">4</span>, <span style=\"color: #00af00; text-decoration-color: #00af00\">4</span>, <span style=\"color: #00af00; text-decoration-color: #00af00\">256</span>)      │        <span style=\"color: #00af00; text-decoration-color: #00af00\">295,168</span> │ dropout_1[<span style=\"color: #00af00; text-decoration-color: #00af00\">0</span>][<span style=\"color: #00af00; text-decoration-color: #00af00\">0</span>]        │\n",
              "├───────────────────────────┼────────────────────────┼────────────────┼────────────────────────┤\n",
              "│ batch_normalization_4     │ (<span style=\"color: #00d7ff; text-decoration-color: #00d7ff\">None</span>, <span style=\"color: #00af00; text-decoration-color: #00af00\">4</span>, <span style=\"color: #00af00; text-decoration-color: #00af00\">4</span>, <span style=\"color: #00af00; text-decoration-color: #00af00\">256</span>)      │          <span style=\"color: #00af00; text-decoration-color: #00af00\">1,024</span> │ conv2d_5[<span style=\"color: #00af00; text-decoration-color: #00af00\">0</span>][<span style=\"color: #00af00; text-decoration-color: #00af00\">0</span>]         │\n",
              "│ (<span style=\"color: #0087ff; text-decoration-color: #0087ff\">BatchNormalization</span>)      │                        │                │                        │\n",
              "├───────────────────────────┼────────────────────────┼────────────────┼────────────────────────┤\n",
              "│ leaky_re_lu_5 (<span style=\"color: #0087ff; text-decoration-color: #0087ff\">LeakyReLU</span>) │ (<span style=\"color: #00d7ff; text-decoration-color: #00d7ff\">None</span>, <span style=\"color: #00af00; text-decoration-color: #00af00\">4</span>, <span style=\"color: #00af00; text-decoration-color: #00af00\">4</span>, <span style=\"color: #00af00; text-decoration-color: #00af00\">256</span>)      │              <span style=\"color: #00af00; text-decoration-color: #00af00\">0</span> │ batch_normalization_4… │\n",
              "├───────────────────────────┼────────────────────────┼────────────────┼────────────────────────┤\n",
              "│ denomination_label        │ (<span style=\"color: #00d7ff; text-decoration-color: #00d7ff\">None</span>, <span style=\"color: #00af00; text-decoration-color: #00af00\">1</span>)              │              <span style=\"color: #00af00; text-decoration-color: #00af00\">0</span> │ -                      │\n",
              "│ (<span style=\"color: #0087ff; text-decoration-color: #0087ff\">InputLayer</span>)              │                        │                │                        │\n",
              "├───────────────────────────┼────────────────────────┼────────────────┼────────────────────────┤\n",
              "│ dropout_2 (<span style=\"color: #0087ff; text-decoration-color: #0087ff\">Dropout</span>)       │ (<span style=\"color: #00d7ff; text-decoration-color: #00d7ff\">None</span>, <span style=\"color: #00af00; text-decoration-color: #00af00\">4</span>, <span style=\"color: #00af00; text-decoration-color: #00af00\">4</span>, <span style=\"color: #00af00; text-decoration-color: #00af00\">256</span>)      │              <span style=\"color: #00af00; text-decoration-color: #00af00\">0</span> │ leaky_re_lu_5[<span style=\"color: #00af00; text-decoration-color: #00af00\">0</span>][<span style=\"color: #00af00; text-decoration-color: #00af00\">0</span>]    │\n",
              "├───────────────────────────┼────────────────────────┼────────────────┼────────────────────────┤\n",
              "│ embedding_1 (<span style=\"color: #0087ff; text-decoration-color: #0087ff\">Embedding</span>)   │ (<span style=\"color: #00d7ff; text-decoration-color: #00d7ff\">None</span>, <span style=\"color: #00af00; text-decoration-color: #00af00\">1</span>, <span style=\"color: #00af00; text-decoration-color: #00af00\">50</span>)          │            <span style=\"color: #00af00; text-decoration-color: #00af00\">400</span> │ denomination_label[<span style=\"color: #00af00; text-decoration-color: #00af00\">0</span>]… │\n",
              "├───────────────────────────┼────────────────────────┼────────────────┼────────────────────────┤\n",
              "│ flatten_1 (<span style=\"color: #0087ff; text-decoration-color: #0087ff\">Flatten</span>)       │ (<span style=\"color: #00d7ff; text-decoration-color: #00d7ff\">None</span>, <span style=\"color: #00af00; text-decoration-color: #00af00\">4096</span>)           │              <span style=\"color: #00af00; text-decoration-color: #00af00\">0</span> │ dropout_2[<span style=\"color: #00af00; text-decoration-color: #00af00\">0</span>][<span style=\"color: #00af00; text-decoration-color: #00af00\">0</span>]        │\n",
              "├───────────────────────────┼────────────────────────┼────────────────┼────────────────────────┤\n",
              "│ flatten_2 (<span style=\"color: #0087ff; text-decoration-color: #0087ff\">Flatten</span>)       │ (<span style=\"color: #00d7ff; text-decoration-color: #00d7ff\">None</span>, <span style=\"color: #00af00; text-decoration-color: #00af00\">50</span>)             │              <span style=\"color: #00af00; text-decoration-color: #00af00\">0</span> │ embedding_1[<span style=\"color: #00af00; text-decoration-color: #00af00\">0</span>][<span style=\"color: #00af00; text-decoration-color: #00af00\">0</span>]      │\n",
              "├───────────────────────────┼────────────────────────┼────────────────┼────────────────────────┤\n",
              "│ concatenate_1             │ (<span style=\"color: #00d7ff; text-decoration-color: #00d7ff\">None</span>, <span style=\"color: #00af00; text-decoration-color: #00af00\">4146</span>)           │              <span style=\"color: #00af00; text-decoration-color: #00af00\">0</span> │ flatten_1[<span style=\"color: #00af00; text-decoration-color: #00af00\">0</span>][<span style=\"color: #00af00; text-decoration-color: #00af00\">0</span>],       │\n",
              "│ (<span style=\"color: #0087ff; text-decoration-color: #0087ff\">Concatenate</span>)             │                        │                │ flatten_2[<span style=\"color: #00af00; text-decoration-color: #00af00\">0</span>][<span style=\"color: #00af00; text-decoration-color: #00af00\">0</span>]        │\n",
              "├───────────────────────────┼────────────────────────┼────────────────┼────────────────────────┤\n",
              "│ dense_1 (<span style=\"color: #0087ff; text-decoration-color: #0087ff\">Dense</span>)           │ (<span style=\"color: #00d7ff; text-decoration-color: #00d7ff\">None</span>, <span style=\"color: #00af00; text-decoration-color: #00af00\">512</span>)            │      <span style=\"color: #00af00; text-decoration-color: #00af00\">2,123,264</span> │ concatenate_1[<span style=\"color: #00af00; text-decoration-color: #00af00\">0</span>][<span style=\"color: #00af00; text-decoration-color: #00af00\">0</span>]    │\n",
              "├───────────────────────────┼────────────────────────┼────────────────┼────────────────────────┤\n",
              "│ leaky_re_lu_6 (<span style=\"color: #0087ff; text-decoration-color: #0087ff\">LeakyReLU</span>) │ (<span style=\"color: #00d7ff; text-decoration-color: #00d7ff\">None</span>, <span style=\"color: #00af00; text-decoration-color: #00af00\">512</span>)            │              <span style=\"color: #00af00; text-decoration-color: #00af00\">0</span> │ dense_1[<span style=\"color: #00af00; text-decoration-color: #00af00\">0</span>][<span style=\"color: #00af00; text-decoration-color: #00af00\">0</span>]          │\n",
              "├───────────────────────────┼────────────────────────┼────────────────┼────────────────────────┤\n",
              "│ dropout_3 (<span style=\"color: #0087ff; text-decoration-color: #0087ff\">Dropout</span>)       │ (<span style=\"color: #00d7ff; text-decoration-color: #00d7ff\">None</span>, <span style=\"color: #00af00; text-decoration-color: #00af00\">512</span>)            │              <span style=\"color: #00af00; text-decoration-color: #00af00\">0</span> │ leaky_re_lu_6[<span style=\"color: #00af00; text-decoration-color: #00af00\">0</span>][<span style=\"color: #00af00; text-decoration-color: #00af00\">0</span>]    │\n",
              "├───────────────────────────┼────────────────────────┼────────────────┼────────────────────────┤\n",
              "│ dense_2 (<span style=\"color: #0087ff; text-decoration-color: #0087ff\">Dense</span>)           │ (<span style=\"color: #00d7ff; text-decoration-color: #00d7ff\">None</span>, <span style=\"color: #00af00; text-decoration-color: #00af00\">1</span>)              │            <span style=\"color: #00af00; text-decoration-color: #00af00\">513</span> │ dropout_3[<span style=\"color: #00af00; text-decoration-color: #00af00\">0</span>][<span style=\"color: #00af00; text-decoration-color: #00af00\">0</span>]        │\n",
              "└───────────────────────────┴────────────────────────┴────────────────┴────────────────────────┘\n",
              "</pre>\n"
            ]
          },
          "metadata": {}
        },
        {
          "output_type": "display_data",
          "data": {
            "text/plain": [
              "\u001b[1m Total params: \u001b[0m\u001b[38;5;34m2,496,529\u001b[0m (9.52 MB)\n"
            ],
            "text/html": [
              "<pre style=\"white-space:pre;overflow-x:auto;line-height:normal;font-family:Menlo,'DejaVu Sans Mono',consolas,'Courier New',monospace\"><span style=\"font-weight: bold\"> Total params: </span><span style=\"color: #00af00; text-decoration-color: #00af00\">2,496,529</span> (9.52 MB)\n",
              "</pre>\n"
            ]
          },
          "metadata": {}
        },
        {
          "output_type": "display_data",
          "data": {
            "text/plain": [
              "\u001b[1m Trainable params: \u001b[0m\u001b[38;5;34m2,495,761\u001b[0m (9.52 MB)\n"
            ],
            "text/html": [
              "<pre style=\"white-space:pre;overflow-x:auto;line-height:normal;font-family:Menlo,'DejaVu Sans Mono',consolas,'Courier New',monospace\"><span style=\"font-weight: bold\"> Trainable params: </span><span style=\"color: #00af00; text-decoration-color: #00af00\">2,495,761</span> (9.52 MB)\n",
              "</pre>\n"
            ]
          },
          "metadata": {}
        },
        {
          "output_type": "display_data",
          "data": {
            "text/plain": [
              "\u001b[1m Non-trainable params: \u001b[0m\u001b[38;5;34m768\u001b[0m (3.00 KB)\n"
            ],
            "text/html": [
              "<pre style=\"white-space:pre;overflow-x:auto;line-height:normal;font-family:Menlo,'DejaVu Sans Mono',consolas,'Courier New',monospace\"><span style=\"font-weight: bold\"> Non-trainable params: </span><span style=\"color: #00af00; text-decoration-color: #00af00\">768</span> (3.00 KB)\n",
              "</pre>\n"
            ]
          },
          "metadata": {}
        }
      ]
    },
    {
      "cell_type": "code",
      "source": [
        "def generate_latent_vector(latent_dim, n_samples, n_classes=NUM_CLASSES):\n",
        "    x_input = np.random.randn(latent_dim * n_samples)\n",
        "    z_input = x_input.reshape(n_samples, latent_dim)\n",
        "    labels = np.random.randint(0, n_classes, (n_samples, 1))  # Shape: [n_samples, 1]\n",
        "    return [z_input, labels]"
      ],
      "metadata": {
        "id": "aP4Xrt8aWGXk"
      },
      "execution_count": 7,
      "outputs": []
    },
    {
      "cell_type": "code",
      "source": [
        "def generate_fake_samples(generator, latent_dim, n_samples):\n",
        "    z_input, labels_input = generate_latent_vector(latent_dim, n_samples)\n",
        "    images = generator.predict([z_input, labels_input])\n",
        "    y = np.zeros((n_samples, 1))\n",
        "    return [images, labels_input], y"
      ],
      "metadata": {
        "id": "IYuevn_nWIZ1"
      },
      "execution_count": 8,
      "outputs": []
    },
    {
      "cell_type": "code",
      "source": [
        "def display_images(images, labels, num_to_display=3):\n",
        "    fig, axes = plt.subplots(ncols=num_to_display, figsize=(10, 5))\n",
        "    for i, ax in enumerate(axes):\n",
        "        img = (images[i] + 1) / 2.0  # Rescale from [-1, 1] to [0, 1]\n",
        "        ax.imshow(img)\n",
        "        ax.axis('off')\n",
        "        ax.set_title(f\"Label: {labels[i, 0]}\")\n",
        "    plt.show()\n",
        "\n",
        "# Test generation and display\n",
        "[images, labels], _ = generate_fake_samples(denomination_generator, LATENT_DIM, 7)\n",
        "display_images(images, labels)"
      ],
      "metadata": {
        "colab": {
          "base_uri": "https://localhost:8080/",
          "height": 304
        },
        "id": "naEWxmnbWKVM",
        "outputId": "ed279385-4b80-4163-e6db-5ad42b34b0ac"
      },
      "execution_count": 9,
      "outputs": [
        {
          "output_type": "stream",
          "name": "stdout",
          "text": [
            "\u001b[1m1/1\u001b[0m \u001b[32m━━━━━━━━━━━━━━━━━━━━\u001b[0m\u001b[37m\u001b[0m \u001b[1m1s\u001b[0m 684ms/step\n"
          ]
        },
        {
          "output_type": "display_data",
          "data": {
            "text/plain": [
              "<Figure size 1000x500 with 3 Axes>"
            ],
            "image/png": "[encoded data removed]"
          },
          "metadata": {}
        }
      ]
    },
    {
      "cell_type": "code",
      "source": [
        "BCE_Loss = BinaryCrossentropy(from_logits=False)\n",
        "\n",
        "def generator_loss(fake_output):\n",
        "    return BCE_Loss(tf.ones_like(fake_output), fake_output)\n",
        "\n",
        "def discriminator_loss(real_output, fake_output):\n",
        "    real_loss = BCE_Loss(tf.ones_like(real_output), real_output)\n",
        "    fake_loss = BCE_Loss(tf.zeros_like(fake_output), fake_output)\n",
        "    return real_loss + fake_loss\n",
        "\n",
        "generator_opt = Adam(learning_rate=0.0002, beta_1=0.5)\n",
        "discriminator_opt = Adam(learning_rate=0.0002, beta_1=0.5)"
      ],
      "metadata": {
        "id": "KZ6K4WTjWMc1"
      },
      "execution_count": 10,
      "outputs": []
    },
    {
      "cell_type": "code",
      "source": [
        "import zipfile\n",
        "\n",
        "zip_file_path = '/content/drive/MyDrive/Colab Notebooks/Datasets/Naira_Notes.zip'\n",
        "\n",
        "try:\n",
        "    with zipfile.ZipFile(zip_file_path, 'r') as zip_ref:\n",
        "            # Try to read the contents of the zip file\n",
        "      print(zip_ref.namelist())\n",
        "except zipfile.BadZipFile:\n",
        "    print(\"The zip file is corrupted.\")\n",
        "except Exception as e:\n",
        "    print(f\"An error occurred: {e}\")"
      ],
      "metadata": {
        "colab": {
          "base_uri": "https://localhost:8080/"
        },
        "id": "C5qm7ULEXFO6",
        "outputId": "941b465a-881e-4283-8126-b824798936a8"
      },
      "execution_count": 11,
      "outputs": [
        {
          "output_type": "stream",
          "name": "stdout",
          "text": [
            "['NAIRA DATASET/Test/10/10_1.jpg', 'NAIRA DATASET/Test/10/10_2.jpg', 'NAIRA DATASET/Test/10/10_3.jpeg', 'NAIRA DATASET/Test/10/10_4.jpeg', 'NAIRA DATASET/Test/10/10_5.jpeg', 'NAIRA DATASET/Test/10/10_6.jpeg', 'NAIRA DATASET/Test/10/10_7.jpeg', 'NAIRA DATASET/Test/10/10_8.jpeg', 'NAIRA DATASET/Test/10/10_9.jpeg', 'NAIRA DATASET/Test/100/100_1.JPG', 'NAIRA DATASET/Test/100/100_10.JPG', 'NAIRA DATASET/Test/100/100_11.JPG', 'NAIRA DATASET/Test/100/100_12.JPG', 'NAIRA DATASET/Test/100/100_2.JPG', 'NAIRA DATASET/Test/100/100_3.JPG', 'NAIRA DATASET/Test/100/100_4.JPG', 'NAIRA DATASET/Test/100/100_5.JPG', 'NAIRA DATASET/Test/100/100_6.JPG', 'NAIRA DATASET/Test/100/100_7.JPG', 'NAIRA DATASET/Test/100/100_8.JPG', 'NAIRA DATASET/Test/100/100_9.JPG', 'NAIRA DATASET/Test/1000/1000_1.jpg', 'NAIRA DATASET/Test/1000/1000_10.JPG', 'NAIRA DATASET/Test/1000/1000_11.JPG', 'NAIRA DATASET/Test/1000/1000_12.JPG', 'NAIRA DATASET/Test/1000/1000_2.jpg', 'NAIRA DATASET/Test/1000/1000_3.jpg', 'NAIRA DATASET/Test/1000/1000_4.jpg', 'NAIRA DATASET/Test/1000/1000_5.JPG', 'NAIRA DATASET/Test/1000/1000_6.JPG', 'NAIRA DATASET/Test/1000/1000_7.JPG', 'NAIRA DATASET/Test/1000/1000_8.JPG', 'NAIRA DATASET/Test/1000/1000_9.JPG', 'NAIRA DATASET/Test/20/20_1.jpg', 'NAIRA DATASET/Test/20/20_10.jpeg', 'NAIRA DATASET/Test/20/20_11.jpeg', 'NAIRA DATASET/Test/20/20_12.jpeg', 'NAIRA DATASET/Test/20/20_2.jpg', 'NAIRA DATASET/Test/20/20_3.jpg', 'NAIRA DATASET/Test/20/20_4.jpg', 'NAIRA DATASET/Test/20/20_5.jpeg', 'NAIRA DATASET/Test/20/20_6.jpeg', 'NAIRA DATASET/Test/20/20_7.jpeg', 'NAIRA DATASET/Test/20/20_8.jpeg', 'NAIRA DATASET/Test/20/20_9.jpeg', 'NAIRA DATASET/Test/200/200_1.jpg', 'NAIRA DATASET/Test/200/200_10.JPG', 'NAIRA DATASET/Test/200/200_11.JPG', 'NAIRA DATASET/Test/200/200_12.JPG', 'NAIRA DATASET/Test/200/200_2.jpg', 'NAIRA DATASET/Test/200/200_3.jpg', 'NAIRA DATASET/Test/200/200_4.jpg', 'NAIRA DATASET/Test/200/200_5.JPG', 'NAIRA DATASET/Test/200/200_6.JPG', 'NAIRA DATASET/Test/200/200_7.JPG', 'NAIRA DATASET/Test/200/200_8.JPG', 'NAIRA DATASET/Test/200/200_9.JPG', 'NAIRA DATASET/Test/5/5_1.jpg', 'NAIRA DATASET/Test/5/5_2.jpg', 'NAIRA DATASET/Test/5/5_3.jpg', 'NAIRA DATASET/Test/5/5_4.jpeg', 'NAIRA DATASET/Test/5/5_5.jpeg', 'NAIRA DATASET/Test/5/5_6.jpeg', 'NAIRA DATASET/Test/5/5_7.jpeg', 'NAIRA DATASET/Test/5/5_8.jpeg', 'NAIRA DATASET/Test/5/5_9.jpeg', 'NAIRA DATASET/Test/50/50_1.jpg', 'NAIRA DATASET/Test/50/50_10.jpeg', 'NAIRA DATASET/Test/50/50_11.jpeg', 'NAIRA DATASET/Test/50/50_12.jpeg', 'NAIRA DATASET/Test/50/50_2.jpg', 'NAIRA DATASET/Test/50/50_3.jpg', 'NAIRA DATASET/Test/50/50_4.jpg', 'NAIRA DATASET/Test/50/50_5.JPG', 'NAIRA DATASET/Test/50/50_6.JPG', 'NAIRA DATASET/Test/50/50_7.JPG', 'NAIRA DATASET/Test/50/50_8.JPG', 'NAIRA DATASET/Test/50/50_9.jpeg', 'NAIRA DATASET/Test/500/500_1.jpg', 'NAIRA DATASET/Test/500/500_10.JPG', 'NAIRA DATASET/Test/500/500_11.JPG', 'NAIRA DATASET/Test/500/500_12.JPG', 'NAIRA DATASET/Test/500/500_2.jpg', 'NAIRA DATASET/Test/500/500_3.jpg', 'NAIRA DATASET/Test/500/500_4.jpg', 'NAIRA DATASET/Test/500/500_5.JPG', 'NAIRA DATASET/Test/500/500_6.JPG', 'NAIRA DATASET/Test/500/500_7.JPG', 'NAIRA DATASET/Test/500/500_8.JPG', 'NAIRA DATASET/Test/500/500_9.JPG', 'NAIRA DATASET/Train/10/10_1.jpg', 'NAIRA DATASET/Train/10/10_10.jpg', 'NAIRA DATASET/Train/10/10_100.jpg', 'NAIRA DATASET/Train/10/10_101.jpg', 'NAIRA DATASET/Train/10/10_102.jpg', 'NAIRA DATASET/Train/10/10_103.jpg', 'NAIRA DATASET/Train/10/10_104.jpg', 'NAIRA DATASET/Train/10/10_105.jpg', 'NAIRA DATASET/Train/10/10_106.jpg', 'NAIRA DATASET/Train/10/10_107.jpg', 'NAIRA DATASET/Train/10/10_108.jpg', 'NAIRA DATASET/Train/10/10_109.jpg', 'NAIRA DATASET/Train/10/10_11.jpg', 'NAIRA DATASET/Train/10/10_110.jpg', 'NAIRA DATASET/Train/10/10_111.jpeg', 'NAIRA DATASET/Train/10/10_112.jpeg', 'NAIRA DATASET/Train/10/10_113.jpeg', 'NAIRA DATASET/Train/10/10_114.jpeg', 'NAIRA DATASET/Train/10/10_115.jpeg', 'NAIRA DATASET/Train/10/10_116.jpeg', 'NAIRA DATASET/Train/10/10_117.jpeg', 'NAIRA DATASET/Train/10/10_118.jpeg', 'NAIRA DATASET/Train/10/10_119.jpeg', 'NAIRA DATASET/Train/10/10_12.jpg', 'NAIRA DATASET/Train/10/10_120.jpeg', 'NAIRA DATASET/Train/10/10_121.jpeg', 'NAIRA DATASET/Train/10/10_122.jpeg', 'NAIRA DATASET/Train/10/10_123.jpeg', 'NAIRA DATASET/Train/10/10_124.jpeg', 'NAIRA DATASET/Train/10/10_125.jpeg', 'NAIRA DATASET/Train/10/10_126.jpeg', 'NAIRA DATASET/Train/10/10_127.jpeg', 'NAIRA DATASET/Train/10/10_128.jpeg', 'NAIRA DATASET/Train/10/10_129.jpeg', 'NAIRA DATASET/Train/10/10_13.jpg', 'NAIRA DATASET/Train/10/10_130.jpeg', 'NAIRA DATASET/Train/10/10_131.jpeg', 'NAIRA DATASET/Train/10/10_132.jpeg', 'NAIRA DATASET/Train/10/10_133.jpeg', 'NAIRA DATASET/Train/10/10_134.jpeg', 'NAIRA DATASET/Train/10/10_135.jpeg', 'NAIRA DATASET/Train/10/10_136.jpeg', 'NAIRA DATASET/Train/10/10_137.jpeg', 'NAIRA DATASET/Train/10/10_138.jpeg', 'NAIRA DATASET/Train/10/10_14.jpg', 'NAIRA DATASET/Train/10/10_15.jpg', 'NAIRA DATASET/Train/10/10_16.jpg', 'NAIRA DATASET/Train/10/10_17.jpg', 'NAIRA DATASET/Train/10/10_18.jpg', 'NAIRA DATASET/Train/10/10_19.jpg', 'NAIRA DATASET/Train/10/10_2.jpg', 'NAIRA DATASET/Train/10/10_20.jpg', 'NAIRA DATASET/Train/10/10_21.jpg', 'NAIRA DATASET/Train/10/10_22.jpg', 'NAIRA DATASET/Train/10/10_23.jpg', 'NAIRA DATASET/Train/10/10_24.jpg', 'NAIRA DATASET/Train/10/10_25.jpg', 'NAIRA DATASET/Train/10/10_26.jpg', 'NAIRA DATASET/Train/10/10_27.jpg', 'NAIRA DATASET/Train/10/10_28.jpg', 'NAIRA DATASET/Train/10/10_29.jpg', 'NAIRA DATASET/Train/10/10_3.jpg', 'NAIRA DATASET/Train/10/10_30.jpg', 'NAIRA DATASET/Train/10/10_31.jpg', 'NAIRA DATASET/Train/10/10_32.jpg', 'NAIRA DATASET/Train/10/10_33.jpg', 'NAIRA DATASET/Train/10/10_34.jpg', 'NAIRA DATASET/Train/10/10_35.jpg', 'NAIRA DATASET/Train/10/10_36.jpg', 'NAIRA DATASET/Train/10/10_37.jpg', 'NAIRA DATASET/Train/10/10_38.jpg', 'NAIRA DATASET/Train/10/10_39.jpg', 'NAIRA DATASET/Train/10/10_4.jpg', 'NAIRA DATASET/Train/10/10_40.jpg', 'NAIRA DATASET/Train/10/10_41.jpg', 'NAIRA DATASET/Train/10/10_42.jpg', 'NAIRA DATASET/Train/10/10_43.jpg', 'NAIRA DATASET/Train/10/10_44.jpg', 'NAIRA DATASET/Train/10/10_45.jpg', 'NAIRA DATASET/Train/10/10_46.jpg', 'NAIRA DATASET/Train/10/10_47.jpg', 'NAIRA DATASET/Train/10/10_48.jpg', 'NAIRA DATASET/Train/10/10_49.jpg', 'NAIRA DATASET/Train/10/10_5.jpg', 'NAIRA DATASET/Train/10/10_50.jpg', 'NAIRA DATASET/Train/10/10_51.jpg', 'NAIRA DATASET/Train/10/10_52.jpg', 'NAIRA DATASET/Train/10/10_53.jpg', 'NAIRA DATASET/Train/10/10_54.jpg', 'NAIRA DATASET/Train/10/10_55.jpg', 'NAIRA DATASET/Train/10/10_56.jpg', 'NAIRA DATASET/Train/10/10_57.jpg', 'NAIRA DATASET/Train/10/10_58.jpg', 'NAIRA DATASET/Train/10/10_59.jpg', 'NAIRA DATASET/Train/10/10_6.jpg', 'NAIRA DATASET/Train/10/10_60.jpg', 'NAIRA DATASET/Train/10/10_61.jpg', 'NAIRA DATASET/Train/10/10_62.jpg', 'NAIRA DATASET/Train/10/10_63.jpg', 'NAIRA DATASET/Train/10/10_64.jpg', 'NAIRA DATASET/Train/10/10_65.jpg', 'NAIRA DATASET/Train/10/10_66.jpg', 'NAIRA DATASET/Train/10/10_67.jpg', 'NAIRA DATASET/Train/10/10_68.jpg', 'NAIRA DATASET/Train/10/10_69.jpg', 'NAIRA DATASET/Train/10/10_7.jpg', 'NAIRA DATASET/Train/10/10_70.jpg', 'NAIRA DATASET/Train/10/10_71.jpg', 'NAIRA DATASET/Train/10/10_72.jpg', 'NAIRA DATASET/Train/10/10_73.jpg', 'NAIRA DATASET/Train/10/10_74.jpg', 'NAIRA DATASET/Train/10/10_75.jpg', 'NAIRA DATASET/Train/10/10_76.jpg', 'NAIRA DATASET/Train/10/10_77.jpg', 'NAIRA DATASET/Train/10/10_78.jpg', 'NAIRA DATASET/Train/10/10_79.jpg', 'NAIRA DATASET/Train/10/10_8.jpg', 'NAIRA DATASET/Train/10/10_80.jpg', 'NAIRA DATASET/Train/10/10_81.jpg', 'NAIRA DATASET/Train/10/10_82.jpg', 'NAIRA DATASET/Train/10/10_83.jpg', 'NAIRA DATASET/Train/10/10_84.jpg', 'NAIRA DATASET/Train/10/10_85.jpg', 'NAIRA DATASET/Train/10/10_86.jpg', 'NAIRA DATASET/Train/10/10_87.jpg', 'NAIRA DATASET/Train/10/10_88.jpg', 'NAIRA DATASET/Train/10/10_89.jpg', 'NAIRA DATASET/Train/10/10_9.jpg', 'NAIRA DATASET/Train/10/10_90.jpg', 'NAIRA DATASET/Train/10/10_91.jpg', 'NAIRA DATASET/Train/10/10_92.jpg', 'NAIRA DATASET/Train/10/10_93.jpg', 'NAIRA DATASET/Train/10/10_94.jpg', 'NAIRA DATASET/Train/10/10_95.jpg', 'NAIRA DATASET/Train/10/10_96.jpg', 'NAIRA DATASET/Train/10/10_97.jpg', 'NAIRA DATASET/Train/10/10_98.jpg', 'NAIRA DATASET/Train/10/10_99.jpg', 'NAIRA DATASET/Train/100/100_1.jpg', 'NAIRA DATASET/Train/100/100_10.jpg', 'NAIRA DATASET/Train/100/100_100.JPG', 'NAIRA DATASET/Train/100/100_101.JPG', 'NAIRA DATASET/Train/100/100_102.JPG', 'NAIRA DATASET/Train/100/100_103.JPG', 'NAIRA DATASET/Train/100/100_104.JPG', 'NAIRA DATASET/Train/100/100_105.JPG', 'NAIRA DATASET/Train/100/100_106.JPG', 'NAIRA DATASET/Train/100/100_107.JPG', 'NAIRA DATASET/Train/100/100_108.JPG', 'NAIRA DATASET/Train/100/100_109.JPG', 'NAIRA DATASET/Train/100/100_11.jpg', 'NAIRA DATASET/Train/100/100_110.JPG', 'NAIRA DATASET/Train/100/100_111.JPG', 'NAIRA DATASET/Train/100/100_112.JPG', 'NAIRA DATASET/Train/100/100_113.JPG', 'NAIRA DATASET/Train/100/100_114.JPG', 'NAIRA DATASET/Train/100/100_115.JPG', 'NAIRA DATASET/Train/100/100_116.JPG', 'NAIRA DATASET/Train/100/100_117.JPG', 'NAIRA DATASET/Train/100/100_118.JPG', 'NAIRA DATASET/Train/100/100_119.JPG', 'NAIRA DATASET/Train/100/100_12.jpg', 'NAIRA DATASET/Train/100/100_120.JPG', 'NAIRA DATASET/Train/100/100_121.JPG', 'NAIRA DATASET/Train/100/100_122.JPG', 'NAIRA DATASET/Train/100/100_123.JPG', 'NAIRA DATASET/Train/100/100_124.JPG', 'NAIRA DATASET/Train/100/100_125.JPG', 'NAIRA DATASET/Train/100/100_126.JPG', 'NAIRA DATASET/Train/100/100_127.JPG', 'NAIRA DATASET/Train/100/100_128.JPG', 'NAIRA DATASET/Train/100/100_129.JPG', 'NAIRA DATASET/Train/100/100_13.jpg', 'NAIRA DATASET/Train/100/100_130.JPG', 'NAIRA DATASET/Train/100/100_131.JPG', 'NAIRA DATASET/Train/100/100_132.JPG', 'NAIRA DATASET/Train/100/100_133.JPG', 'NAIRA DATASET/Train/100/100_134.JPG', 'NAIRA DATASET/Train/100/100_135.JPG', 'NAIRA DATASET/Train/100/100_136.JPG', 'NAIRA DATASET/Train/100/100_137.JPG', 'NAIRA DATASET/Train/100/100_138.JPG', 'NAIRA DATASET/Train/100/100_139.JPG', 'NAIRA DATASET/Train/100/100_14.jpg', 'NAIRA DATASET/Train/100/100_140.JPG', 'NAIRA DATASET/Train/100/100_141.JPG', 'NAIRA DATASET/Train/100/100_142.JPG', 'NAIRA DATASET/Train/100/100_143.JPG', 'NAIRA DATASET/Train/100/100_144.JPG', 'NAIRA DATASET/Train/100/100_145.JPG', 'NAIRA DATASET/Train/100/100_146.JPG', 'NAIRA DATASET/Train/100/100_147.JPG', 'NAIRA DATASET/Train/100/100_148.JPG', 'NAIRA DATASET/Train/100/100_149.JPG', 'NAIRA DATASET/Train/100/100_15.jpg', 'NAIRA DATASET/Train/100/100_150.JPG', 'NAIRA DATASET/Train/100/100_151.JPG', 'NAIRA DATASET/Train/100/100_152.JPG', 'NAIRA DATASET/Train/100/100_153.JPG', 'NAIRA DATASET/Train/100/100_154.JPG', 'NAIRA DATASET/Train/100/100_155.JPG', 'NAIRA DATASET/Train/100/100_156.JPG', 'NAIRA DATASET/Train/100/100_157.JPG', 'NAIRA DATASET/Train/100/100_158.JPG', 'NAIRA DATASET/Train/100/100_159.JPG', 'NAIRA DATASET/Train/100/100_16.jpg', 'NAIRA DATASET/Train/100/100_160.JPG', 'NAIRA DATASET/Train/100/100_161.JPG', 'NAIRA DATASET/Train/100/100_162.JPG', 'NAIRA DATASET/Train/100/100_163.JPG', 'NAIRA DATASET/Train/100/100_164.JPG', 'NAIRA DATASET/Train/100/100_165.JPG', 'NAIRA DATASET/Train/100/100_166.JPG', 'NAIRA DATASET/Train/100/100_167.JPG', 'NAIRA DATASET/Train/100/100_168.JPG', 'NAIRA DATASET/Train/100/100_169.JPG', 'NAIRA DATASET/Train/100/100_17.jpg', 'NAIRA DATASET/Train/100/100_170.JPG', 'NAIRA DATASET/Train/100/100_171.JPG', 'NAIRA DATASET/Train/100/100_172.JPG', 'NAIRA DATASET/Train/100/100_173.JPG', 'NAIRA DATASET/Train/100/100_174.JPG', 'NAIRA DATASET/Train/100/100_175.JPG', 'NAIRA DATASET/Train/100/100_176.JPG', 'NAIRA DATASET/Train/100/100_177.JPG', 'NAIRA DATASET/Train/100/100_178.JPG', 'NAIRA DATASET/Train/100/100_179.JPG', 'NAIRA DATASET/Train/100/100_18.jpg', 'NAIRA DATASET/Train/100/100_180.JPG', 'NAIRA DATASET/Train/100/100_181.JPG', 'NAIRA DATASET/Train/100/100_182.JPG', 'NAIRA DATASET/Train/100/100_183.JPG', 'NAIRA DATASET/Train/100/100_184.JPG', 'NAIRA DATASET/Train/100/100_185.JPG', 'NAIRA DATASET/Train/100/100_186.JPG', 'NAIRA DATASET/Train/100/100_187.JPG', 'NAIRA DATASET/Train/100/100_188.JPG', 'NAIRA DATASET/Train/100/100_189.JPG', 'NAIRA DATASET/Train/100/100_19.jpg', 'NAIRA DATASET/Train/100/100_190.JPG', 'NAIRA DATASET/Train/100/100_191.JPG', 'NAIRA DATASET/Train/100/100_192.JPG', 'NAIRA DATASET/Train/100/100_193.JPG', 'NAIRA DATASET/Train/100/100_194.JPG', 'NAIRA DATASET/Train/100/100_195.JPG', 'NAIRA DATASET/Train/100/100_196.JPG', 'NAIRA DATASET/Train/100/100_197.JPG', 'NAIRA DATASET/Train/100/100_198.JPG', 'NAIRA DATASET/Train/100/100_199.JPG', 'NAIRA DATASET/Train/100/100_2.jpg', 'NAIRA DATASET/Train/100/100_20.jpg', 'NAIRA DATASET/Train/100/100_200.JPG', 'NAIRA DATASET/Train/100/100_201.JPG', 'NAIRA DATASET/Train/100/100_202.JPG', 'NAIRA DATASET/Train/100/100_203.JPG', 'NAIRA DATASET/Train/100/100_204.JPG', 'NAIRA DATASET/Train/100/100_205.JPG', 'NAIRA DATASET/Train/100/100_206.JPG', 'NAIRA DATASET/Train/100/100_207.JPG', 'NAIRA DATASET/Train/100/100_208.JPG', 'NAIRA DATASET/Train/100/100_209.JPG', 'NAIRA DATASET/Train/100/100_21.JPG', 'NAIRA DATASET/Train/100/100_210.JPG', 'NAIRA DATASET/Train/100/100_211.JPG', 'NAIRA DATASET/Train/100/100_212.JPG', 'NAIRA DATASET/Train/100/100_213.JPG', 'NAIRA DATASET/Train/100/100_214.JPG', 'NAIRA DATASET/Train/100/100_215.JPG', 'NAIRA DATASET/Train/100/100_216.JPG', 'NAIRA DATASET/Train/100/100_217.JPG', 'NAIRA DATASET/Train/100/100_218.JPG', 'NAIRA DATASET/Train/100/100_219.JPG', 'NAIRA DATASET/Train/100/100_22.JPG', 'NAIRA DATASET/Train/100/100_220.JPG', 'NAIRA DATASET/Train/100/100_221.JPG', 'NAIRA DATASET/Train/100/100_222.JPG', 'NAIRA DATASET/Train/100/100_223.JPG', 'NAIRA DATASET/Train/100/100_224.JPG', 'NAIRA DATASET/Train/100/100_225.JPG', 'NAIRA DATASET/Train/100/100_226.JPG', 'NAIRA DATASET/Train/100/100_227.JPG', 'NAIRA DATASET/Train/100/100_228.JPG', 'NAIRA DATASET/Train/100/100_229.JPG', 'NAIRA DATASET/Train/100/100_23.JPG', 'NAIRA DATASET/Train/100/100_230.JPG', 'NAIRA DATASET/Train/100/100_231.JPG', 'NAIRA DATASET/Train/100/100_232.JPG', 'NAIRA DATASET/Train/100/100_233.JPG', 'NAIRA DATASET/Train/100/100_234.JPG', 'NAIRA DATASET/Train/100/100_235.JPG', 'NAIRA DATASET/Train/100/100_236.JPG', 'NAIRA DATASET/Train/100/100_237.JPG', 'NAIRA DATASET/Train/100/100_238.JPG', 'NAIRA DATASET/Train/100/100_239.JPG', 'NAIRA DATASET/Train/100/100_24.JPG', 'NAIRA DATASET/Train/100/100_240.JPG', 'NAIRA DATASET/Train/100/100_241.JPG', 'NAIRA DATASET/Train/100/100_242.JPG', 'NAIRA DATASET/Train/100/100_243.JPG', 'NAIRA DATASET/Train/100/100_244.JPG', 'NAIRA DATASET/Train/100/100_245.JPG', 'NAIRA DATASET/Train/100/100_246.JPG', 'NAIRA DATASET/Train/100/100_247.JPG', 'NAIRA DATASET/Train/100/100_248.JPG', 'NAIRA DATASET/Train/100/100_249.JPG', 'NAIRA DATASET/Train/100/100_25.JPG', 'NAIRA DATASET/Train/100/100_250.JPG', 'NAIRA DATASET/Train/100/100_251.JPG', 'NAIRA DATASET/Train/100/100_252.JPG', 'NAIRA DATASET/Train/100/100_253.JPG', 'NAIRA DATASET/Train/100/100_254.JPG', 'NAIRA DATASET/Train/100/100_255.JPG', 'NAIRA DATASET/Train/100/100_256.JPG', 'NAIRA DATASET/Train/100/100_257.JPG', 'NAIRA DATASET/Train/100/100_258.JPG', 'NAIRA DATASET/Train/100/100_259.JPG', 'NAIRA DATASET/Train/100/100_26.JPG', 'NAIRA DATASET/Train/100/100_260.JPG', 'NAIRA DATASET/Train/100/100_261.JPG', 'NAIRA DATASET/Train/100/100_262.JPG', 'NAIRA DATASET/Train/100/100_263.JPG', 'NAIRA DATASET/Train/100/100_264.JPG', 'NAIRA DATASET/Train/100/100_265.JPG', 'NAIRA DATASET/Train/100/100_266.JPG', 'NAIRA DATASET/Train/100/100_267.JPG', 'NAIRA DATASET/Train/100/100_268.JPG', 'NAIRA DATASET/Train/100/100_269.JPG', 'NAIRA DATASET/Train/100/100_27.JPG', 'NAIRA DATASET/Train/100/100_270.JPG', 'NAIRA DATASET/Train/100/100_271.JPG', 'NAIRA DATASET/Train/100/100_272.JPG', 'NAIRA DATASET/Train/100/100_273.JPG', 'NAIRA DATASET/Train/100/100_274.JPG', 'NAIRA DATASET/Train/100/100_275.JPG', 'NAIRA DATASET/Train/100/100_276.JPG', 'NAIRA DATASET/Train/100/100_277.JPG', 'NAIRA DATASET/Train/100/100_278.JPG', 'NAIRA DATASET/Train/100/100_28.JPG', 'NAIRA DATASET/Train/100/100_29.JPG', 'NAIRA DATASET/Train/100/100_3.jpg', 'NAIRA DATASET/Train/100/100_30.JPG', 'NAIRA DATASET/Train/100/100_31.JPG', 'NAIRA DATASET/Train/100/100_32.JPG', 'NAIRA DATASET/Train/100/100_33.JPG', 'NAIRA DATASET/Train/100/100_34.JPG', 'NAIRA DATASET/Train/100/100_35.JPG', 'NAIRA DATASET/Train/100/100_36.JPG', 'NAIRA DATASET/Train/100/100_37.JPG', 'NAIRA DATASET/Train/100/100_38.JPG', 'NAIRA DATASET/Train/100/100_39.JPG', 'NAIRA DATASET/Train/100/100_4.jpg', 'NAIRA DATASET/Train/100/100_40.JPG', 'NAIRA DATASET/Train/100/100_41.JPG', 'NAIRA DATASET/Train/100/100_42.JPG', 'NAIRA DATASET/Train/100/100_43.JPG', 'NAIRA DATASET/Train/100/100_44.JPG', 'NAIRA DATASET/Train/100/100_45.JPG', 'NAIRA DATASET/Train/100/100_46.JPG', 'NAIRA DATASET/Train/100/100_47.JPG', 'NAIRA DATASET/Train/100/100_48.JPG', 'NAIRA DATASET/Train/100/100_49.JPG', 'NAIRA DATASET/Train/100/100_5.jpg', 'NAIRA DATASET/Train/100/100_50.JPG', 'NAIRA DATASET/Train/100/100_51.JPG', 'NAIRA DATASET/Train/100/100_52.JPG', 'NAIRA DATASET/Train/100/100_53.JPG', 'NAIRA DATASET/Train/100/100_54.JPG', 'NAIRA DATASET/Train/100/100_55.JPG', 'NAIRA DATASET/Train/100/100_56.JPG', 'NAIRA DATASET/Train/100/100_57.JPG', 'NAIRA DATASET/Train/100/100_58.JPG', 'NAIRA DATASET/Train/100/100_59.JPG', 'NAIRA DATASET/Train/100/100_6.jpg', 'NAIRA DATASET/Train/100/100_60.JPG', 'NAIRA DATASET/Train/100/100_61.JPG', 'NAIRA DATASET/Train/100/100_62.JPG', 'NAIRA DATASET/Train/100/100_63.JPG', 'NAIRA DATASET/Train/100/100_64.JPG', 'NAIRA DATASET/Train/100/100_65.JPG', 'NAIRA DATASET/Train/100/100_66.JPG', 'NAIRA DATASET/Train/100/100_67.JPG', 'NAIRA DATASET/Train/100/100_68.JPG', 'NAIRA DATASET/Train/100/100_69.JPG', 'NAIRA DATASET/Train/100/100_7.jpg', 'NAIRA DATASET/Train/100/100_70.JPG', 'NAIRA DATASET/Train/100/100_71.JPG', 'NAIRA DATASET/Train/100/100_72.JPG', 'NAIRA DATASET/Train/100/100_73.JPG', 'NAIRA DATASET/Train/100/100_74.JPG', 'NAIRA DATASET/Train/100/100_75.JPG', 'NAIRA DATASET/Train/100/100_76.JPG', 'NAIRA DATASET/Train/100/100_77.JPG', 'NAIRA DATASET/Train/100/100_78.JPG', 'NAIRA DATASET/Train/100/100_79.JPG', 'NAIRA DATASET/Train/100/100_8.jpg', 'NAIRA DATASET/Train/100/100_80.JPG', 'NAIRA DATASET/Train/100/100_81.JPG', 'NAIRA DATASET/Train/100/100_82.JPG', 'NAIRA DATASET/Train/100/100_83.JPG', 'NAIRA DATASET/Train/100/100_84.JPG', 'NAIRA DATASET/Train/100/100_85.JPG', 'NAIRA DATASET/Train/100/100_86.JPG', 'NAIRA DATASET/Train/100/100_87.JPG', 'NAIRA DATASET/Train/100/100_88.JPG', 'NAIRA DATASET/Train/100/100_89.JPG', 'NAIRA DATASET/Train/100/100_9.jpg', 'NAIRA DATASET/Train/100/100_90.JPG', 'NAIRA DATASET/Train/100/100_91.JPG', 'NAIRA DATASET/Train/100/100_92.JPG', 'NAIRA DATASET/Train/100/100_93.JPG', 'NAIRA DATASET/Train/100/100_94.JPG', 'NAIRA DATASET/Train/100/100_95.JPG', 'NAIRA DATASET/Train/100/100_96.JPG', 'NAIRA DATASET/Train/100/100_97.JPG', 'NAIRA DATASET/Train/100/100_98.JPG', 'NAIRA DATASET/Train/100/100_99.JPG', 'NAIRA DATASET/Train/1000/1000_1.jpg', 'NAIRA DATASET/Train/1000/1000_10.JPG', 'NAIRA DATASET/Train/1000/1000_100.JPG', 'NAIRA DATASET/Train/1000/1000_101.JPG', 'NAIRA DATASET/Train/1000/1000_102.JPG', 'NAIRA DATASET/Train/1000/1000_103.JPG', 'NAIRA DATASET/Train/1000/1000_104.JPG', 'NAIRA DATASET/Train/1000/1000_105.JPG', 'NAIRA DATASET/Train/1000/1000_106.JPG', 'NAIRA DATASET/Train/1000/1000_107.JPG', 'NAIRA DATASET/Train/1000/1000_108.JPG', 'NAIRA DATASET/Train/1000/1000_109.JPG', 'NAIRA DATASET/Train/1000/1000_11.JPG', 'NAIRA DATASET/Train/1000/1000_110.JPG', 'NAIRA DATASET/Train/1000/1000_111.JPG', 'NAIRA DATASET/Train/1000/1000_112.JPG', 'NAIRA DATASET/Train/1000/1000_113.JPG', 'NAIRA DATASET/Train/1000/1000_114.JPG', 'NAIRA DATASET/Train/1000/1000_115.JPG', 'NAIRA DATASET/Train/1000/1000_116.JPG', 'NAIRA DATASET/Train/1000/1000_117.JPG', 'NAIRA DATASET/Train/1000/1000_118.JPG', 'NAIRA DATASET/Train/1000/1000_119.JPG', 'NAIRA DATASET/Train/1000/1000_12.JPG', 'NAIRA DATASET/Train/1000/1000_120.JPG', 'NAIRA DATASET/Train/1000/1000_121.JPG', 'NAIRA DATASET/Train/1000/1000_122.JPG', 'NAIRA DATASET/Train/1000/1000_123.JPG', 'NAIRA DATASET/Train/1000/1000_124.JPG', 'NAIRA DATASET/Train/1000/1000_125.JPG', 'NAIRA DATASET/Train/1000/1000_126.JPG', 'NAIRA DATASET/Train/1000/1000_127.JPG', 'NAIRA DATASET/Train/1000/1000_128.JPG', 'NAIRA DATASET/Train/1000/1000_129.JPG', 'NAIRA DATASET/Train/1000/1000_13.JPG', 'NAIRA DATASET/Train/1000/1000_130.JPG', 'NAIRA DATASET/Train/1000/1000_131.JPG', 'NAIRA DATASET/Train/1000/1000_132.JPG', 'NAIRA DATASET/Train/1000/1000_133.JPG', 'NAIRA DATASET/Train/1000/1000_134.JPG', 'NAIRA DATASET/Train/1000/1000_135.JPG', 'NAIRA DATASET/Train/1000/1000_136.JPG', 'NAIRA DATASET/Train/1000/1000_137.JPG', 'NAIRA DATASET/Train/1000/1000_138.JPG', 'NAIRA DATASET/Train/1000/1000_139.JPG', 'NAIRA DATASET/Train/1000/1000_14.JPG', 'NAIRA DATASET/Train/1000/1000_140.JPG', 'NAIRA DATASET/Train/1000/1000_141.JPG', 'NAIRA DATASET/Train/1000/1000_142.JPG', 'NAIRA DATASET/Train/1000/1000_143.JPG', 'NAIRA DATASET/Train/1000/1000_144.JPG', 'NAIRA DATASET/Train/1000/1000_145.JPG', 'NAIRA DATASET/Train/1000/1000_146.JPG', 'NAIRA DATASET/Train/1000/1000_147.JPG', 'NAIRA DATASET/Train/1000/1000_148.JPG', 'NAIRA DATASET/Train/1000/1000_149.JPG', 'NAIRA DATASET/Train/1000/1000_15.JPG', 'NAIRA DATASET/Train/1000/1000_150.JPG', 'NAIRA DATASET/Train/1000/1000_151.JPG', 'NAIRA DATASET/Train/1000/1000_152.JPG', 'NAIRA DATASET/Train/1000/1000_153.JPG', 'NAIRA DATASET/Train/1000/1000_154.JPG', 'NAIRA DATASET/Train/1000/1000_155.JPG', 'NAIRA DATASET/Train/1000/1000_156.JPG', 'NAIRA DATASET/Train/1000/1000_157.JPG', 'NAIRA DATASET/Train/1000/1000_158.JPG', 'NAIRA DATASET/Train/1000/1000_159.JPG', 'NAIRA DATASET/Train/1000/1000_16.JPG', 'NAIRA DATASET/Train/1000/1000_160.JPG', 'NAIRA DATASET/Train/1000/1000_161.JPG', 'NAIRA DATASET/Train/1000/1000_162.JPG', 'NAIRA DATASET/Train/1000/1000_163.JPG', 'NAIRA DATASET/Train/1000/1000_164.JPG', 'NAIRA DATASET/Train/1000/1000_165.JPG', 'NAIRA DATASET/Train/1000/1000_166.JPG', 'NAIRA DATASET/Train/1000/1000_167.JPG', 'NAIRA DATASET/Train/1000/1000_168.JPG', 'NAIRA DATASET/Train/1000/1000_169.JPG', 'NAIRA DATASET/Train/1000/1000_17.JPG', 'NAIRA DATASET/Train/1000/1000_170.JPG', 'NAIRA DATASET/Train/1000/1000_171.JPG', 'NAIRA DATASET/Train/1000/1000_172.JPG', 'NAIRA DATASET/Train/1000/1000_173.JPG', 'NAIRA DATASET/Train/1000/1000_174.JPG', 'NAIRA DATASET/Train/1000/1000_175.JPG', 'NAIRA DATASET/Train/1000/1000_176.JPG', 'NAIRA DATASET/Train/1000/1000_177.JPG', 'NAIRA DATASET/Train/1000/1000_178.JPG', 'NAIRA DATASET/Train/1000/1000_179.JPG', 'NAIRA DATASET/Train/1000/1000_18.JPG', 'NAIRA DATASET/Train/1000/1000_180.JPG', 'NAIRA DATASET/Train/1000/1000_181.JPG', 'NAIRA DATASET/Train/1000/1000_182.JPG', 'NAIRA DATASET/Train/1000/1000_183.JPG', 'NAIRA DATASET/Train/1000/1000_184.JPG', 'NAIRA DATASET/Train/1000/1000_185.JPG', 'NAIRA DATASET/Train/1000/1000_186.JPG', 'NAIRA DATASET/Train/1000/1000_187.JPG', 'NAIRA DATASET/Train/1000/1000_188.JPG', 'NAIRA DATASET/Train/1000/1000_189.JPG', 'NAIRA DATASET/Train/1000/1000_19.JPG', 'NAIRA DATASET/Train/1000/1000_190.JPG', 'NAIRA DATASET/Train/1000/1000_191.JPG', 'NAIRA DATASET/Train/1000/1000_192.JPG', 'NAIRA DATASET/Train/1000/1000_193.JPG', 'NAIRA DATASET/Train/1000/1000_194.JPG', 'NAIRA DATASET/Train/1000/1000_195.JPG', 'NAIRA DATASET/Train/1000/1000_196.JPG', 'NAIRA DATASET/Train/1000/1000_197.JPG', 'NAIRA DATASET/Train/1000/1000_198.JPG', 'NAIRA DATASET/Train/1000/1000_199.JPG', 'NAIRA DATASET/Train/1000/1000_2.jpg', 'NAIRA DATASET/Train/1000/1000_20.JPG', 'NAIRA DATASET/Train/1000/1000_200.JPG', 'NAIRA DATASET/Train/1000/1000_201.JPG', 'NAIRA DATASET/Train/1000/1000_202.JPG', 'NAIRA DATASET/Train/1000/1000_203.JPG', 'NAIRA DATASET/Train/1000/1000_204.JPG', 'NAIRA DATASET/Train/1000/1000_205.JPG', 'NAIRA DATASET/Train/1000/1000_206.JPG', 'NAIRA DATASET/Train/1000/1000_207.JPG', 'NAIRA DATASET/Train/1000/1000_208.JPG', 'NAIRA DATASET/Train/1000/1000_209.JPG', 'NAIRA DATASET/Train/1000/1000_21.JPG', 'NAIRA DATASET/Train/1000/1000_210.JPG', 'NAIRA DATASET/Train/1000/1000_22.JPG', 'NAIRA DATASET/Train/1000/1000_23.JPG', 'NAIRA DATASET/Train/1000/1000_24.JPG', 'NAIRA DATASET/Train/1000/1000_25.JPG', 'NAIRA DATASET/Train/1000/1000_26.JPG', 'NAIRA DATASET/Train/1000/1000_27.JPG', 'NAIRA DATASET/Train/1000/1000_28.JPG', 'NAIRA DATASET/Train/1000/1000_29.JPG', 'NAIRA DATASET/Train/1000/1000_3.jpg', 'NAIRA DATASET/Train/1000/1000_30.JPG', 'NAIRA DATASET/Train/1000/1000_31.JPG', 'NAIRA DATASET/Train/1000/1000_32.JPG', 'NAIRA DATASET/Train/1000/1000_33.JPG', 'NAIRA DATASET/Train/1000/1000_34.JPG', 'NAIRA DATASET/Train/1000/1000_35.JPG', 'NAIRA DATASET/Train/1000/1000_36.JPG', 'NAIRA DATASET/Train/1000/1000_37.JPG', 'NAIRA DATASET/Train/1000/1000_38.JPG', 'NAIRA DATASET/Train/1000/1000_39.JPG', 'NAIRA DATASET/Train/1000/1000_4.jpg', 'NAIRA DATASET/Train/1000/1000_40.JPG', 'NAIRA DATASET/Train/1000/1000_41.JPG', 'NAIRA DATASET/Train/1000/1000_42.JPG', 'NAIRA DATASET/Train/1000/1000_43.JPG', 'NAIRA DATASET/Train/1000/1000_44.JPG', 'NAIRA DATASET/Train/1000/1000_45.JPG', 'NAIRA DATASET/Train/1000/1000_46.JPG', 'NAIRA DATASET/Train/1000/1000_47.JPG', 'NAIRA DATASET/Train/1000/1000_48.JPG', 'NAIRA DATASET/Train/1000/1000_49.JPG', 'NAIRA DATASET/Train/1000/1000_5.JPG', 'NAIRA DATASET/Train/1000/1000_50.JPG', 'NAIRA DATASET/Train/1000/1000_51.JPG', 'NAIRA DATASET/Train/1000/1000_52.JPG', 'NAIRA DATASET/Train/1000/1000_53.JPG', 'NAIRA DATASET/Train/1000/1000_54.JPG', 'NAIRA DATASET/Train/1000/1000_55.JPG', 'NAIRA DATASET/Train/1000/1000_56.JPG', 'NAIRA DATASET/Train/1000/1000_57.JPG', 'NAIRA DATASET/Train/1000/1000_58.JPG', 'NAIRA DATASET/Train/1000/1000_59.JPG', 'NAIRA DATASET/Train/1000/1000_6.JPG', 'NAIRA DATASET/Train/1000/1000_60.JPG', 'NAIRA DATASET/Train/1000/1000_61.JPG', 'NAIRA DATASET/Train/1000/1000_62.JPG', 'NAIRA DATASET/Train/1000/1000_63.JPG', 'NAIRA DATASET/Train/1000/1000_64.JPG', 'NAIRA DATASET/Train/1000/1000_65.JPG', 'NAIRA DATASET/Train/1000/1000_66.JPG', 'NAIRA DATASET/Train/1000/1000_67.JPG', 'NAIRA DATASET/Train/1000/1000_68.JPG', 'NAIRA DATASET/Train/1000/1000_69.JPG', 'NAIRA DATASET/Train/1000/1000_7.JPG', 'NAIRA DATASET/Train/1000/1000_70.JPG', 'NAIRA DATASET/Train/1000/1000_71.JPG', 'NAIRA DATASET/Train/1000/1000_72.JPG', 'NAIRA DATASET/Train/1000/1000_73.JPG', 'NAIRA DATASET/Train/1000/1000_74.JPG', 'NAIRA DATASET/Train/1000/1000_75.JPG', 'NAIRA DATASET/Train/1000/1000_76.JPG', 'NAIRA DATASET/Train/1000/1000_77.JPG', 'NAIRA DATASET/Train/1000/1000_78.JPG', 'NAIRA DATASET/Train/1000/1000_79.JPG', 'NAIRA DATASET/Train/1000/1000_8.JPG', 'NAIRA DATASET/Train/1000/1000_80.JPG', 'NAIRA DATASET/Train/1000/1000_81.JPG', 'NAIRA DATASET/Train/1000/1000_82.JPG', 'NAIRA DATASET/Train/1000/1000_83.JPG', 'NAIRA DATASET/Train/1000/1000_84.JPG', 'NAIRA DATASET/Train/1000/1000_85.JPG', 'NAIRA DATASET/Train/1000/1000_86.JPG', 'NAIRA DATASET/Train/1000/1000_87.JPG', 'NAIRA DATASET/Train/1000/1000_88.JPG', 'NAIRA DATASET/Train/1000/1000_89.JPG', 'NAIRA DATASET/Train/1000/1000_9.JPG', 'NAIRA DATASET/Train/1000/1000_90.JPG', 'NAIRA DATASET/Train/1000/1000_91.JPG', 'NAIRA DATASET/Train/1000/1000_92.JPG', 'NAIRA DATASET/Train/1000/1000_93.JPG', 'NAIRA DATASET/Train/1000/1000_94.JPG', 'NAIRA DATASET/Train/1000/1000_95.JPG', 'NAIRA DATASET/Train/1000/1000_96.JPG', 'NAIRA DATASET/Train/1000/1000_97.JPG', 'NAIRA DATASET/Train/1000/1000_98.JPG', 'NAIRA DATASET/Train/1000/1000_99.JPG', 'NAIRA DATASET/Train/20/20_1.jpg', 'NAIRA DATASET/Train/20/20_10.jpg', 'NAIRA DATASET/Train/20/20_100.JPG', 'NAIRA DATASET/Train/20/20_101.JPG', 'NAIRA DATASET/Train/20/20_102.JPG', 'NAIRA DATASET/Train/20/20_103.JPG', 'NAIRA DATASET/Train/20/20_104.JPG', 'NAIRA DATASET/Train/20/20_105.JPG', 'NAIRA DATASET/Train/20/20_106.JPG', 'NAIRA DATASET/Train/20/20_107.JPG', 'NAIRA DATASET/Train/20/20_108.JPG', 'NAIRA DATASET/Train/20/20_109.JPG', 'NAIRA DATASET/Train/20/20_11.JPG', 'NAIRA DATASET/Train/20/20_110.JPG', 'NAIRA DATASET/Train/20/20_111.JPG', 'NAIRA DATASET/Train/20/20_112.JPG', 'NAIRA DATASET/Train/20/20_113.JPG', 'NAIRA DATASET/Train/20/20_114.JPG', 'NAIRA DATASET/Train/20/20_115.JPG', 'NAIRA DATASET/Train/20/20_116.JPG', 'NAIRA DATASET/Train/20/20_117.JPG', 'NAIRA DATASET/Train/20/20_118.JPG', 'NAIRA DATASET/Train/20/20_119.JPG', 'NAIRA DATASET/Train/20/20_12.JPG', 'NAIRA DATASET/Train/20/20_120.JPG', 'NAIRA DATASET/Train/20/20_121.JPG', 'NAIRA DATASET/Train/20/20_122.JPG', 'NAIRA DATASET/Train/20/20_123.JPG', 'NAIRA DATASET/Train/20/20_124.JPG', 'NAIRA DATASET/Train/20/20_125.JPG', 'NAIRA DATASET/Train/20/20_126.JPG', 'NAIRA DATASET/Train/20/20_127.JPG', 'NAIRA DATASET/Train/20/20_128.JPG', 'NAIRA DATASET/Train/20/20_129.JPG', 'NAIRA DATASET/Train/20/20_13.JPG', 'NAIRA DATASET/Train/20/20_130.JPG', 'NAIRA DATASET/Train/20/20_131.JPG', 'NAIRA DATASET/Train/20/20_132.JPG', 'NAIRA DATASET/Train/20/20_133.JPG', 'NAIRA DATASET/Train/20/20_134.JPG', 'NAIRA DATASET/Train/20/20_135.JPG', 'NAIRA DATASET/Train/20/20_136.JPG', 'NAIRA DATASET/Train/20/20_137.JPG', 'NAIRA DATASET/Train/20/20_138.JPG', 'NAIRA DATASET/Train/20/20_139.JPG', 'NAIRA DATASET/Train/20/20_14.JPG', 'NAIRA DATASET/Train/20/20_140.JPG', 'NAIRA DATASET/Train/20/20_141.JPG', 'NAIRA DATASET/Train/20/20_142.JPG', 'NAIRA DATASET/Train/20/20_143.JPG', 'NAIRA DATASET/Train/20/20_144.JPG', 'NAIRA DATASET/Train/20/20_145.JPG', 'NAIRA DATASET/Train/20/20_146.JPG', 'NAIRA DATASET/Train/20/20_147.JPG', 'NAIRA DATASET/Train/20/20_148.JPG', 'NAIRA DATASET/Train/20/20_149.JPG', 'NAIRA DATASET/Train/20/20_15.JPG', 'NAIRA DATASET/Train/20/20_150.JPG', 'NAIRA DATASET/Train/20/20_151.JPG', 'NAIRA DATASET/Train/20/20_152.JPG', 'NAIRA DATASET/Train/20/20_153.JPG', 'NAIRA DATASET/Train/20/20_154.JPG', 'NAIRA DATASET/Train/20/20_155.JPG', 'NAIRA DATASET/Train/20/20_156.JPG', 'NAIRA DATASET/Train/20/20_157.JPG', 'NAIRA DATASET/Train/20/20_158.JPG', 'NAIRA DATASET/Train/20/20_159.JPG', 'NAIRA DATASET/Train/20/20_16.JPG', 'NAIRA DATASET/Train/20/20_160.JPG', 'NAIRA DATASET/Train/20/20_161.JPG', 'NAIRA DATASET/Train/20/20_162.JPG', 'NAIRA DATASET/Train/20/20_163.JPG', 'NAIRA DATASET/Train/20/20_164.JPG', 'NAIRA DATASET/Train/20/20_165.JPG', 'NAIRA DATASET/Train/20/20_166.JPG', 'NAIRA DATASET/Train/20/20_167.JPG', 'NAIRA DATASET/Train/20/20_168.JPG', 'NAIRA DATASET/Train/20/20_169.JPG', 'NAIRA DATASET/Train/20/20_17.JPG', 'NAIRA DATASET/Train/20/20_170.JPG', 'NAIRA DATASET/Train/20/20_171.JPG', 'NAIRA DATASET/Train/20/20_172.JPG', 'NAIRA DATASET/Train/20/20_173.JPG', 'NAIRA DATASET/Train/20/20_174.JPG', 'NAIRA DATASET/Train/20/20_175.JPG', 'NAIRA DATASET/Train/20/20_176.JPG', 'NAIRA DATASET/Train/20/20_177.JPG', 'NAIRA DATASET/Train/20/20_178.JPG', 'NAIRA DATASET/Train/20/20_179.JPG', 'NAIRA DATASET/Train/20/20_18.JPG', 'NAIRA DATASET/Train/20/20_180.JPG', 'NAIRA DATASET/Train/20/20_181.JPG', 'NAIRA DATASET/Train/20/20_182.JPG', 'NAIRA DATASET/Train/20/20_183.jpeg', 'NAIRA DATASET/Train/20/20_184.jpeg', 'NAIRA DATASET/Train/20/20_185.jpeg', 'NAIRA DATASET/Train/20/20_186.jpeg', 'NAIRA DATASET/Train/20/20_187.jpeg', 'NAIRA DATASET/Train/20/20_188.jpeg', 'NAIRA DATASET/Train/20/20_189.jpeg', 'NAIRA DATASET/Train/20/20_19.JPG', 'NAIRA DATASET/Train/20/20_190.jpeg', 'NAIRA DATASET/Train/20/20_191.jpeg', 'NAIRA DATASET/Train/20/20_192.jpeg', 'NAIRA DATASET/Train/20/20_193.jpeg', 'NAIRA DATASET/Train/20/20_194.jpeg', 'NAIRA DATASET/Train/20/20_195.jpeg', 'NAIRA DATASET/Train/20/20_196.jpeg', 'NAIRA DATASET/Train/20/20_197.jpeg', 'NAIRA DATASET/Train/20/20_198.jpeg', 'NAIRA DATASET/Train/20/20_199.jpeg', 'NAIRA DATASET/Train/20/20_2.jpg', 'NAIRA DATASET/Train/20/20_20.JPG', 'NAIRA DATASET/Train/20/20_200.jpeg', 'NAIRA DATASET/Train/20/20_201.jpeg', 'NAIRA DATASET/Train/20/20_202.jpeg', 'NAIRA DATASET/Train/20/20_203.jpeg', 'NAIRA DATASET/Train/20/20_204.jpeg', 'NAIRA DATASET/Train/20/20_205.jpeg', 'NAIRA DATASET/Train/20/20_206.jpeg', 'NAIRA DATASET/Train/20/20_207.jpeg', 'NAIRA DATASET/Train/20/20_208.jpeg', 'NAIRA DATASET/Train/20/20_209.jpeg', 'NAIRA DATASET/Train/20/20_21.JPG', 'NAIRA DATASET/Train/20/20_210.jpeg', 'NAIRA DATASET/Train/20/20_211.jpeg', 'NAIRA DATASET/Train/20/20_212.jpeg', 'NAIRA DATASET/Train/20/20_213.jpeg', 'NAIRA DATASET/Train/20/20_214.jpeg', 'NAIRA DATASET/Train/20/20_215.jpeg', 'NAIRA DATASET/Train/20/20_216.jpeg', 'NAIRA DATASET/Train/20/20_217.jpeg', 'NAIRA DATASET/Train/20/20_218.jpeg', 'NAIRA DATASET/Train/20/20_219.jpeg', 'NAIRA DATASET/Train/20/20_22.JPG', 'NAIRA DATASET/Train/20/20_220.jpeg', 'NAIRA DATASET/Train/20/20_221.jpeg', 'NAIRA DATASET/Train/20/20_222.jpeg', 'NAIRA DATASET/Train/20/20_223.jpeg', 'NAIRA DATASET/Train/20/20_224.jpeg', 'NAIRA DATASET/Train/20/20_225.jpeg', 'NAIRA DATASET/Train/20/20_226.jpeg', 'NAIRA DATASET/Train/20/20_227.jpeg', 'NAIRA DATASET/Train/20/20_228.jpeg', 'NAIRA DATASET/Train/20/20_229.jpeg', 'NAIRA DATASET/Train/20/20_23.JPG', 'NAIRA DATASET/Train/20/20_230.jpeg', 'NAIRA DATASET/Train/20/20_231.jpeg', 'NAIRA DATASET/Train/20/20_232.jpeg', 'NAIRA DATASET/Train/20/20_233.jpeg', 'NAIRA DATASET/Train/20/20_234.jpeg', 'NAIRA DATASET/Train/20/20_235.jpeg', 'NAIRA DATASET/Train/20/20_236.jpeg', 'NAIRA DATASET/Train/20/20_24.JPG', 'NAIRA DATASET/Train/20/20_25.JPG', 'NAIRA DATASET/Train/20/20_26.JPG', 'NAIRA DATASET/Train/20/20_27.JPG', 'NAIRA DATASET/Train/20/20_28.JPG', 'NAIRA DATASET/Train/20/20_29.JPG', 'NAIRA DATASET/Train/20/20_3.jpg', 'NAIRA DATASET/Train/20/20_30.JPG', 'NAIRA DATASET/Train/20/20_31.JPG', 'NAIRA DATASET/Train/20/20_32.JPG', 'NAIRA DATASET/Train/20/20_33.JPG', 'NAIRA DATASET/Train/20/20_34.JPG', 'NAIRA DATASET/Train/20/20_35.JPG', 'NAIRA DATASET/Train/20/20_36.JPG', 'NAIRA DATASET/Train/20/20_37.JPG', 'NAIRA DATASET/Train/20/20_38.JPG', 'NAIRA DATASET/Train/20/20_39.JPG', 'NAIRA DATASET/Train/20/20_4.jpg', 'NAIRA DATASET/Train/20/20_40.JPG', 'NAIRA DATASET/Train/20/20_41.JPG', 'NAIRA DATASET/Train/20/20_42.JPG', 'NAIRA DATASET/Train/20/20_43.JPG', 'NAIRA DATASET/Train/20/20_44.JPG', 'NAIRA DATASET/Train/20/20_45.JPG', 'NAIRA DATASET/Train/20/20_46.JPG', 'NAIRA DATASET/Train/20/20_47.JPG', 'NAIRA DATASET/Train/20/20_48.JPG', 'NAIRA DATASET/Train/20/20_49.JPG', 'NAIRA DATASET/Train/20/20_5.jpg', 'NAIRA DATASET/Train/20/20_50.JPG', 'NAIRA DATASET/Train/20/20_51.JPG', 'NAIRA DATASET/Train/20/20_52.JPG', 'NAIRA DATASET/Train/20/20_53.JPG', 'NAIRA DATASET/Train/20/20_54.JPG', 'NAIRA DATASET/Train/20/20_55.JPG', 'NAIRA DATASET/Train/20/20_56.JPG', 'NAIRA DATASET/Train/20/20_57.JPG', 'NAIRA DATASET/Train/20/20_58.JPG', 'NAIRA DATASET/Train/20/20_59.JPG', 'NAIRA DATASET/Train/20/20_6.jpg', 'NAIRA DATASET/Train/20/20_60.JPG', 'NAIRA DATASET/Train/20/20_61.JPG', 'NAIRA DATASET/Train/20/20_62.JPG', 'NAIRA DATASET/Train/20/20_63.JPG', 'NAIRA DATASET/Train/20/20_64.JPG', 'NAIRA DATASET/Train/20/20_65.JPG', 'NAIRA DATASET/Train/20/20_66.JPG', 'NAIRA DATASET/Train/20/20_67.JPG', 'NAIRA DATASET/Train/20/20_68.JPG', 'NAIRA DATASET/Train/20/20_69.JPG', 'NAIRA DATASET/Train/20/20_7.jpg', 'NAIRA DATASET/Train/20/20_70.JPG', 'NAIRA DATASET/Train/20/20_71.JPG', 'NAIRA DATASET/Train/20/20_72.JPG', 'NAIRA DATASET/Train/20/20_73.JPG', 'NAIRA DATASET/Train/20/20_74.JPG', 'NAIRA DATASET/Train/20/20_75.JPG', 'NAIRA DATASET/Train/20/20_76.JPG', 'NAIRA DATASET/Train/20/20_77.JPG', 'NAIRA DATASET/Train/20/20_78.JPG', 'NAIRA DATASET/Train/20/20_79.JPG', 'NAIRA DATASET/Train/20/20_8.jpg', 'NAIRA DATASET/Train/20/20_80.JPG', 'NAIRA DATASET/Train/20/20_81.JPG', 'NAIRA DATASET/Train/20/20_82.JPG', 'NAIRA DATASET/Train/20/20_83.JPG', 'NAIRA DATASET/Train/20/20_84.JPG', 'NAIRA DATASET/Train/20/20_85.JPG', 'NAIRA DATASET/Train/20/20_86.JPG', 'NAIRA DATASET/Train/20/20_87.JPG', 'NAIRA DATASET/Train/20/20_88.JPG', 'NAIRA DATASET/Train/20/20_89.JPG', 'NAIRA DATASET/Train/20/20_9.jpg', 'NAIRA DATASET/Train/20/20_90.JPG', 'NAIRA DATASET/Train/20/20_91.JPG', 'NAIRA DATASET/Train/20/20_92.JPG', 'NAIRA DATASET/Train/20/20_93.JPG', 'NAIRA DATASET/Train/20/20_94.JPG', 'NAIRA DATASET/Train/20/20_95.JPG', 'NAIRA DATASET/Train/20/20_96.JPG', 'NAIRA DATASET/Train/20/20_97.JPG', 'NAIRA DATASET/Train/20/20_98.JPG', 'NAIRA DATASET/Train/20/20_99.JPG', 'NAIRA DATASET/Train/200/200_1.jpg', 'NAIRA DATASET/Train/200/200_10.jpg', 'NAIRA DATASET/Train/200/200_100.JPG', 'NAIRA DATASET/Train/200/200_101.JPG', 'NAIRA DATASET/Train/200/200_102.JPG', 'NAIRA DATASET/Train/200/200_103.JPG', 'NAIRA DATASET/Train/200/200_104.JPG', 'NAIRA DATASET/Train/200/200_105.JPG', 'NAIRA DATASET/Train/200/200_106.JPG', 'NAIRA DATASET/Train/200/200_107.JPG', 'NAIRA DATASET/Train/200/200_108.JPG', 'NAIRA DATASET/Train/200/200_109.JPG', 'NAIRA DATASET/Train/200/200_11.jpg', 'NAIRA DATASET/Train/200/200_110.JPG', 'NAIRA DATASET/Train/200/200_111.JPG', 'NAIRA DATASET/Train/200/200_112.JPG', 'NAIRA DATASET/Train/200/200_113.JPG', 'NAIRA DATASET/Train/200/200_114.JPG', 'NAIRA DATASET/Train/200/200_115.JPG', 'NAIRA DATASET/Train/200/200_116.JPG', 'NAIRA DATASET/Train/200/200_117.JPG', 'NAIRA DATASET/Train/200/200_118.JPG', 'NAIRA DATASET/Train/200/200_119.JPG', 'NAIRA DATASET/Train/200/200_12.jpg', 'NAIRA DATASET/Train/200/200_120.JPG', 'NAIRA DATASET/Train/200/200_121.JPG', 'NAIRA DATASET/Train/200/200_122.JPG', 'NAIRA DATASET/Train/200/200_123.JPG', 'NAIRA DATASET/Train/200/200_124.JPG', 'NAIRA DATASET/Train/200/200_125.JPG', 'NAIRA DATASET/Train/200/200_126.JPG', 'NAIRA DATASET/Train/200/200_127.JPG', 'NAIRA DATASET/Train/200/200_128.JPG', 'NAIRA DATASET/Train/200/200_129.JPG', 'NAIRA DATASET/Train/200/200_13.jpg', 'NAIRA DATASET/Train/200/200_130.JPG', 'NAIRA DATASET/Train/200/200_131.JPG', 'NAIRA DATASET/Train/200/200_132.JPG', 'NAIRA DATASET/Train/200/200_133.JPG', 'NAIRA DATASET/Train/200/200_134.JPG', 'NAIRA DATASET/Train/200/200_135.JPG', 'NAIRA DATASET/Train/200/200_136.JPG', 'NAIRA DATASET/Train/200/200_137.JPG', 'NAIRA DATASET/Train/200/200_138.JPG', 'NAIRA DATASET/Train/200/200_139.JPG', 'NAIRA DATASET/Train/200/200_14.jpg', 'NAIRA DATASET/Train/200/200_140.JPG', 'NAIRA DATASET/Train/200/200_141.JPG', 'NAIRA DATASET/Train/200/200_142.JPG', 'NAIRA DATASET/Train/200/200_143.JPG', 'NAIRA DATASET/Train/200/200_144.JPG', 'NAIRA DATASET/Train/200/200_145.JPG', 'NAIRA DATASET/Train/200/200_146.JPG', 'NAIRA DATASET/Train/200/200_147.JPG', 'NAIRA DATASET/Train/200/200_148.JPG', 'NAIRA DATASET/Train/200/200_149.JPG', 'NAIRA DATASET/Train/200/200_15.jpg', 'NAIRA DATASET/Train/200/200_150.JPG', 'NAIRA DATASET/Train/200/200_151.JPG', 'NAIRA DATASET/Train/200/200_152.JPG', 'NAIRA DATASET/Train/200/200_153.JPG', 'NAIRA DATASET/Train/200/200_154.JPG', 'NAIRA DATASET/Train/200/200_155.JPG', 'NAIRA DATASET/Train/200/200_156.JPG', 'NAIRA DATASET/Train/200/200_157.JPG', 'NAIRA DATASET/Train/200/200_158.JPG', 'NAIRA DATASET/Train/200/200_159.JPG', 'NAIRA DATASET/Train/200/200_16.jpg', 'NAIRA DATASET/Train/200/200_160.JPG', 'NAIRA DATASET/Train/200/200_161.JPG', 'NAIRA DATASET/Train/200/200_162.JPG', 'NAIRA DATASET/Train/200/200_163.JPG', 'NAIRA DATASET/Train/200/200_164.JPG', 'NAIRA DATASET/Train/200/200_165.JPG', 'NAIRA DATASET/Train/200/200_166.JPG', 'NAIRA DATASET/Train/200/200_167.JPG', 'NAIRA DATASET/Train/200/200_168.JPG', 'NAIRA DATASET/Train/200/200_169.JPG', 'NAIRA DATASET/Train/200/200_17.jpg', 'NAIRA DATASET/Train/200/200_170.JPG', 'NAIRA DATASET/Train/200/200_171.JPG', 'NAIRA DATASET/Train/200/200_172.JPG', 'NAIRA DATASET/Train/200/200_173.JPG', 'NAIRA DATASET/Train/200/200_174.JPG', 'NAIRA DATASET/Train/200/200_175.JPG', 'NAIRA DATASET/Train/200/200_176.JPG', 'NAIRA DATASET/Train/200/200_177.JPG', 'NAIRA DATASET/Train/200/200_178.JPG', 'NAIRA DATASET/Train/200/200_179.JPG', 'NAIRA DATASET/Train/200/200_18.jpg', 'NAIRA DATASET/Train/200/200_180.JPG', 'NAIRA DATASET/Train/200/200_181.JPG', 'NAIRA DATASET/Train/200/200_182.JPG', 'NAIRA DATASET/Train/200/200_183.JPG', 'NAIRA DATASET/Train/200/200_184.JPG', 'NAIRA DATASET/Train/200/200_185.JPG', 'NAIRA DATASET/Train/200/200_186.JPG', 'NAIRA DATASET/Train/200/200_187.JPG', 'NAIRA DATASET/Train/200/200_188.JPG', 'NAIRA DATASET/Train/200/200_189.JPG', 'NAIRA DATASET/Train/200/200_19.jpg', 'NAIRA DATASET/Train/200/200_190.JPG', 'NAIRA DATASET/Train/200/200_191.JPG', 'NAIRA DATASET/Train/200/200_192.JPG', 'NAIRA DATASET/Train/200/200_193.JPG', 'NAIRA DATASET/Train/200/200_194.JPG', 'NAIRA DATASET/Train/200/200_195.JPG', 'NAIRA DATASET/Train/200/200_196.JPG', 'NAIRA DATASET/Train/200/200_197.JPG', 'NAIRA DATASET/Train/200/200_198.JPG', 'NAIRA DATASET/Train/200/200_199.JPG', 'NAIRA DATASET/Train/200/200_2.jpg', 'NAIRA DATASET/Train/200/200_20.jpg', 'NAIRA DATASET/Train/200/200_200.JPG', 'NAIRA DATASET/Train/200/200_201.JPG', 'NAIRA DATASET/Train/200/200_202.JPG', 'NAIRA DATASET/Train/200/200_203.JPG', 'NAIRA DATASET/Train/200/200_204.JPG', 'NAIRA DATASET/Train/200/200_205.JPG', 'NAIRA DATASET/Train/200/200_206.JPG', 'NAIRA DATASET/Train/200/200_207.JPG', 'NAIRA DATASET/Train/200/200_208.JPG', 'NAIRA DATASET/Train/200/200_209.JPG', 'NAIRA DATASET/Train/200/200_21.jpg', 'NAIRA DATASET/Train/200/200_210.JPG', 'NAIRA DATASET/Train/200/200_22.jpg', 'NAIRA DATASET/Train/200/200_23.jpg', 'NAIRA DATASET/Train/200/200_24.jpg', 'NAIRA DATASET/Train/200/200_25.jpg', 'NAIRA DATASET/Train/200/200_26.jpg', 'NAIRA DATASET/Train/200/200_27.jpg', 'NAIRA DATASET/Train/200/200_28.jpg', 'NAIRA DATASET/Train/200/200_29.jpg', 'NAIRA DATASET/Train/200/200_3.jpg', 'NAIRA DATASET/Train/200/200_30.jpg', 'NAIRA DATASET/Train/200/200_31.jpg', 'NAIRA DATASET/Train/200/200_32.jpg', 'NAIRA DATASET/Train/200/200_33.jpg', 'NAIRA DATASET/Train/200/200_34.jpg', 'NAIRA DATASET/Train/200/200_35.jpg', 'NAIRA DATASET/Train/200/200_36.jpg', 'NAIRA DATASET/Train/200/200_37.jpg', 'NAIRA DATASET/Train/200/200_38.jpg', 'NAIRA DATASET/Train/200/200_39.jpg', 'NAIRA DATASET/Train/200/200_4.jpg', 'NAIRA DATASET/Train/200/200_40.jpg', 'NAIRA DATASET/Train/200/200_41.jpg', 'NAIRA DATASET/Train/200/200_42.jpg', 'NAIRA DATASET/Train/200/200_43.jpg', 'NAIRA DATASET/Train/200/200_44.jpg', 'NAIRA DATASET/Train/200/200_45.jpg', 'NAIRA DATASET/Train/200/200_46.jpg', 'NAIRA DATASET/Train/200/200_47.jpg', 'NAIRA DATASET/Train/200/200_48.jpg', 'NAIRA DATASET/Train/200/200_49.jpg', 'NAIRA DATASET/Train/200/200_5.jpg', 'NAIRA DATASET/Train/200/200_50.jpg', 'NAIRA DATASET/Train/200/200_51.jpg', 'NAIRA DATASET/Train/200/200_52.jpg', 'NAIRA DATASET/Train/200/200_53.jpg', 'NAIRA DATASET/Train/200/200_54.jpg', 'NAIRA DATASET/Train/200/200_55.jpg', 'NAIRA DATASET/Train/200/200_56.jpg', 'NAIRA DATASET/Train/200/200_57.jpg', 'NAIRA DATASET/Train/200/200_58.jpg', 'NAIRA DATASET/Train/200/200_59.JPG', 'NAIRA DATASET/Train/200/200_6.jpg', 'NAIRA DATASET/Train/200/200_60.JPG', 'NAIRA DATASET/Train/200/200_61.JPG', 'NAIRA DATASET/Train/200/200_62.JPG', 'NAIRA DATASET/Train/200/200_63.JPG', 'NAIRA DATASET/Train/200/200_64.JPG', 'NAIRA DATASET/Train/200/200_65.JPG', 'NAIRA DATASET/Train/200/200_66.JPG', 'NAIRA DATASET/Train/200/200_67.JPG', 'NAIRA DATASET/Train/200/200_68.JPG', 'NAIRA DATASET/Train/200/200_69.JPG', 'NAIRA DATASET/Train/200/200_7.jpg', 'NAIRA DATASET/Train/200/200_70.JPG', 'NAIRA DATASET/Train/200/200_71.JPG', 'NAIRA DATASET/Train/200/200_72.JPG', 'NAIRA DATASET/Train/200/200_73.JPG', 'NAIRA DATASET/Train/200/200_74.JPG', 'NAIRA DATASET/Train/200/200_75.JPG', 'NAIRA DATASET/Train/200/200_76.JPG', 'NAIRA DATASET/Train/200/200_77.JPG', 'NAIRA DATASET/Train/200/200_78.JPG', 'NAIRA DATASET/Train/200/200_79.JPG', 'NAIRA DATASET/Train/200/200_8.jpg', 'NAIRA DATASET/Train/200/200_80.JPG', 'NAIRA DATASET/Train/200/200_81.JPG', 'NAIRA DATASET/Train/200/200_82.JPG', 'NAIRA DATASET/Train/200/200_83.JPG', 'NAIRA DATASET/Train/200/200_84.JPG', 'NAIRA DATASET/Train/200/200_85.JPG', 'NAIRA DATASET/Train/200/200_86.JPG', 'NAIRA DATASET/Train/200/200_87.JPG', 'NAIRA DATASET/Train/200/200_88.JPG', 'NAIRA DATASET/Train/200/200_89.JPG', 'NAIRA DATASET/Train/200/200_9.jpg', 'NAIRA DATASET/Train/200/200_90.JPG', 'NAIRA DATASET/Train/200/200_91.JPG', 'NAIRA DATASET/Train/200/200_92.JPG', 'NAIRA DATASET/Train/200/200_93.JPG', 'NAIRA DATASET/Train/200/200_94.JPG', 'NAIRA DATASET/Train/200/200_95.JPG', 'NAIRA DATASET/Train/200/200_96.JPG', 'NAIRA DATASET/Train/200/200_97.JPG', 'NAIRA DATASET/Train/200/200_98.JPG', 'NAIRA DATASET/Train/200/200_99.JPG', 'NAIRA DATASET/Train/5/5_1.jpg', 'NAIRA DATASET/Train/5/5_10.jpg', 'NAIRA DATASET/Train/5/5_100.jpg', 'NAIRA DATASET/Train/5/5_101.jpg', 'NAIRA DATASET/Train/5/5_102.jpg', 'NAIRA DATASET/Train/5/5_103.jpg', 'NAIRA DATASET/Train/5/5_104.jpg', 'NAIRA DATASET/Train/5/5_105.jpg', 'NAIRA DATASET/Train/5/5_106.jpg', 'NAIRA DATASET/Train/5/5_107.jpg', 'NAIRA DATASET/Train/5/5_108.jpg', 'NAIRA DATASET/Train/5/5_109.jpg', 'NAIRA DATASET/Train/5/5_11.jpg', 'NAIRA DATASET/Train/5/5_110.jpg', 'NAIRA DATASET/Train/5/5_111.jpg', 'NAIRA DATASET/Train/5/5_112.jpg', 'NAIRA DATASET/Train/5/5_113.jpg', 'NAIRA DATASET/Train/5/5_114.jpg', 'NAIRA DATASET/Train/5/5_115.jpg', 'NAIRA DATASET/Train/5/5_116.jpeg', 'NAIRA DATASET/Train/5/5_117.jpeg', 'NAIRA DATASET/Train/5/5_118.jpeg', 'NAIRA DATASET/Train/5/5_119.jpeg', 'NAIRA DATASET/Train/5/5_12.jpg', 'NAIRA DATASET/Train/5/5_120.jpeg', 'NAIRA DATASET/Train/5/5_121.jpeg', 'NAIRA DATASET/Train/5/5_122.jpeg', 'NAIRA DATASET/Train/5/5_123.jpeg', 'NAIRA DATASET/Train/5/5_124.jpeg', 'NAIRA DATASET/Train/5/5_125.jpeg', 'NAIRA DATASET/Train/5/5_126.jpeg', 'NAIRA DATASET/Train/5/5_127.jpeg', 'NAIRA DATASET/Train/5/5_128.jpeg', 'NAIRA DATASET/Train/5/5_129.jpeg', 'NAIRA DATASET/Train/5/5_13.jpg', 'NAIRA DATASET/Train/5/5_130.jpeg', 'NAIRA DATASET/Train/5/5_131.jpeg', 'NAIRA DATASET/Train/5/5_132.jpeg', 'NAIRA DATASET/Train/5/5_133.jpeg', 'NAIRA DATASET/Train/5/5_134.jpeg', 'NAIRA DATASET/Train/5/5_135.jpeg', 'NAIRA DATASET/Train/5/5_136.jpeg', 'NAIRA DATASET/Train/5/5_137.jpeg', 'NAIRA DATASET/Train/5/5_14.jpg', 'NAIRA DATASET/Train/5/5_15.jpg', 'NAIRA DATASET/Train/5/5_16.jpg', 'NAIRA DATASET/Train/5/5_17.jpg', 'NAIRA DATASET/Train/5/5_18.jpg', 'NAIRA DATASET/Train/5/5_19.jpg', 'NAIRA DATASET/Train/5/5_2.jpg', 'NAIRA DATASET/Train/5/5_20.jpg', 'NAIRA DATASET/Train/5/5_21.jpg', 'NAIRA DATASET/Train/5/5_22.jpg', 'NAIRA DATASET/Train/5/5_23.jpg', 'NAIRA DATASET/Train/5/5_24.jpg', 'NAIRA DATASET/Train/5/5_25.jpg', 'NAIRA DATASET/Train/5/5_26.jpg', 'NAIRA DATASET/Train/5/5_27.jpg', 'NAIRA DATASET/Train/5/5_28.jpg', 'NAIRA DATASET/Train/5/5_29.jpg', 'NAIRA DATASET/Train/5/5_3.jpg', 'NAIRA DATASET/Train/5/5_30.jpg', 'NAIRA DATASET/Train/5/5_31.jpg', 'NAIRA DATASET/Train/5/5_32.jpg', 'NAIRA DATASET/Train/5/5_33.jpg', 'NAIRA DATASET/Train/5/5_34.jpg', 'NAIRA DATASET/Train/5/5_35.jpg', 'NAIRA DATASET/Train/5/5_36.jpg', 'NAIRA DATASET/Train/5/5_37.jpg', 'NAIRA DATASET/Train/5/5_38.jpg', 'NAIRA DATASET/Train/5/5_39.jpg', 'NAIRA DATASET/Train/5/5_4.jpg', 'NAIRA DATASET/Train/5/5_40.jpg', 'NAIRA DATASET/Train/5/5_41.jpg', 'NAIRA DATASET/Train/5/5_42.jpg', 'NAIRA DATASET/Train/5/5_43.jpg', 'NAIRA DATASET/Train/5/5_44.jpg', 'NAIRA DATASET/Train/5/5_45.jpg', 'NAIRA DATASET/Train/5/5_46.jpg', 'NAIRA DATASET/Train/5/5_47.jpg', 'NAIRA DATASET/Train/5/5_48.jpg', 'NAIRA DATASET/Train/5/5_49.jpg', 'NAIRA DATASET/Train/5/5_5.jpg', 'NAIRA DATASET/Train/5/5_50.jpg', 'NAIRA DATASET/Train/5/5_51.jpg', 'NAIRA DATASET/Train/5/5_52.jpg', 'NAIRA DATASET/Train/5/5_53.jpg', 'NAIRA DATASET/Train/5/5_54.jpg', 'NAIRA DATASET/Train/5/5_55.jpg', 'NAIRA DATASET/Train/5/5_56.jpg', 'NAIRA DATASET/Train/5/5_57.jpg', 'NAIRA DATASET/Train/5/5_58.jpg', 'NAIRA DATASET/Train/5/5_59.jpg', 'NAIRA DATASET/Train/5/5_6.jpg', 'NAIRA DATASET/Train/5/5_60.jpg', 'NAIRA DATASET/Train/5/5_61.jpg', 'NAIRA DATASET/Train/5/5_62.jpg', 'NAIRA DATASET/Train/5/5_63.jpg', 'NAIRA DATASET/Train/5/5_64.jpg', 'NAIRA DATASET/Train/5/5_65.jpg', 'NAIRA DATASET/Train/5/5_66.jpg', 'NAIRA DATASET/Train/5/5_67.jpg', 'NAIRA DATASET/Train/5/5_68.jpg', 'NAIRA DATASET/Train/5/5_69.jpg', 'NAIRA DATASET/Train/5/5_7.jpg', 'NAIRA DATASET/Train/5/5_70.jpg', 'NAIRA DATASET/Train/5/5_71.jpg', 'NAIRA DATASET/Train/5/5_72.jpg', 'NAIRA DATASET/Train/5/5_73.jpg', 'NAIRA DATASET/Train/5/5_74.jpg', 'NAIRA DATASET/Train/5/5_75.jpg', 'NAIRA DATASET/Train/5/5_76.jpg', 'NAIRA DATASET/Train/5/5_77.jpg', 'NAIRA DATASET/Train/5/5_78.jpg', 'NAIRA DATASET/Train/5/5_79.jpg', 'NAIRA DATASET/Train/5/5_8.jpg', 'NAIRA DATASET/Train/5/5_80.jpg', 'NAIRA DATASET/Train/5/5_81.jpg', 'NAIRA DATASET/Train/5/5_82.jpg', 'NAIRA DATASET/Train/5/5_83.jpg', 'NAIRA DATASET/Train/5/5_84.jpg', 'NAIRA DATASET/Train/5/5_85.jpg', 'NAIRA DATASET/Train/5/5_86.jpg', 'NAIRA DATASET/Train/5/5_87.jpg', 'NAIRA DATASET/Train/5/5_88.jpg', 'NAIRA DATASET/Train/5/5_89.jpg', 'NAIRA DATASET/Train/5/5_9.jpg', 'NAIRA DATASET/Train/5/5_90.jpg', 'NAIRA DATASET/Train/5/5_91.jpg', 'NAIRA DATASET/Train/5/5_92.jpg', 'NAIRA DATASET/Train/5/5_93.jpg', 'NAIRA DATASET/Train/5/5_94.jpg', 'NAIRA DATASET/Train/5/5_95.jpg', 'NAIRA DATASET/Train/5/5_96.jpg', 'NAIRA DATASET/Train/5/5_97.jpg', 'NAIRA DATASET/Train/5/5_98.jpg', 'NAIRA DATASET/Train/5/5_99.jpg', 'NAIRA DATASET/Train/50/50_1.jpg', 'NAIRA DATASET/Train/50/50_10.jpg', 'NAIRA DATASET/Train/50/50_100.JPG', 'NAIRA DATASET/Train/50/50_101.JPG', 'NAIRA DATASET/Train/50/50_102.JPG', 'NAIRA DATASET/Train/50/50_103.JPG', 'NAIRA DATASET/Train/50/50_104.JPG', 'NAIRA DATASET/Train/50/50_105.JPG', 'NAIRA DATASET/Train/50/50_106.JPG', 'NAIRA DATASET/Train/50/50_107.JPG', 'NAIRA DATASET/Train/50/50_108.JPG', 'NAIRA DATASET/Train/50/50_109.JPG', 'NAIRA DATASET/Train/50/50_11.jpg', 'NAIRA DATASET/Train/50/50_110.JPG', 'NAIRA DATASET/Train/50/50_111.JPG', 'NAIRA DATASET/Train/50/50_112.JPG', 'NAIRA DATASET/Train/50/50_113.JPG', 'NAIRA DATASET/Train/50/50_114.JPG', 'NAIRA DATASET/Train/50/50_115.JPG', 'NAIRA DATASET/Train/50/50_116.JPG', 'NAIRA DATASET/Train/50/50_117.JPG', 'NAIRA DATASET/Train/50/50_118.JPG', 'NAIRA DATASET/Train/50/50_119.JPG', 'NAIRA DATASET/Train/50/50_12.jpg', 'NAIRA DATASET/Train/50/50_120.JPG', 'NAIRA DATASET/Train/50/50_121.JPG', 'NAIRA DATASET/Train/50/50_122.JPG', 'NAIRA DATASET/Train/50/50_123.JPG', 'NAIRA DATASET/Train/50/50_124.JPG', 'NAIRA DATASET/Train/50/50_125.JPG', 'NAIRA DATASET/Train/50/50_126.JPG', 'NAIRA DATASET/Train/50/50_127.JPG', 'NAIRA DATASET/Train/50/50_128.JPG', 'NAIRA DATASET/Train/50/50_129.JPG', 'NAIRA DATASET/Train/50/50_13.jpg', 'NAIRA DATASET/Train/50/50_130.JPG', 'NAIRA DATASET/Train/50/50_131.JPG', 'NAIRA DATASET/Train/50/50_132.JPG', 'NAIRA DATASET/Train/50/50_133.JPG', 'NAIRA DATASET/Train/50/50_134.JPG', 'NAIRA DATASET/Train/50/50_135.JPG', 'NAIRA DATASET/Train/50/50_136.JPG', 'NAIRA DATASET/Train/50/50_137.JPG', 'NAIRA DATASET/Train/50/50_138.JPG', 'NAIRA DATASET/Train/50/50_139.JPG', 'NAIRA DATASET/Train/50/50_14.jpg', 'NAIRA DATASET/Train/50/50_140.JPG', 'NAIRA DATASET/Train/50/50_141.JPG', 'NAIRA DATASET/Train/50/50_142.JPG', 'NAIRA DATASET/Train/50/50_143.JPG', 'NAIRA DATASET/Train/50/50_144.JPG', 'NAIRA DATASET/Train/50/50_145.JPG', 'NAIRA DATASET/Train/50/50_146.JPG', 'NAIRA DATASET/Train/50/50_147.JPG', 'NAIRA DATASET/Train/50/50_148.JPG', 'NAIRA DATASET/Train/50/50_149.JPG', 'NAIRA DATASET/Train/50/50_15.jpg', 'NAIRA DATASET/Train/50/50_150.JPG', 'NAIRA DATASET/Train/50/50_151.JPG', 'NAIRA DATASET/Train/50/50_152.JPG', 'NAIRA DATASET/Train/50/50_153.JPG', 'NAIRA DATASET/Train/50/50_154.JPG', 'NAIRA DATASET/Train/50/50_155.JPG', 'NAIRA DATASET/Train/50/50_156.JPG', 'NAIRA DATASET/Train/50/50_157.JPG', 'NAIRA DATASET/Train/50/50_158.JPG', 'NAIRA DATASET/Train/50/50_159.JPG', 'NAIRA DATASET/Train/50/50_16.jpg', 'NAIRA DATASET/Train/50/50_160.JPG', 'NAIRA DATASET/Train/50/50_161.JPG', 'NAIRA DATASET/Train/50/50_162.JPG', 'NAIRA DATASET/Train/50/50_163.JPG', 'NAIRA DATASET/Train/50/50_164.JPG', 'NAIRA DATASET/Train/50/50_165.JPG', 'NAIRA DATASET/Train/50/50_166.JPG', 'NAIRA DATASET/Train/50/50_167.JPG', 'NAIRA DATASET/Train/50/50_168.JPG', 'NAIRA DATASET/Train/50/50_169.JPG', 'NAIRA DATASET/Train/50/50_17.jpg', 'NAIRA DATASET/Train/50/50_170.JPG', 'NAIRA DATASET/Train/50/50_171.JPG', 'NAIRA DATASET/Train/50/50_172.JPG', 'NAIRA DATASET/Train/50/50_173.JPG', 'NAIRA DATASET/Train/50/50_174.JPG', 'NAIRA DATASET/Train/50/50_175.JPG', 'NAIRA DATASET/Train/50/50_176.JPG', 'NAIRA DATASET/Train/50/50_177.JPG', 'NAIRA DATASET/Train/50/50_178.JPG', 'NAIRA DATASET/Train/50/50_179.JPG', 'NAIRA DATASET/Train/50/50_18.jpg', 'NAIRA DATASET/Train/50/50_180.JPG', 'NAIRA DATASET/Train/50/50_181.JPG', 'NAIRA DATASET/Train/50/50_182.JPG', 'NAIRA DATASET/Train/50/50_183.JPG', 'NAIRA DATASET/Train/50/50_184.JPG', 'NAIRA DATASET/Train/50/50_185.JPG', 'NAIRA DATASET/Train/50/50_186.JPG', 'NAIRA DATASET/Train/50/50_187.JPG', 'NAIRA DATASET/Train/50/50_188.JPG', 'NAIRA DATASET/Train/50/50_189.JPG', 'NAIRA DATASET/Train/50/50_19.jpg', 'NAIRA DATASET/Train/50/50_190.JPG', 'NAIRA DATASET/Train/50/50_191.JPG', 'NAIRA DATASET/Train/50/50_192.JPG', 'NAIRA DATASET/Train/50/50_193.JPG', 'NAIRA DATASET/Train/50/50_194.JPG', 'NAIRA DATASET/Train/50/50_195.JPG', 'NAIRA DATASET/Train/50/50_196.JPG', 'NAIRA DATASET/Train/50/50_197.JPG', 'NAIRA DATASET/Train/50/50_198.JPG', 'NAIRA DATASET/Train/50/50_199.JPG', 'NAIRA DATASET/Train/50/50_2.jpg', 'NAIRA DATASET/Train/50/50_20.jpg', 'NAIRA DATASET/Train/50/50_200.JPG', 'NAIRA DATASET/Train/50/50_201.JPG', 'NAIRA DATASET/Train/50/50_202.JPG', 'NAIRA DATASET/Train/50/50_203.JPG', 'NAIRA DATASET/Train/50/50_204.JPG', 'NAIRA DATASET/Train/50/50_205.JPG', 'NAIRA DATASET/Train/50/50_206.JPG', 'NAIRA DATASET/Train/50/50_207.JPG', 'NAIRA DATASET/Train/50/50_208.JPG', 'NAIRA DATASET/Train/50/50_209.JPG', 'NAIRA DATASET/Train/50/50_21.jpg', 'NAIRA DATASET/Train/50/50_210.JPG', 'NAIRA DATASET/Train/50/50_211.JPG', 'NAIRA DATASET/Train/50/50_212.JPG', 'NAIRA DATASET/Train/50/50_213.JPG', 'NAIRA DATASET/Train/50/50_214.JPG', 'NAIRA DATASET/Train/50/50_215.JPG', 'NAIRA DATASET/Train/50/50_216.JPG', 'NAIRA DATASET/Train/50/50_217.JPG', 'NAIRA DATASET/Train/50/50_218.JPG', 'NAIRA DATASET/Train/50/50_219.JPG', 'NAIRA DATASET/Train/50/50_22.jpg', 'NAIRA DATASET/Train/50/50_220.JPG', 'NAIRA DATASET/Train/50/50_221.JPG', 'NAIRA DATASET/Train/50/50_222.JPG', 'NAIRA DATASET/Train/50/50_223.JPG', 'NAIRA DATASET/Train/50/50_224.JPG', 'NAIRA DATASET/Train/50/50_225.JPG', 'NAIRA DATASET/Train/50/50_226.JPG', 'NAIRA DATASET/Train/50/50_227.JPG', 'NAIRA DATASET/Train/50/50_228.JPG', 'NAIRA DATASET/Train/50/50_229.JPG', 'NAIRA DATASET/Train/50/50_23.jpg', 'NAIRA DATASET/Train/50/50_230.JPG', 'NAIRA DATASET/Train/50/50_231.JPG', 'NAIRA DATASET/Train/50/50_232.JPG', 'NAIRA DATASET/Train/50/50_233.JPG', 'NAIRA DATASET/Train/50/50_234.JPG', 'NAIRA DATASET/Train/50/50_235.JPG', 'NAIRA DATASET/Train/50/50_236.JPG', 'NAIRA DATASET/Train/50/50_237.JPG', 'NAIRA DATASET/Train/50/50_238.JPG', 'NAIRA DATASET/Train/50/50_239.jpeg', 'NAIRA DATASET/Train/50/50_24.jpg', 'NAIRA DATASET/Train/50/50_240.jpeg', 'NAIRA DATASET/Train/50/50_241.jpeg', 'NAIRA DATASET/Train/50/50_242.jpeg', 'NAIRA DATASET/Train/50/50_243.jpeg', 'NAIRA DATASET/Train/50/50_244.jpeg', 'NAIRA DATASET/Train/50/50_245.jpeg', 'NAIRA DATASET/Train/50/50_246.jpeg', 'NAIRA DATASET/Train/50/50_247.jpeg', 'NAIRA DATASET/Train/50/50_248.jpeg', 'NAIRA DATASET/Train/50/50_249.jpeg', 'NAIRA DATASET/Train/50/50_25.jpg', 'NAIRA DATASET/Train/50/50_250.jpeg', 'NAIRA DATASET/Train/50/50_26.jpg', 'NAIRA DATASET/Train/50/50_27.jpg', 'NAIRA DATASET/Train/50/50_28.jpg', 'NAIRA DATASET/Train/50/50_29.jpg', 'NAIRA DATASET/Train/50/50_3.jpg', 'NAIRA DATASET/Train/50/50_30.jpg', 'NAIRA DATASET/Train/50/50_31.jpg', 'NAIRA DATASET/Train/50/50_32.jpg', 'NAIRA DATASET/Train/50/50_33.jpg', 'NAIRA DATASET/Train/50/50_34.jpg', 'NAIRA DATASET/Train/50/50_35.jpg', 'NAIRA DATASET/Train/50/50_36.jpg', 'NAIRA DATASET/Train/50/50_37.jpg', 'NAIRA DATASET/Train/50/50_38.jpg', 'NAIRA DATASET/Train/50/50_39.jpg', 'NAIRA DATASET/Train/50/50_4.jpg', 'NAIRA DATASET/Train/50/50_40.jpg', 'NAIRA DATASET/Train/50/50_41.jpg', 'NAIRA DATASET/Train/50/50_42.jpg', 'NAIRA DATASET/Train/50/50_43.jpg', 'NAIRA DATASET/Train/50/50_44.jpg', 'NAIRA DATASET/Train/50/50_45.JPG', 'NAIRA DATASET/Train/50/50_46.JPG', 'NAIRA DATASET/Train/50/50_47.JPG', 'NAIRA DATASET/Train/50/50_48.JPG', 'NAIRA DATASET/Train/50/50_49.JPG', 'NAIRA DATASET/Train/50/50_5.jpg', 'NAIRA DATASET/Train/50/50_50.JPG', 'NAIRA DATASET/Train/50/50_51.JPG', 'NAIRA DATASET/Train/50/50_52.JPG', 'NAIRA DATASET/Train/50/50_53.JPG', 'NAIRA DATASET/Train/50/50_54.JPG', 'NAIRA DATASET/Train/50/50_55.JPG', 'NAIRA DATASET/Train/50/50_56.JPG', 'NAIRA DATASET/Train/50/50_57.JPG', 'NAIRA DATASET/Train/50/50_58.JPG', 'NAIRA DATASET/Train/50/50_59.JPG', 'NAIRA DATASET/Train/50/50_6.jpg', 'NAIRA DATASET/Train/50/50_60.JPG', 'NAIRA DATASET/Train/50/50_61.JPG', 'NAIRA DATASET/Train/50/50_62.JPG', 'NAIRA DATASET/Train/50/50_63.JPG', 'NAIRA DATASET/Train/50/50_64.JPG', 'NAIRA DATASET/Train/50/50_65.JPG', 'NAIRA DATASET/Train/50/50_66.JPG', 'NAIRA DATASET/Train/50/50_67.JPG', 'NAIRA DATASET/Train/50/50_68.JPG', 'NAIRA DATASET/Train/50/50_69.JPG', 'NAIRA DATASET/Train/50/50_7.jpg', 'NAIRA DATASET/Train/50/50_70.JPG', 'NAIRA DATASET/Train/50/50_71.JPG', 'NAIRA DATASET/Train/50/50_72.JPG', 'NAIRA DATASET/Train/50/50_73.JPG', 'NAIRA DATASET/Train/50/50_74.JPG', 'NAIRA DATASET/Train/50/50_75.JPG', 'NAIRA DATASET/Train/50/50_76.JPG', 'NAIRA DATASET/Train/50/50_77.JPG', 'NAIRA DATASET/Train/50/50_78.JPG', 'NAIRA DATASET/Train/50/50_79.JPG', 'NAIRA DATASET/Train/50/50_8.jpg', 'NAIRA DATASET/Train/50/50_80.JPG', 'NAIRA DATASET/Train/50/50_81.JPG', 'NAIRA DATASET/Train/50/50_82.JPG', 'NAIRA DATASET/Train/50/50_83.JPG', 'NAIRA DATASET/Train/50/50_84.JPG', 'NAIRA DATASET/Train/50/50_85.JPG', 'NAIRA DATASET/Train/50/50_86.JPG', 'NAIRA DATASET/Train/50/50_87.JPG', 'NAIRA DATASET/Train/50/50_88.JPG', 'NAIRA DATASET/Train/50/50_89.JPG', 'NAIRA DATASET/Train/50/50_9.jpg', 'NAIRA DATASET/Train/50/50_90.JPG', 'NAIRA DATASET/Train/50/50_91.JPG', 'NAIRA DATASET/Train/50/50_92.JPG', 'NAIRA DATASET/Train/50/50_93.JPG', 'NAIRA DATASET/Train/50/50_94.JPG', 'NAIRA DATASET/Train/50/50_95.JPG', 'NAIRA DATASET/Train/50/50_96.JPG', 'NAIRA DATASET/Train/50/50_97.JPG', 'NAIRA DATASET/Train/50/50_98.JPG', 'NAIRA DATASET/Train/50/50_99.JPG', 'NAIRA DATASET/Train/500/500_1.jpg', 'NAIRA DATASET/Train/500/500_10.JPG', 'NAIRA DATASET/Train/500/500_100.JPG', 'NAIRA DATASET/Train/500/500_101.JPG', 'NAIRA DATASET/Train/500/500_102.JPG', 'NAIRA DATASET/Train/500/500_103.JPG', 'NAIRA DATASET/Train/500/500_104.JPG', 'NAIRA DATASET/Train/500/500_105.JPG', 'NAIRA DATASET/Train/500/500_106.JPG', 'NAIRA DATASET/Train/500/500_107.JPG', 'NAIRA DATASET/Train/500/500_108.JPG', 'NAIRA DATASET/Train/500/500_109.JPG', 'NAIRA DATASET/Train/500/500_11.JPG', 'NAIRA DATASET/Train/500/500_110.JPG', 'NAIRA DATASET/Train/500/500_111.JPG', 'NAIRA DATASET/Train/500/500_112.JPG', 'NAIRA DATASET/Train/500/500_113.JPG', 'NAIRA DATASET/Train/500/500_114.JPG', 'NAIRA DATASET/Train/500/500_115.JPG', 'NAIRA DATASET/Train/500/500_116.JPG', 'NAIRA DATASET/Train/500/500_117.JPG', 'NAIRA DATASET/Train/500/500_118.JPG', 'NAIRA DATASET/Train/500/500_119.JPG', 'NAIRA DATASET/Train/500/500_12.JPG', 'NAIRA DATASET/Train/500/500_120.JPG', 'NAIRA DATASET/Train/500/500_121.JPG', 'NAIRA DATASET/Train/500/500_122.JPG', 'NAIRA DATASET/Train/500/500_123.JPG', 'NAIRA DATASET/Train/500/500_124.JPG', 'NAIRA DATASET/Train/500/500_125.JPG', 'NAIRA DATASET/Train/500/500_126.JPG', 'NAIRA DATASET/Train/500/500_127.JPG', 'NAIRA DATASET/Train/500/500_128.JPG', 'NAIRA DATASET/Train/500/500_129.JPG', 'NAIRA DATASET/Train/500/500_13.JPG', 'NAIRA DATASET/Train/500/500_130.JPG', 'NAIRA DATASET/Train/500/500_131.JPG', 'NAIRA DATASET/Train/500/500_132.JPG', 'NAIRA DATASET/Train/500/500_133.JPG', 'NAIRA DATASET/Train/500/500_134.JPG', 'NAIRA DATASET/Train/500/500_135.JPG', 'NAIRA DATASET/Train/500/500_136.JPG', 'NAIRA DATASET/Train/500/500_137.JPG', 'NAIRA DATASET/Train/500/500_138.JPG', 'NAIRA DATASET/Train/500/500_139.JPG', 'NAIRA DATASET/Train/500/500_14.JPG', 'NAIRA DATASET/Train/500/500_140.JPG', 'NAIRA DATASET/Train/500/500_141.JPG', 'NAIRA DATASET/Train/500/500_142.JPG', 'NAIRA DATASET/Train/500/500_143.JPG', 'NAIRA DATASET/Train/500/500_144.JPG', 'NAIRA DATASET/Train/500/500_145.JPG', 'NAIRA DATASET/Train/500/500_146.JPG', 'NAIRA DATASET/Train/500/500_147.JPG', 'NAIRA DATASET/Train/500/500_148.JPG', 'NAIRA DATASET/Train/500/500_149.JPG', 'NAIRA DATASET/Train/500/500_15.JPG', 'NAIRA DATASET/Train/500/500_150.JPG', 'NAIRA DATASET/Train/500/500_151.JPG', 'NAIRA DATASET/Train/500/500_152.JPG', 'NAIRA DATASET/Train/500/500_153.JPG', 'NAIRA DATASET/Train/500/500_154.JPG', 'NAIRA DATASET/Train/500/500_155.JPG', 'NAIRA DATASET/Train/500/500_156.JPG', 'NAIRA DATASET/Train/500/500_157.JPG', 'NAIRA DATASET/Train/500/500_158.JPG', 'NAIRA DATASET/Train/500/500_159.JPG', 'NAIRA DATASET/Train/500/500_16.JPG', 'NAIRA DATASET/Train/500/500_160.JPG', 'NAIRA DATASET/Train/500/500_161.JPG', 'NAIRA DATASET/Train/500/500_162.JPG', 'NAIRA DATASET/Train/500/500_163.JPG', 'NAIRA DATASET/Train/500/500_164.JPG', 'NAIRA DATASET/Train/500/500_165.JPG', 'NAIRA DATASET/Train/500/500_166.JPG', 'NAIRA DATASET/Train/500/500_167.JPG', 'NAIRA DATASET/Train/500/500_168.JPG', 'NAIRA DATASET/Train/500/500_169.JPG', 'NAIRA DATASET/Train/500/500_17.JPG', 'NAIRA DATASET/Train/500/500_170.JPG', 'NAIRA DATASET/Train/500/500_171.JPG', 'NAIRA DATASET/Train/500/500_172.JPG', 'NAIRA DATASET/Train/500/500_173.JPG', 'NAIRA DATASET/Train/500/500_174.JPG', 'NAIRA DATASET/Train/500/500_175.JPG', 'NAIRA DATASET/Train/500/500_176.JPG', 'NAIRA DATASET/Train/500/500_177.JPG', 'NAIRA DATASET/Train/500/500_178.JPG', 'NAIRA DATASET/Train/500/500_179.JPG', 'NAIRA DATASET/Train/500/500_18.JPG', 'NAIRA DATASET/Train/500/500_180.JPG', 'NAIRA DATASET/Train/500/500_181.JPG', 'NAIRA DATASET/Train/500/500_182.JPG', 'NAIRA DATASET/Train/500/500_183.JPG', 'NAIRA DATASET/Train/500/500_184.JPG', 'NAIRA DATASET/Train/500/500_185.JPG', 'NAIRA DATASET/Train/500/500_186.JPG', 'NAIRA DATASET/Train/500/500_187.JPG', 'NAIRA DATASET/Train/500/500_188.JPG', 'NAIRA DATASET/Train/500/500_189.JPG', 'NAIRA DATASET/Train/500/500_19.JPG', 'NAIRA DATASET/Train/500/500_190.JPG', 'NAIRA DATASET/Train/500/500_191.JPG', 'NAIRA DATASET/Train/500/500_192.JPG', 'NAIRA DATASET/Train/500/500_193.JPG', 'NAIRA DATASET/Train/500/500_194.JPG', 'NAIRA DATASET/Train/500/500_195.JPG', 'NAIRA DATASET/Train/500/500_196.JPG', 'NAIRA DATASET/Train/500/500_197.JPG', 'NAIRA DATASET/Train/500/500_198.JPG', 'NAIRA DATASET/Train/500/500_199.JPG', 'NAIRA DATASET/Train/500/500_2.jpg', 'NAIRA DATASET/Train/500/500_20.JPG', 'NAIRA DATASET/Train/500/500_200.JPG', 'NAIRA DATASET/Train/500/500_201.JPG', 'NAIRA DATASET/Train/500/500_202.JPG', 'NAIRA DATASET/Train/500/500_203.JPG', 'NAIRA DATASET/Train/500/500_204.JPG', 'NAIRA DATASET/Train/500/500_205.JPG', 'NAIRA DATASET/Train/500/500_206.JPG', 'NAIRA DATASET/Train/500/500_207.JPG', 'NAIRA DATASET/Train/500/500_208.JPG', 'NAIRA DATASET/Train/500/500_209.JPG', 'NAIRA DATASET/Train/500/500_21.JPG', 'NAIRA DATASET/Train/500/500_210.JPG', 'NAIRA DATASET/Train/500/500_211.JPG', 'NAIRA DATASET/Train/500/500_212.JPG', 'NAIRA DATASET/Train/500/500_213.JPG', 'NAIRA DATASET/Train/500/500_214.JPG', 'NAIRA DATASET/Train/500/500_215.JPG', 'NAIRA DATASET/Train/500/500_216.JPG', 'NAIRA DATASET/Train/500/500_217.JPG', 'NAIRA DATASET/Train/500/500_218.JPG', 'NAIRA DATASET/Train/500/500_219.JPG', 'NAIRA DATASET/Train/500/500_22.JPG', 'NAIRA DATASET/Train/500/500_220.JPG', 'NAIRA DATASET/Train/500/500_221.JPG', 'NAIRA DATASET/Train/500/500_222.JPG', 'NAIRA DATASET/Train/500/500_223.JPG', 'NAIRA DATASET/Train/500/500_224.JPG', 'NAIRA DATASET/Train/500/500_225.JPG', 'NAIRA DATASET/Train/500/500_226.JPG', 'NAIRA DATASET/Train/500/500_227.JPG', 'NAIRA DATASET/Train/500/500_228.JPG', 'NAIRA DATASET/Train/500/500_229.JPG', 'NAIRA DATASET/Train/500/500_23.JPG', 'NAIRA DATASET/Train/500/500_230.JPG', 'NAIRA DATASET/Train/500/500_231.JPG', 'NAIRA DATASET/Train/500/500_232.JPG', 'NAIRA DATASET/Train/500/500_233.JPG', 'NAIRA DATASET/Train/500/500_234.JPG', 'NAIRA DATASET/Train/500/500_235.JPG', 'NAIRA DATASET/Train/500/500_236.JPG', 'NAIRA DATASET/Train/500/500_237.JPG', 'NAIRA DATASET/Train/500/500_238.JPG', 'NAIRA DATASET/Train/500/500_239.JPG', 'NAIRA DATASET/Train/500/500_24.JPG', 'NAIRA DATASET/Train/500/500_240.JPG', 'NAIRA DATASET/Train/500/500_241.JPG', 'NAIRA DATASET/Train/500/500_242.JPG', 'NAIRA DATASET/Train/500/500_243.JPG', 'NAIRA DATASET/Train/500/500_244.JPG', 'NAIRA DATASET/Train/500/500_245.JPG', 'NAIRA DATASET/Train/500/500_246.JPG', 'NAIRA DATASET/Train/500/500_247.JPG', 'NAIRA DATASET/Train/500/500_248.JPG', 'NAIRA DATASET/Train/500/500_249.JPG', 'NAIRA DATASET/Train/500/500_25.JPG', 'NAIRA DATASET/Train/500/500_250.JPG', 'NAIRA DATASET/Train/500/500_251.JPG', 'NAIRA DATASET/Train/500/500_252.JPG', 'NAIRA DATASET/Train/500/500_253.JPG', 'NAIRA DATASET/Train/500/500_254.JPG', 'NAIRA DATASET/Train/500/500_255.JPG', 'NAIRA DATASET/Train/500/500_256.JPG', 'NAIRA DATASET/Train/500/500_257.JPG', 'NAIRA DATASET/Train/500/500_258.JPG', 'NAIRA DATASET/Train/500/500_259.JPG', 'NAIRA DATASET/Train/500/500_26.JPG', 'NAIRA DATASET/Train/500/500_260.JPG', 'NAIRA DATASET/Train/500/500_261.JPG', 'NAIRA DATASET/Train/500/500_262.JPG', 'NAIRA DATASET/Train/500/500_263.JPG', 'NAIRA DATASET/Train/500/500_264.JPG', 'NAIRA DATASET/Train/500/500_265.JPG', 'NAIRA DATASET/Train/500/500_266.JPG', 'NAIRA DATASET/Train/500/500_267.JPG', 'NAIRA DATASET/Train/500/500_268.JPG', 'NAIRA DATASET/Train/500/500_269.JPG', 'NAIRA DATASET/Train/500/500_27.JPG', 'NAIRA DATASET/Train/500/500_270.JPG', 'NAIRA DATASET/Train/500/500_271.JPG', 'NAIRA DATASET/Train/500/500_272.JPG', 'NAIRA DATASET/Train/500/500_273.JPG', 'NAIRA DATASET/Train/500/500_274.JPG', 'NAIRA DATASET/Train/500/500_275.JPG', 'NAIRA DATASET/Train/500/500_276.JPG', 'NAIRA DATASET/Train/500/500_277.JPG', 'NAIRA DATASET/Train/500/500_28.JPG', 'NAIRA DATASET/Train/500/500_29.JPG', 'NAIRA DATASET/Train/500/500_3.jpg', 'NAIRA DATASET/Train/500/500_30.JPG', 'NAIRA DATASET/Train/500/500_31.JPG', 'NAIRA DATASET/Train/500/500_32.JPG', 'NAIRA DATASET/Train/500/500_33.JPG', 'NAIRA DATASET/Train/500/500_34.JPG', 'NAIRA DATASET/Train/500/500_35.JPG', 'NAIRA DATASET/Train/500/500_36.JPG', 'NAIRA DATASET/Train/500/500_37.JPG', 'NAIRA DATASET/Train/500/500_38.JPG', 'NAIRA DATASET/Train/500/500_39.JPG', 'NAIRA DATASET/Train/500/500_4.jpg', 'NAIRA DATASET/Train/500/500_40.JPG', 'NAIRA DATASET/Train/500/500_41.JPG', 'NAIRA DATASET/Train/500/500_42.JPG', 'NAIRA DATASET/Train/500/500_43.JPG', 'NAIRA DATASET/Train/500/500_44.JPG', 'NAIRA DATASET/Train/500/500_45.JPG', 'NAIRA DATASET/Train/500/500_46.JPG', 'NAIRA DATASET/Train/500/500_47.JPG', 'NAIRA DATASET/Train/500/500_48.JPG', 'NAIRA DATASET/Train/500/500_49.JPG', 'NAIRA DATASET/Train/500/500_5.JPG', 'NAIRA DATASET/Train/500/500_50.JPG', 'NAIRA DATASET/Train/500/500_51.JPG', 'NAIRA DATASET/Train/500/500_52.JPG', 'NAIRA DATASET/Train/500/500_53.JPG', 'NAIRA DATASET/Train/500/500_54.JPG', 'NAIRA DATASET/Train/500/500_55.JPG', 'NAIRA DATASET/Train/500/500_56.JPG', 'NAIRA DATASET/Train/500/500_57.JPG', 'NAIRA DATASET/Train/500/500_58.JPG', 'NAIRA DATASET/Train/500/500_59.JPG', 'NAIRA DATASET/Train/500/500_6.JPG', 'NAIRA DATASET/Train/500/500_60.JPG', 'NAIRA DATASET/Train/500/500_61.JPG', 'NAIRA DATASET/Train/500/500_62.JPG', 'NAIRA DATASET/Train/500/500_63.JPG', 'NAIRA DATASET/Train/500/500_64.JPG', 'NAIRA DATASET/Train/500/500_65.JPG', 'NAIRA DATASET/Train/500/500_66.JPG', 'NAIRA DATASET/Train/500/500_67.JPG', 'NAIRA DATASET/Train/500/500_68.JPG', 'NAIRA DATASET/Train/500/500_69.JPG', 'NAIRA DATASET/Train/500/500_7.JPG', 'NAIRA DATASET/Train/500/500_70.JPG', 'NAIRA DATASET/Train/500/500_71.JPG', 'NAIRA DATASET/Train/500/500_72.JPG', 'NAIRA DATASET/Train/500/500_73.JPG', 'NAIRA DATASET/Train/500/500_74.JPG', 'NAIRA DATASET/Train/500/500_75.JPG', 'NAIRA DATASET/Train/500/500_76.JPG', 'NAIRA DATASET/Train/500/500_77.JPG', 'NAIRA DATASET/Train/500/500_78.JPG', 'NAIRA DATASET/Train/500/500_79.JPG', 'NAIRA DATASET/Train/500/500_8.JPG', 'NAIRA DATASET/Train/500/500_80.JPG', 'NAIRA DATASET/Train/500/500_81.JPG', 'NAIRA DATASET/Train/500/500_82.JPG', 'NAIRA DATASET/Train/500/500_83.JPG', 'NAIRA DATASET/Train/500/500_84.JPG', 'NAIRA DATASET/Train/500/500_85.JPG', 'NAIRA DATASET/Train/500/500_86.JPG', 'NAIRA DATASET/Train/500/500_87.JPG', 'NAIRA DATASET/Train/500/500_88.JPG', 'NAIRA DATASET/Train/500/500_89.JPG', 'NAIRA DATASET/Train/500/500_9.JPG', 'NAIRA DATASET/Train/500/500_90.JPG', 'NAIRA DATASET/Train/500/500_91.JPG', 'NAIRA DATASET/Train/500/500_92.JPG', 'NAIRA DATASET/Train/500/500_93.JPG', 'NAIRA DATASET/Train/500/500_94.JPG', 'NAIRA DATASET/Train/500/500_95.JPG', 'NAIRA DATASET/Train/500/500_96.JPG', 'NAIRA DATASET/Train/500/500_97.JPG', 'NAIRA DATASET/Train/500/500_98.JPG', 'NAIRA DATASET/Train/500/500_99.JPG', 'NAIRA DATASET/val/10/10_1.jpg', 'NAIRA DATASET/val/10/10_10.jpg', 'NAIRA DATASET/val/10/10_11.jpg', 'NAIRA DATASET/val/10/10_12.jpg', 'NAIRA DATASET/val/10/10_13.jpeg', 'NAIRA DATASET/val/10/10_14.jpeg', 'NAIRA DATASET/val/10/10_15.jpeg', 'NAIRA DATASET/val/10/10_16.jpeg', 'NAIRA DATASET/val/10/10_17.jpeg', 'NAIRA DATASET/val/10/10_18.jpeg', 'NAIRA DATASET/val/10/10_19.jpeg', 'NAIRA DATASET/val/10/10_2.jpg', 'NAIRA DATASET/val/10/10_20.jpeg', 'NAIRA DATASET/val/10/10_3.jpg', 'NAIRA DATASET/val/10/10_4.jpg', 'NAIRA DATASET/val/10/10_5.jpg', 'NAIRA DATASET/val/10/10_6.jpg', 'NAIRA DATASET/val/10/10_7.jpg', 'NAIRA DATASET/val/10/10_8.jpg', 'NAIRA DATASET/val/10/10_9.jpg', 'NAIRA DATASET/val/100/100_1.jpg', 'NAIRA DATASET/val/100/100_10.JPG', 'NAIRA DATASET/val/100/100_11.JPG', 'NAIRA DATASET/val/100/100_12.JPG', 'NAIRA DATASET/val/100/100_13.JPG', 'NAIRA DATASET/val/100/100_14.JPG', 'NAIRA DATASET/val/100/100_15.JPG', 'NAIRA DATASET/val/100/100_16.JPG', 'NAIRA DATASET/val/100/100_17.JPG', 'NAIRA DATASET/val/100/100_18.JPG', 'NAIRA DATASET/val/100/100_19.JPG', 'NAIRA DATASET/val/100/100_2.jpg', 'NAIRA DATASET/val/100/100_20.JPG', 'NAIRA DATASET/val/100/100_21.JPG', 'NAIRA DATASET/val/100/100_22.JPG', 'NAIRA DATASET/val/100/100_23.JPG', 'NAIRA DATASET/val/100/100_24.JPG', 'NAIRA DATASET/val/100/100_25.JPG', 'NAIRA DATASET/val/100/100_26.JPG', 'NAIRA DATASET/val/100/100_27.JPG', 'NAIRA DATASET/val/100/100_28.JPG', 'NAIRA DATASET/val/100/100_3.jpg', 'NAIRA DATASET/val/100/100_4.jpg', 'NAIRA DATASET/val/100/100_5.JPG', 'NAIRA DATASET/val/100/100_6.JPG', 'NAIRA DATASET/val/100/100_7.JPG', 'NAIRA DATASET/val/100/100_8.JPG', 'NAIRA DATASET/val/100/100_9.JPG', 'NAIRA DATASET/val/1000/1000_1.jpg', 'NAIRA DATASET/val/1000/1000_10.JPG', 'NAIRA DATASET/val/1000/1000_11.JPG', 'NAIRA DATASET/val/1000/1000_12.JPG', 'NAIRA DATASET/val/1000/1000_13.JPG', 'NAIRA DATASET/val/1000/1000_14.JPG', 'NAIRA DATASET/val/1000/1000_15.JPG', 'NAIRA DATASET/val/1000/1000_16.JPG', 'NAIRA DATASET/val/1000/1000_17.JPG', 'NAIRA DATASET/val/1000/1000_18.JPG', 'NAIRA DATASET/val/1000/1000_19.JPG', 'NAIRA DATASET/val/1000/1000_2.jpg', 'NAIRA DATASET/val/1000/1000_20.JPG', 'NAIRA DATASET/val/1000/1000_21.JPG', 'NAIRA DATASET/val/1000/1000_22.JPG', 'NAIRA DATASET/val/1000/1000_23.JPG', 'NAIRA DATASET/val/1000/1000_24.JPG', 'NAIRA DATASET/val/1000/1000_25.JPG', 'NAIRA DATASET/val/1000/1000_26.JPG', 'NAIRA DATASET/val/1000/1000_27.JPG', 'NAIRA DATASET/val/1000/1000_28.JPG', 'NAIRA DATASET/val/1000/1000_3.jpg', 'NAIRA DATASET/val/1000/1000_4.jpg', 'NAIRA DATASET/val/1000/1000_5.jpg', 'NAIRA DATASET/val/1000/1000_6.jpg', 'NAIRA DATASET/val/1000/1000_7.jpg', 'NAIRA DATASET/val/1000/1000_8.jpg', 'NAIRA DATASET/val/1000/1000_9.JPG', 'NAIRA DATASET/val/20/20_1.jpg', 'NAIRA DATASET/val/20/20_10.JPG', 'NAIRA DATASET/val/20/20_11.JPG', 'NAIRA DATASET/val/20/20_12.JPG', 'NAIRA DATASET/val/20/20_13.JPG', 'NAIRA DATASET/val/20/20_14.JPG', 'NAIRA DATASET/val/20/20_15.JPG', 'NAIRA DATASET/val/20/20_16.JPG', 'NAIRA DATASET/val/20/20_17.JPG', 'NAIRA DATASET/val/20/20_18.JPG', 'NAIRA DATASET/val/20/20_19.JPG', 'NAIRA DATASET/val/20/20_2.jpg', 'NAIRA DATASET/val/20/20_20.JPG', 'NAIRA DATASET/val/20/20_21.jpeg', 'NAIRA DATASET/val/20/20_22.jpeg', 'NAIRA DATASET/val/20/20_23.jpeg', 'NAIRA DATASET/val/20/20_24.jpeg', 'NAIRA DATASET/val/20/20_25.jpeg', 'NAIRA DATASET/val/20/20_26.jpeg', 'NAIRA DATASET/val/20/20_27.jpeg', 'NAIRA DATASET/val/20/20_28.jpeg', 'NAIRA DATASET/val/20/20_3.jpg', 'NAIRA DATASET/val/20/20_4.jpg', 'NAIRA DATASET/val/20/20_5.JPG', 'NAIRA DATASET/val/20/20_6.JPG', 'NAIRA DATASET/val/20/20_7.JPG', 'NAIRA DATASET/val/20/20_8.JPG', 'NAIRA DATASET/val/20/20_9.JPG', 'NAIRA DATASET/val/200/200_1.jpg', 'NAIRA DATASET/val/200/200_10.JPG', 'NAIRA DATASET/val/200/200_11.JPG', 'NAIRA DATASET/val/200/200_12.JPG', 'NAIRA DATASET/val/200/200_13.JPG', 'NAIRA DATASET/val/200/200_14.JPG', 'NAIRA DATASET/val/200/200_15.JPG', 'NAIRA DATASET/val/200/200_16.JPG', 'NAIRA DATASET/val/200/200_17.JPG', 'NAIRA DATASET/val/200/200_18.JPG', 'NAIRA DATASET/val/200/200_19.JPG', 'NAIRA DATASET/val/200/200_2.jpg', 'NAIRA DATASET/val/200/200_20.JPG', 'NAIRA DATASET/val/200/200_21.JPG', 'NAIRA DATASET/val/200/200_22.JPG', 'NAIRA DATASET/val/200/200_23.JPG', 'NAIRA DATASET/val/200/200_24.JPG', 'NAIRA DATASET/val/200/200_25.JPG', 'NAIRA DATASET/val/200/200_26.JPG', 'NAIRA DATASET/val/200/200_27.JPG', 'NAIRA DATASET/val/200/200_28.JPG', 'NAIRA DATASET/val/200/200_3.jpg', 'NAIRA DATASET/val/200/200_4.jpg', 'NAIRA DATASET/val/200/200_5.jpg', 'NAIRA DATASET/val/200/200_6.jpg', 'NAIRA DATASET/val/200/200_7.jpg', 'NAIRA DATASET/val/200/200_8.jpg', 'NAIRA DATASET/val/200/200_9.JPG', 'NAIRA DATASET/val/5/5_1.jpg', 'NAIRA DATASET/val/5/5_10.jpg', 'NAIRA DATASET/val/5/5_11.jpg', 'NAIRA DATASET/val/5/5_12.jpg', 'NAIRA DATASET/val/5/5_13.jpg', 'NAIRA DATASET/val/5/5_14.jpg', 'NAIRA DATASET/val/5/5_15.jpg', 'NAIRA DATASET/val/5/5_16.jpg', 'NAIRA DATASET/val/5/5_17.jpg', 'NAIRA DATASET/val/5/5_18.jpg', 'NAIRA DATASET/val/5/5_19.jpg', 'NAIRA DATASET/val/5/5_2.jpg', 'NAIRA DATASET/val/5/5_20.jpg', 'NAIRA DATASET/val/5/5_21.jpeg', 'NAIRA DATASET/val/5/5_22.jpeg', 'NAIRA DATASET/val/5/5_23.jpeg', 'NAIRA DATASET/val/5/5_24.jpeg', 'NAIRA DATASET/val/5/5_25.jpeg', 'NAIRA DATASET/val/5/5_26.jpeg', 'NAIRA DATASET/val/5/5_27.jpeg', 'NAIRA DATASET/val/5/5_28.jpeg', 'NAIRA DATASET/val/5/5_3.jpg', 'NAIRA DATASET/val/5/5_4.jpg', 'NAIRA DATASET/val/5/5_5.jpg', 'NAIRA DATASET/val/5/5_6.jpg', 'NAIRA DATASET/val/5/5_7.jpg', 'NAIRA DATASET/val/5/5_8.jpg', 'NAIRA DATASET/val/5/5_9.jpg', 'NAIRA DATASET/val/50/50_1.jpg', 'NAIRA DATASET/val/50/50_10.JPG', 'NAIRA DATASET/val/50/50_11.JPG', 'NAIRA DATASET/val/50/50_12.JPG', 'NAIRA DATASET/val/50/50_13.JPG', 'NAIRA DATASET/val/50/50_14.JPG', 'NAIRA DATASET/val/50/50_15.JPG', 'NAIRA DATASET/val/50/50_16.JPG', 'NAIRA DATASET/val/50/50_17.JPG', 'NAIRA DATASET/val/50/50_18.JPG', 'NAIRA DATASET/val/50/50_19.JPG', 'NAIRA DATASET/val/50/50_2.jpg', 'NAIRA DATASET/val/50/50_20.JPG', 'NAIRA DATASET/val/50/50_21.JPG', 'NAIRA DATASET/val/50/50_22.JPG', 'NAIRA DATASET/val/50/50_23.JPG', 'NAIRA DATASET/val/50/50_24.JPG', 'NAIRA DATASET/val/50/50_25.JPG', 'NAIRA DATASET/val/50/50_26.JPG', 'NAIRA DATASET/val/50/50_27.JPG', 'NAIRA DATASET/val/50/50_28.JPG', 'NAIRA DATASET/val/50/50_3.jpg', 'NAIRA DATASET/val/50/50_4.jpg', 'NAIRA DATASET/val/50/50_5.JPG', 'NAIRA DATASET/val/50/50_6.JPG', 'NAIRA DATASET/val/50/50_7.JPG', 'NAIRA DATASET/val/50/50_8.JPG', 'NAIRA DATASET/val/50/50_9.JPG', 'NAIRA DATASET/val/500/500_1.JPG', 'NAIRA DATASET/val/500/500_10.JPG', 'NAIRA DATASET/val/500/500_11.JPG', 'NAIRA DATASET/val/500/500_12.JPG', 'NAIRA DATASET/val/500/500_13.JPG', 'NAIRA DATASET/val/500/500_14.JPG', 'NAIRA DATASET/val/500/500_15.JPG', 'NAIRA DATASET/val/500/500_16.JPG', 'NAIRA DATASET/val/500/500_17.JPG', 'NAIRA DATASET/val/500/500_18.JPG', 'NAIRA DATASET/val/500/500_19.JPG', 'NAIRA DATASET/val/500/500_2.JPG', 'NAIRA DATASET/val/500/500_20.JPG', 'NAIRA DATASET/val/500/500_21.JPG', 'NAIRA DATASET/val/500/500_22.JPG', 'NAIRA DATASET/val/500/500_23.JPG', 'NAIRA DATASET/val/500/500_24.JPG', 'NAIRA DATASET/val/500/500_25.JPG', 'NAIRA DATASET/val/500/500_26.JPG', 'NAIRA DATASET/val/500/500_27.JPG', 'NAIRA DATASET/val/500/500_28.JPG', 'NAIRA DATASET/val/500/500_3.JPG', 'NAIRA DATASET/val/500/500_4.JPG', 'NAIRA DATASET/val/500/500_5.JPG', 'NAIRA DATASET/val/500/500_6.JPG', 'NAIRA DATASET/val/500/500_7.JPG', 'NAIRA DATASET/val/500/500_8.JPG', 'NAIRA DATASET/val/500/500_9.JPG']\n"
          ]
        }
      ]
    },
    {
      "cell_type": "code",
      "source": [
        "# Specify the path to the zip file and the extraction directory\n",
        "zip_file_path = \"/content/drive/MyDrive/Colab Notebooks/Datasets/Naira_Notes.zip\"\n",
        "extract_dir = \"/content/extracted_files\"  # Corrected path to a directory\n",
        "\n",
        "# Create the extraction directory if it doesn't exist\n",
        "os.makedirs(extract_dir, exist_ok=True)\n",
        "\n",
        "# Unzip the file\n",
        "try:\n",
        "    with zipfile.ZipFile(zip_file_path, 'r') as zip_ref:\n",
        "        zip_ref.extractall(extract_dir)\n",
        "    print(f\"Successfully unzipped {zip_file_path} to {extract_dir}\")\n",
        "except FileNotFoundError:\n",
        "    print(f\"Error: {zip_file_path} not found.\")\n",
        "except zipfile.BadZipFile:\n",
        "    print(f\"Error: {zip_file_path} is not a valid zip file.\")\n",
        "except Exception as e:\n",
        "    print(f\"An unexpected error occurred: {e}\")"
      ],
      "metadata": {
        "colab": {
          "base_uri": "https://localhost:8080/"
        },
        "id": "iz-NgCPAYSG1",
        "outputId": "4511518b-2a0e-453a-add6-c39d274e1008"
      },
      "execution_count": 12,
      "outputs": [
        {
          "output_type": "stream",
          "name": "stdout",
          "text": [
            "Successfully unzipped /content/drive/MyDrive/Colab Notebooks/Datasets/Naira_Notes.zip to /content/extracted_files\n"
          ]
        }
      ]
    },
    {
      "cell_type": "code",
      "source": [
        "Train = '/content/extracted_files/NAIRA DATASET/Train'\n",
        "Test = '/content/extracted_files/NAIRA DATASET/Test'\n",
        "Val = '/content/extracted_files/NAIRA DATASET/val'\n",
        "Train"
      ],
      "metadata": {
        "colab": {
          "base_uri": "https://localhost:8080/",
          "height": 35
        },
        "id": "87a5KKl7YbfQ",
        "outputId": "cb515b70-e8fa-484b-e19e-5981845d2a2d"
      },
      "execution_count": 13,
      "outputs": [
        {
          "output_type": "execute_result",
          "data": {
            "text/plain": [
              "'/content/extracted_files/NAIRA DATASET/Train'"
            ],
            "application/vnd.google.colaboratory.intrinsic+json": {
              "type": "string"
            }
          },
          "metadata": {},
          "execution_count": 13
        }
      ]
    },
    {
      "cell_type": "code",
      "source": [
        "def load_image_paths_and_labels(train_dir):\n",
        "    # Example label mapping (adjust based on actual denominations)\n",
        "    label_mapping = {'5': 0, '10': 1, '20': 2, '50': 3, '100': 4, '200': 5, '500': 6, '1000': 7}\n",
        "    image_paths = []\n",
        "    labels = []\n",
        "    for denom in os.listdir(train_dir):\n",
        "        denom_path = os.path.join(train_dir, denom)\n",
        "        if os.path.isdir(denom_path):\n",
        "            for img_file in os.listdir(denom_path):\n",
        "                image_paths.append(os.path.join(denom_path, img_file))\n",
        "                labels.append(label_mapping[denom])\n",
        "    return image_paths, labels\n",
        "\n",
        "def preprocess_image(image_path, label):\n",
        "    image = tf.io.read_file(image_path)\n",
        "    image = tf.image.decode_jpeg(image, channels=IMG_CHANNELS)\n",
        "    image = tf.image.resize(image, [IMG_HEIGHT, IMG_WIDTH])\n",
        "    image = (image / 127.5) - 1.0  # Normalize to [-1, 1]\n",
        "    return image, tf.expand_dims(label, axis=-1)  # Label shape: [1]\n",
        "\n",
        "def create_dataset(image_paths, labels, batch_size, shuffle=True):\n",
        "    dataset = tf.data.Dataset.from_tensor_slices((image_paths, labels))\n",
        "    dataset = dataset.map(preprocess_image, num_parallel_calls=tf.data.AUTOTUNE)\n",
        "    if shuffle:\n",
        "        dataset = dataset.shuffle(buffer_size=1000)\n",
        "    dataset = dataset.batch(batch_size).prefetch(tf.data.AUTOTUNE)\n",
        "    return dataset\n",
        "\n",
        "# Example usage (replace 'TRAIN_DIR' with actual path)\n",
        "TRAIN_DIR = Train\n",
        "image_paths, labels = load_image_paths_and_labels(TRAIN_DIR)\n",
        "dataset = create_dataset(image_paths, labels, BATCH_SIZE)"
      ],
      "metadata": {
        "id": "0FlpVyflWNy9"
      },
      "execution_count": 14,
      "outputs": []
    },
    {
      "cell_type": "code",
      "source": [
        "@tf.function\n",
        "def train_step(real_images, true_labels):\n",
        "    batch_size = tf.shape(real_images)[0]\n",
        "    noise = tf.random.normal([batch_size, LATENT_DIM])\n",
        "    generated_labels = tf.random.uniform([batch_size, 1], minval=0, maxval=NUM_CLASSES, dtype=tf.int32)\n",
        "\n",
        "    with tf.GradientTape() as gen_tape, tf.GradientTape() as disc_tape:\n",
        "        generated_images = denomination_generator([noise, generated_labels], training=True)\n",
        "        real_output = conditional_discriminator([real_images, true_labels], training=True)\n",
        "        fake_output = conditional_discriminator([generated_images, generated_labels], training=True)\n",
        "        gen_loss = generator_loss(fake_output)\n",
        "        disc_loss = discriminator_loss(real_output, fake_output)\n",
        "\n",
        "    gradients_of_generator = gen_tape.gradient(gen_loss, denomination_generator.trainable_variables)\n",
        "    gradients_of_discriminator = disc_tape.gradient(disc_loss, conditional_discriminator.trainable_variables)\n",
        "\n",
        "    generator_opt.apply_gradients(zip(gradients_of_generator, denomination_generator.trainable_variables))\n",
        "    discriminator_opt.apply_gradients(zip(gradients_of_discriminator, conditional_discriminator.trainable_variables))\n",
        "    return gen_loss, disc_loss"
      ],
      "metadata": {
        "id": "45ictBCkWQr0"
      },
      "execution_count": 15,
      "outputs": []
    },
    {
      "cell_type": "code",
      "source": [
        "# Seed for consistent visualization\n",
        "seed_noise, seed_labels = generate_latent_vector(LATENT_DIM, NUM_EXAMPLES_TO_GENERATE)\n",
        "# Convert seed_noise to a TensorFlow tensor\n",
        "seed_noise = tf.convert_to_tensor(seed_noise, dtype=tf.float32)  # Ensure it's the correct dtype\n",
        "seed_labels = tf.convert_to_tensor(seed_labels)"
      ],
      "metadata": {
        "id": "7zxtp-dHtbSY"
      },
      "execution_count": 16,
      "outputs": []
    },
    {
      "cell_type": "code",
      "source": [
        "def generate_and_save_images(generator, epoch, seed_noise, seed_labels, save_dir='generated_images'):\n",
        "    # Both inputs are now tensors\n",
        "    predictions = generator([seed_noise, seed_labels], training=False)\n",
        "    fig = plt.figure(figsize=(16, 4))\n",
        "    for i in range(predictions.shape[0]):\n",
        "        plt.subplot(2, 8, i+1)\n",
        "        img = (predictions[i] + 1) / 2.0  # Rescale to [0, 1]\n",
        "        plt.imshow(img)\n",
        "        plt.title(f\"Label: {seed_labels[i, 0]}\")\n",
        "        plt.axis('off')\n",
        "    os.makedirs(save_dir, exist_ok=True)\n",
        "    plt.savefig(os.path.join(save_dir, f'epoch_{epoch:04d}.png'))\n",
        "    plt.close()\n",
        "    plt.show()"
      ],
      "metadata": {
        "id": "cfPqpNRetfoO"
      },
      "execution_count": 17,
      "outputs": []
    },
    {
      "cell_type": "code",
      "source": [
        "# Checkpointing setup\n",
        "checkpoint_dir = './checkpoints'\n",
        "checkpoint_prefix = os.path.join(checkpoint_dir, \"ckpt\")\n",
        "checkpoint = tf.train.Checkpoint(generator=denomination_generator,\n",
        "                                 discriminator=conditional_discriminator,\n",
        "                                 generator_opt=generator_opt,\n",
        "                                 discriminator_opt=discriminator_opt)"
      ],
      "metadata": {
        "id": "ebRCF-oqtoL-"
      },
      "execution_count": 18,
      "outputs": []
    },
    {
      "cell_type": "code",
      "source": [
        "def train(dataset, epochs):\n",
        "    for epoch in range(epochs):\n",
        "        start = time.time()\n",
        "        for image_batch, label_batch in dataset:\n",
        "            gen_loss, disc_loss = train_step(image_batch, label_batch)\n",
        "\n",
        "        print(f'Epoch {epoch+1}/{EPOCHS}, '\n",
        "              f'Gen Loss: {gen_loss.numpy():.4f}, '\n",
        "              f'Disc Loss: {disc_loss.numpy():.4f}, '\n",
        "              f'Time: {time.time()-start:.2f} sec')\n",
        "\n",
        "        # Generate and save images\n",
        "        generate_and_save_images(denomination_generator, epoch+1, seed_noise, seed_labels)\n",
        "\n",
        "        # Save checkpoint every 15 epochs\n",
        "        if (epoch + 1) % 15 == 0:\n",
        "            checkpoint.save(file_prefix=checkpoint_prefix)\n",
        "\n",
        "    # Final generation\n",
        "    generate_and_save_images(denomination_generator, epochs, seed_noise, seed_labels)\n",
        "\n",
        "# Run training\n",
        "train(dataset, EPOCHS)"
      ],
      "metadata": {
        "colab": {
          "base_uri": "https://localhost:8080/"
        },
        "id": "RrwUQH8XWVSm",
        "outputId": "b6ba0476-3c5c-4abc-8722-e98e2b9eab7d"
      },
      "execution_count": 27,
      "outputs": [
        {
          "output_type": "stream",
          "name": "stdout",
          "text": [
            "Epoch 1/50, Gen Loss: 1.4705, Disc Loss: 0.8465, Time: 93.23 sec\n",
            "Epoch 2/50, Gen Loss: 0.4547, Disc Loss: 2.2920, Time: 91.84 sec\n",
            "Epoch 3/50, Gen Loss: 1.8158, Disc Loss: 2.2049, Time: 91.84 sec\n",
            "Epoch 4/50, Gen Loss: 0.9516, Disc Loss: 0.9902, Time: 91.35 sec\n",
            "Epoch 5/50, Gen Loss: 1.4816, Disc Loss: 0.6640, Time: 91.24 sec\n",
            "Epoch 6/50, Gen Loss: 0.9983, Disc Loss: 1.4899, Time: 93.04 sec\n",
            "Epoch 7/50, Gen Loss: 1.2769, Disc Loss: 1.0789, Time: 91.08 sec\n",
            "Epoch 8/50, Gen Loss: 1.4112, Disc Loss: 0.9509, Time: 91.39 sec\n",
            "Epoch 9/50, Gen Loss: 1.7794, Disc Loss: 1.1141, Time: 92.33 sec\n",
            "Epoch 10/50, Gen Loss: 2.5922, Disc Loss: 0.7544, Time: 92.82 sec\n",
            "Epoch 11/50, Gen Loss: 1.1397, Disc Loss: 1.0918, Time: 92.56 sec\n",
            "Epoch 12/50, Gen Loss: 2.5257, Disc Loss: 0.2264, Time: 90.64 sec\n",
            "Epoch 13/50, Gen Loss: 0.9487, Disc Loss: 0.9938, Time: 91.21 sec\n",
            "Epoch 14/50, Gen Loss: 2.8451, Disc Loss: 0.7290, Time: 93.13 sec\n",
            "Epoch 15/50, Gen Loss: 1.9553, Disc Loss: 1.3670, Time: 91.38 sec\n",
            "Epoch 16/50, Gen Loss: 3.2772, Disc Loss: 0.4496, Time: 92.02 sec\n",
            "Epoch 17/50, Gen Loss: 1.8629, Disc Loss: 0.7314, Time: 92.85 sec\n",
            "Epoch 18/50, Gen Loss: 1.7719, Disc Loss: 0.7239, Time: 91.88 sec\n",
            "Epoch 19/50, Gen Loss: 1.5691, Disc Loss: 0.8765, Time: 92.68 sec\n",
            "Epoch 20/50, Gen Loss: 1.3198, Disc Loss: 1.5504, Time: 91.08 sec\n",
            "Epoch 21/50, Gen Loss: 1.6503, Disc Loss: 0.9287, Time: 93.27 sec\n",
            "Epoch 22/50, Gen Loss: 1.2895, Disc Loss: 0.6820, Time: 90.72 sec\n",
            "Epoch 23/50, Gen Loss: 1.6151, Disc Loss: 0.3891, Time: 90.59 sec\n",
            "Epoch 24/50, Gen Loss: 3.1390, Disc Loss: 0.5538, Time: 112.37 sec\n",
            "Epoch 25/50, Gen Loss: 2.3007, Disc Loss: 0.3144, Time: 91.58 sec\n",
            "Epoch 26/50, Gen Loss: 2.4356, Disc Loss: 0.5153, Time: 90.83 sec\n",
            "Epoch 27/50, Gen Loss: 3.9088, Disc Loss: 0.9289, Time: 90.47 sec\n",
            "Epoch 28/50, Gen Loss: 2.2859, Disc Loss: 0.9845, Time: 91.65 sec\n",
            "Epoch 29/50, Gen Loss: 3.0601, Disc Loss: 0.7027, Time: 91.25 sec\n",
            "Epoch 30/50, Gen Loss: 1.4488, Disc Loss: 1.2069, Time: 92.91 sec\n",
            "Epoch 31/50, Gen Loss: 3.5672, Disc Loss: 0.7458, Time: 94.44 sec\n",
            "Epoch 32/50, Gen Loss: 2.4882, Disc Loss: 0.6179, Time: 91.46 sec\n",
            "Epoch 33/50, Gen Loss: 1.3075, Disc Loss: 1.2210, Time: 91.65 sec\n",
            "Epoch 34/50, Gen Loss: 1.4291, Disc Loss: 0.7807, Time: 91.14 sec\n",
            "Epoch 35/50, Gen Loss: 4.2649, Disc Loss: 0.5040, Time: 92.06 sec\n",
            "Epoch 36/50, Gen Loss: 3.6549, Disc Loss: 1.1790, Time: 90.84 sec\n",
            "Epoch 37/50, Gen Loss: 1.9083, Disc Loss: 0.9099, Time: 91.23 sec\n",
            "Epoch 38/50, Gen Loss: 2.2172, Disc Loss: 0.9370, Time: 91.42 sec\n",
            "Epoch 39/50, Gen Loss: 1.9881, Disc Loss: 1.7604, Time: 91.04 sec\n",
            "Epoch 40/50, Gen Loss: 3.4151, Disc Loss: 0.3977, Time: 91.81 sec\n",
            "Epoch 41/50, Gen Loss: 0.6470, Disc Loss: 1.3733, Time: 90.85 sec\n",
            "Epoch 42/50, Gen Loss: 2.6266, Disc Loss: 0.8200, Time: 103.15 sec\n",
            "Epoch 43/50, Gen Loss: 2.1021, Disc Loss: 0.9494, Time: 93.09 sec\n",
            "Epoch 44/50, Gen Loss: 0.8599, Disc Loss: 1.1070, Time: 91.27 sec\n",
            "Epoch 45/50, Gen Loss: 3.2557, Disc Loss: 0.7917, Time: 91.45 sec\n",
            "Epoch 46/50, Gen Loss: 3.0731, Disc Loss: 0.7822, Time: 91.73 sec\n",
            "Epoch 47/50, Gen Loss: 2.3699, Disc Loss: 0.3984, Time: 90.07 sec\n",
            "Epoch 48/50, Gen Loss: 2.8841, Disc Loss: 0.6550, Time: 91.99 sec\n",
            "Epoch 49/50, Gen Loss: 2.6269, Disc Loss: 0.9021, Time: 90.05 sec\n",
            "Epoch 50/50, Gen Loss: 1.3426, Disc Loss: 1.3894, Time: 91.44 sec\n"
          ]
        }
      ]
    },
    {
      "cell_type": "code",
      "source": [
        "# Save the model with the .keras extension\n",
        "denomination_generator.save('denomination_generator_model.keras')\n",
        "conditional_discriminator.save('conditional_discriminator_model.keras')\n",
        "\n",
        "# Optionally, you can use the .h5 extension:\n",
        "# denomination_generator.save('denomination_generator_model.h5')\n",
        "# conditional_discriminator.save('conditional_discriminator_model.h5')"
      ],
      "metadata": {
        "id": "-OXxH0-OZ_fq"
      },
      "execution_count": 34,
      "outputs": []
    },
    {
      "cell_type": "code",
      "source": [
        "Test_DIR = Test\n",
        "Test_image_paths, Test_labels = load_image_paths_and_labels(Test_DIR)\n",
        "Test_dataset = create_dataset(Test_image_paths, Test_labels, BATCH_SIZE)"
      ],
      "metadata": {
        "id": "rLSIyVr1Gdjf"
      },
      "execution_count": 28,
      "outputs": []
    },
    {
      "cell_type": "code",
      "source": [
        "from sklearn.metrics import accuracy_score, precision_score, recall_score, f1_score"
      ],
      "metadata": {
        "id": "h6wmrd-OTf6f"
      },
      "execution_count": 30,
      "outputs": []
    },
    {
      "cell_type": "code",
      "source": [
        "# Initialize lists to collect predictions and labels\n",
        "real_predictions = []\n",
        "real_true_labels = []\n",
        "\n",
        "# Get predictions on real images from Test_dataset\n",
        "for images, denom_labels in Test_dataset:\n",
        "    preds = conditional_discriminator.predict([images, denom_labels])  # Shape: (batch_size, 1)\n",
        "    real_predictions.append(preds)  # Keep as 2D\n",
        "    real_true_labels.extend([1] * images.shape[0])  # Label 1 for real images\n",
        "\n",
        "# Stack real predictions into a single 2D array\n",
        "real_predictions = np.vstack(real_predictions)  # Shape: (total_real_samples, 1)\n",
        "\n",
        "# Generate fake images (adjust n_fake and parameters as per your setup)\n",
        "n_fake = len(Test_image_paths)  # Example: match number of real images\n",
        "noise = tf.random.normal([n_fake, LATENT_DIM])  # LATENT_DIM should be defined\n",
        "fake_denom_labels = tf.random.uniform([n_fake, 1], minval=0, maxval=NUM_CLASSES, dtype=tf.int32)  # NUM_CLASSES should be defined\n",
        "fake_images = denomination_generator.predict([noise, fake_denom_labels])"
      ],
      "metadata": {
        "id": "_4dd61uKTkmn",
        "outputId": "991d9431-6d7a-444b-8216-0868e0871159",
        "colab": {
          "base_uri": "https://localhost:8080/"
        }
      },
      "execution_count": 31,
      "outputs": [
        {
          "output_type": "stream",
          "name": "stdout",
          "text": [
            "\u001b[1m2/2\u001b[0m \u001b[32m━━━━━━━━━━━━━━━━━━━━\u001b[0m\u001b[37m\u001b[0m \u001b[1m0s\u001b[0m 32ms/step\n",
            "\u001b[1m1/1\u001b[0m \u001b[32m━━━━━━━━━━━━━━━━━━━━\u001b[0m\u001b[37m\u001b[0m \u001b[1m0s\u001b[0m 46ms/step\n",
            "\u001b[1m3/3\u001b[0m \u001b[32m━━━━━━━━━━━━━━━━━━━━\u001b[0m\u001b[37m\u001b[0m \u001b[1m1s\u001b[0m 300ms/step\n"
          ]
        }
      ]
    },
    {
      "cell_type": "code",
      "source": [
        "# Get predictions on fake images\n",
        "fake_predictions = conditional_discriminator.predict([fake_images, fake_denom_labels])  # Shape: (n_fake, 1)\n",
        "fake_true_labels = [0] * n_fake  # Label 0 for fake images\n",
        "\n",
        "# Combine predictions and true labels\n",
        "all_predictions = np.concatenate([real_predictions, fake_predictions], axis=0)  # Shape: (total_samples, 1)\n",
        "all_true_labels = np.array(real_true_labels + fake_true_labels)  # Shape: (total_samples,)\n",
        "\n",
        "# Convert predictions to binary classes (0 or 1)\n",
        "predicted_classes = (all_predictions > 0.5).astype(int).flatten()  # Shape: (total_samples,)\n",
        "\n",
        "# Calculate evaluation metrics\n",
        "accuracy = accuracy_score(all_true_labels, predicted_classes)\n",
        "precision = precision_score(all_true_labels, predicted_classes)\n",
        "recall = recall_score(all_true_labels, predicted_classes)\n",
        "f1 = f1_score(all_true_labels, predicted_classes)\n",
        "\n",
        "# Print results\n",
        "print(f\"Accuracy: {accuracy:.4f}\")\n",
        "print(f\"Precision: {precision:.4f}\")\n",
        "print(f\"Recall: {recall:.4f}\")\n",
        "print(f\"F1-Score: {f1:.4f}\")"
      ],
      "metadata": {
        "id": "Cje3euJ8FACK",
        "outputId": "d5074645-f7cc-4b2d-a3fb-fc6a472d3d74",
        "colab": {
          "base_uri": "https://localhost:8080/"
        }
      },
      "execution_count": 29,
      "outputs": [
        {
          "output_type": "stream",
          "name": "stdout",
          "text": [
            "\u001b[1m2/2\u001b[0m \u001b[32m━━━━━━━━━━━━━━━━━━━━\u001b[0m\u001b[37m\u001b[0m \u001b[1m0s\u001b[0m 49ms/step\n",
            "\u001b[1m1/1\u001b[0m \u001b[32m━━━━━━━━━━━━━━━━━━━━\u001b[0m\u001b[37m\u001b[0m \u001b[1m0s\u001b[0m 75ms/step\n",
            "\u001b[1m3/3\u001b[0m \u001b[32m━━━━━━━━━━━━━━━━━━━━\u001b[0m\u001b[37m\u001b[0m \u001b[1m2s\u001b[0m 699ms/step\n",
            "\u001b[1m3/3\u001b[0m \u001b[32m━━━━━━━━━━━━━━━━━━━━\u001b[0m\u001b[37m\u001b[0m \u001b[1m0s\u001b[0m 23ms/step\n",
            "Accuracy: 0.9667\n",
            "Precision: 1.0000\n",
            "Recall: 0.9333\n",
            "F1-Score: 0.9655\n"
          ]
        }
      ]
    },
    {
      "cell_type": "code",
      "source": [
        "cm = confusion_matrix(true_labels, predictions)\n",
        "sns.heatmap(cm, annot=True, fmt='d', cmap='Blues',\n",
        "            xticklabels=['Fake', 'Genuine'], yticklabels=['Fake', 'Genuine'])\n",
        "plt.xlabel('Predicted')\n",
        "plt.ylabel('True')\n",
        "plt.title('Confusion Matrix')\n",
        "plt.show()"
      ],
      "metadata": {
        "id": "oICtEypEWATN",
        "outputId": "05ed1365-c3b1-46cb-d9ac-6019de03e420",
        "colab": {
          "base_uri": "https://localhost:8080/",
          "height": 472
        }
      },
      "execution_count": 32,
      "outputs": [
        {
          "output_type": "display_data",
          "data": {
            "text/plain": [
              "<Figure size 640x480 with 2 Axes>"
            ],
            "image/png": "[encoded data removed]"
          },
          "metadata": {}
        }
      ]
    }
  ]
}